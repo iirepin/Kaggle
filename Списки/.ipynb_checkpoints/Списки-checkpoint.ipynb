{
 "cells": [
  {
   "cell_type": "markdown",
   "id": "8514a6af",
   "metadata": {},
   "source": [
    "# Списки\n",
    "Списки в Python представляют собой упорядоченные последовательности значений. Вот пример того, как их создать:"
   ]
  },
  {
   "cell_type": "code",
   "execution_count": 2,
   "id": "45abf482",
   "metadata": {},
   "outputs": [],
   "source": [
    "primes = [2, 3, 5, 7]"
   ]
  },
  {
   "cell_type": "markdown",
   "id": "5a776ceb",
   "metadata": {},
   "source": [
    "Мы можем добавлять в списки другие типы вещей:"
   ]
  },
  {
   "cell_type": "code",
   "execution_count": 3,
   "id": "5fbc61b3",
   "metadata": {},
   "outputs": [],
   "source": [
    "planets = ['Mercury', 'Venus', 'Earth', 'Mars', 'Jupiter', 'Saturn', 'Uranus', 'Neptune']"
   ]
  },
  {
   "cell_type": "markdown",
   "id": "1007077e",
   "metadata": {},
   "source": [
    "Мы даже можем составить список списков:"
   ]
  },
  {
   "cell_type": "code",
   "execution_count": null,
   "id": "a42326b8",
   "metadata": {},
   "outputs": [],
   "source": [
    "hands = [\n",
    "    ['J', 'Q', 'K'],\n",
    "    ['2', '2', '2'],\n",
    "    ['6', 'A', 'K'], # (Запятая после последнего элемента необязательна)\n",
    "]\n",
    "# (Я мог бы также написать это в одной строке, но это может быть трудно прочитать)\n",
    "hands = [['J', 'Q', 'K'], ['2', '2', '2'], ['6', 'A', 'K']]"
   ]
  },
  {
   "cell_type": "markdown",
   "id": "1914c411",
   "metadata": {},
   "source": [
    "Список может содержать сочетание различных типов переменных:"
   ]
  },
  {
   "cell_type": "code",
   "execution_count": null,
   "id": "a7d0d6a5",
   "metadata": {},
   "outputs": [],
   "source": [
    "my_favourite_things = [32, 'капли дождя на розах', help]\n",
    "# (Да, справочная функция Python определенно является одной из моих любимых)"
   ]
  },
  {
   "cell_type": "markdown",
   "id": "bd617b0e",
   "metadata": {},
   "source": [
    "# Индексация\n",
    "Вы можете получить доступ к отдельным элементам списка, заключив их в квадратные скобки.\n",
    "\n",
    "Какая планета находится ближе всего к Солнцу? В Python используется индексация на основе нуля, поэтому первый элемент имеет индекс 0."
   ]
  },
  {
   "cell_type": "code",
   "execution_count": 4,
   "id": "2d64bc03",
   "metadata": {},
   "outputs": [
    {
     "data": {
      "text/plain": [
       "'Mercury'"
      ]
     },
     "execution_count": 4,
     "metadata": {},
     "output_type": "execute_result"
    }
   ],
   "source": [
    "planets[0]"
   ]
  },
  {
   "cell_type": "markdown",
   "id": "39f69991",
   "metadata": {},
   "source": [
    "Какая следующая ближайшая планета?"
   ]
  },
  {
   "cell_type": "code",
   "execution_count": 5,
   "id": "429d6fd9",
   "metadata": {},
   "outputs": [
    {
     "data": {
      "text/plain": [
       "'Venus'"
      ]
     },
     "execution_count": 5,
     "metadata": {},
     "output_type": "execute_result"
    }
   ],
   "source": [
    "planets[1]"
   ]
  },
  {
   "cell_type": "markdown",
   "id": "32908c19",
   "metadata": {},
   "source": [
    "Какая планета находится дальше всего от Солнца?\n",
    "\n",
    "К элементам в конце списка можно получить доступ с отрицательными числами, начиная с -1:"
   ]
  },
  {
   "cell_type": "code",
   "execution_count": 6,
   "id": "2280905a",
   "metadata": {},
   "outputs": [
    {
     "data": {
      "text/plain": [
       "'Neptune'"
      ]
     },
     "execution_count": 6,
     "metadata": {},
     "output_type": "execute_result"
    }
   ],
   "source": [
    "planets[-1]"
   ]
  },
  {
   "cell_type": "code",
   "execution_count": 7,
   "id": "64ee2029",
   "metadata": {},
   "outputs": [
    {
     "data": {
      "text/plain": [
       "'Uranus'"
      ]
     },
     "execution_count": 7,
     "metadata": {},
     "output_type": "execute_result"
    }
   ],
   "source": [
    "planets[-2]"
   ]
  },
  {
   "cell_type": "markdown",
   "id": "9aafa2f4",
   "metadata": {},
   "source": [
    "# Нарезка¶\n",
    "Каковы первые три планеты? Мы можем ответить на этот вопрос, используя нарезку:"
   ]
  },
  {
   "cell_type": "code",
   "execution_count": 8,
   "id": "44ffb097",
   "metadata": {},
   "outputs": [
    {
     "data": {
      "text/plain": [
       "['Mercury', 'Venus', 'Earth']"
      ]
     },
     "execution_count": 8,
     "metadata": {},
     "output_type": "execute_result"
    }
   ],
   "source": [
    "planets[0:3]"
   ]
  },
  {
   "cell_type": "markdown",
   "id": "3bf82b5d",
   "metadata": {},
   "source": [
    "планеты[0:3] - это наш способ запроса элементов планет, начиная с индекса 0 и продолжая до индекса 3, но не включая его.\n",
    "\n",
    "Начальный и конечный индексы необязательны. Если я не указываю начальный индекс, предполагается, что он равен 0. Таким образом, я мог бы переписать приведенное выше выражение следующим образом:"
   ]
  },
  {
   "cell_type": "code",
   "execution_count": 9,
   "id": "aed0bfd8",
   "metadata": {},
   "outputs": [
    {
     "data": {
      "text/plain": [
       "['Mercury', 'Venus', 'Earth']"
      ]
     },
     "execution_count": 9,
     "metadata": {},
     "output_type": "execute_result"
    }
   ],
   "source": [
    "planets[:3]"
   ]
  },
  {
   "cell_type": "markdown",
   "id": "2069f97d",
   "metadata": {},
   "source": [
    "Если я опущу конечный индекс, то предполагается, что это длина списка."
   ]
  },
  {
   "cell_type": "code",
   "execution_count": 10,
   "id": "1a108441",
   "metadata": {},
   "outputs": [
    {
     "data": {
      "text/plain": [
       "['Mars', 'Jupiter', 'Saturn', 'Uranus', 'Neptune']"
      ]
     },
     "execution_count": 10,
     "metadata": {},
     "output_type": "execute_result"
    }
   ],
   "source": [
    "planets[3:]"
   ]
  },
  {
   "cell_type": "markdown",
   "id": "2ae5f092",
   "metadata": {},
   "source": [
    "т.е. приведенное выше выражение означает \"дайте мне все планеты, начиная с индекса 3 и далее\".\n",
    "\n",
    "Мы также можем использовать отрицательные индексы при нарезке:"
   ]
  },
  {
   "cell_type": "code",
   "execution_count": 11,
   "id": "5aed632d",
   "metadata": {},
   "outputs": [
    {
     "data": {
      "text/plain": [
       "['Venus', 'Earth', 'Mars', 'Jupiter', 'Saturn', 'Uranus']"
      ]
     },
     "execution_count": 11,
     "metadata": {},
     "output_type": "execute_result"
    }
   ],
   "source": [
    "# Все планеты, кроме первой и последней\n",
    "planets[1:-1]"
   ]
  },
  {
   "cell_type": "code",
   "execution_count": 12,
   "id": "7b2004f0",
   "metadata": {},
   "outputs": [
    {
     "data": {
      "text/plain": [
       "['Saturn', 'Uranus', 'Neptune']"
      ]
     },
     "execution_count": 12,
     "metadata": {},
     "output_type": "execute_result"
    }
   ],
   "source": [
    "# Последние 3 планеты\n",
    "planets[-3:]"
   ]
  },
  {
   "cell_type": "markdown",
   "id": "bad2c137",
   "metadata": {},
   "source": [
    "# Изменяемые списки¶\n",
    "Списки \"изменяемы\", что означает, что их можно изменять \"на месте\".\n",
    "\n",
    "Один из способов изменить список - это присвоить индексу или выражению среза.\n",
    "\n",
    "Например, предположим, что мы хотим переименовать Марс:"
   ]
  },
  {
   "cell_type": "code",
   "execution_count": 13,
   "id": "756868c2",
   "metadata": {},
   "outputs": [
    {
     "data": {
      "text/plain": [
       "['Mercury',\n",
       " 'Venus',\n",
       " 'Earth',\n",
       " 'Malacandra',\n",
       " 'Jupiter',\n",
       " 'Saturn',\n",
       " 'Uranus',\n",
       " 'Neptune']"
      ]
     },
     "execution_count": 13,
     "metadata": {},
     "output_type": "execute_result"
    }
   ],
   "source": [
    "planets[3] = 'Malacandra'\n",
    "planets"
   ]
  },
  {
   "cell_type": "markdown",
   "id": "d468ec08",
   "metadata": {},
   "source": [
    "Хм, это довольно многословно. Давайте компенсируем это сокращением названий первых трех планет."
   ]
  },
  {
   "cell_type": "code",
   "execution_count": 14,
   "id": "83eee4c9",
   "metadata": {},
   "outputs": [
    {
     "name": "stdout",
     "output_type": "stream",
     "text": [
      "['Mur', 'Vee', 'Ur', 'Malacandra', 'Jupiter', 'Saturn', 'Uranus', 'Neptune']\n"
     ]
    }
   ],
   "source": [
    "planets[:3] = ['Mur', 'Vee', 'Ur']\n",
    "print(planets)\n",
    "# Это было глупо. Давайте вернем им их старые имена\n",
    "planets[:4] = ['Mercury', 'Venus', 'Earth', 'Mars',]"
   ]
  },
  {
   "cell_type": "markdown",
   "id": "ea2e2f8a",
   "metadata": {},
   "source": [
    "# Функции списка\n",
    "В Python есть несколько полезных функций для работы со списками.\n",
    "\n",
    "len определяет длину списка:"
   ]
  },
  {
   "cell_type": "code",
   "execution_count": 17,
   "id": "ef74ff76",
   "metadata": {},
   "outputs": [
    {
     "data": {
      "text/plain": [
       "8"
      ]
     },
     "execution_count": 17,
     "metadata": {},
     "output_type": "execute_result"
    }
   ],
   "source": [
    "# Сколько всего существует планет?\n",
    "len(planets)"
   ]
  },
  {
   "cell_type": "markdown",
   "id": "099c4fa1",
   "metadata": {},
   "source": [
    "sorted возвращает отсортированную версию списка:"
   ]
  },
  {
   "cell_type": "code",
   "execution_count": 18,
   "id": "f4061516",
   "metadata": {},
   "outputs": [
    {
     "data": {
      "text/plain": [
       "['Earth', 'Jupiter', 'Mars', 'Mercury', 'Neptune', 'Saturn', 'Uranus', 'Venus']"
      ]
     },
     "execution_count": 18,
     "metadata": {},
     "output_type": "execute_result"
    }
   ],
   "source": [
    "# Планеты отсортированы в алфавитном порядке\n",
    "sorted(planets)"
   ]
  },
  {
   "cell_type": "markdown",
   "id": "2de48e3d",
   "metadata": {},
   "source": [
    "sum делает то, что вы могли бы ожидать:"
   ]
  },
  {
   "cell_type": "code",
   "execution_count": 19,
   "id": "68c235d5",
   "metadata": {},
   "outputs": [
    {
     "data": {
      "text/plain": [
       "17"
      ]
     },
     "execution_count": 19,
     "metadata": {},
     "output_type": "execute_result"
    }
   ],
   "source": [
    "primes = [2, 3, 5, 7]\n",
    "sum(primes)"
   ]
  },
  {
   "cell_type": "markdown",
   "id": "a01065da",
   "metadata": {},
   "source": [
    "Ранее мы использовали значения min и max для получения минимального или максимального значения из нескольких аргументов. Но мы также можем передать один аргумент в виде списка."
   ]
  },
  {
   "cell_type": "code",
   "execution_count": 20,
   "id": "e9587b13",
   "metadata": {},
   "outputs": [
    {
     "data": {
      "text/plain": [
       "7"
      ]
     },
     "execution_count": 20,
     "metadata": {},
     "output_type": "execute_result"
    }
   ],
   "source": [
    "max(primes)"
   ]
  },
  {
   "cell_type": "markdown",
   "id": "1f507008",
   "metadata": {},
   "source": [
    "Интерлюдия: объекты\n",
    "До сих пор я часто использовал термин \"object\" - возможно, вы даже читали, что в Python все является объектом. Что это значит?\n",
    "\n",
    "Короче говоря, объекты переносят некоторые вещи с собой. Вы получаете доступ к этим вещам, используя точечный синтаксис Python.\n",
    "\n",
    "Например, с числами в Python связана переменная image, представляющая их мнимую часть. (Вам, вероятно, никогда не понадобится использовать это, если только вы не занимаетесь какой-нибудь очень странной математикой)."
   ]
  },
  {
   "cell_type": "code",
   "execution_count": 21,
   "id": "035f733c",
   "metadata": {},
   "outputs": [
    {
     "name": "stdout",
     "output_type": "stream",
     "text": [
      "0\n",
      "3.0\n"
     ]
    }
   ],
   "source": [
    "x = 12\n",
    "# x - действительное число, поэтому его мнимая часть равна 0.\n",
    "print(x.imag)\n",
    "# Here's how to make a complex number, in case you've ever been curious:\n",
    "c = 12 + 3j\n",
    "print(c.imag)"
   ]
  },
  {
   "cell_type": "code",
   "execution_count": null,
   "id": "8c863ec9",
   "metadata": {},
   "outputs": [],
   "source": [
    "I have an umbrella...\n",
    "or if the rain isn't too heavy and I have a hood...\n",
    "otherwise, I'm still fine unless it's raining and it's a workday"
   ]
  },
  {
   "cell_type": "code",
   "execution_count": null,
   "id": "1802f9b0",
   "metadata": {},
   "outputs": [],
   "source": []
  },
  {
   "cell_type": "code",
   "execution_count": null,
   "id": "990b4336",
   "metadata": {},
   "outputs": [],
   "source": []
  },
  {
   "cell_type": "code",
   "execution_count": null,
   "id": "3ec215f8",
   "metadata": {},
   "outputs": [],
   "source": []
  },
  {
   "cell_type": "code",
   "execution_count": null,
   "id": "26aadbb4",
   "metadata": {},
   "outputs": [],
   "source": []
  },
  {
   "cell_type": "code",
   "execution_count": null,
   "id": "0b118672",
   "metadata": {},
   "outputs": [],
   "source": []
  },
  {
   "cell_type": "code",
   "execution_count": null,
   "id": "4bc37709",
   "metadata": {},
   "outputs": [],
   "source": []
  },
  {
   "cell_type": "code",
   "execution_count": null,
   "id": "48faafd4",
   "metadata": {},
   "outputs": [],
   "source": []
  },
  {
   "cell_type": "code",
   "execution_count": null,
   "id": "08527beb",
   "metadata": {},
   "outputs": [],
   "source": []
  },
  {
   "cell_type": "code",
   "execution_count": null,
   "id": "e28bdc54",
   "metadata": {},
   "outputs": [],
   "source": []
  }
 ],
 "metadata": {
  "kernelspec": {
   "display_name": "Python 3 (ipykernel)",
   "language": "python",
   "name": "python3"
  },
  "language_info": {
   "codemirror_mode": {
    "name": "ipython",
    "version": 3
   },
   "file_extension": ".py",
   "mimetype": "text/x-python",
   "name": "python",
   "nbconvert_exporter": "python",
   "pygments_lexer": "ipython3",
   "version": "3.9.12"
  }
 },
 "nbformat": 4,
 "nbformat_minor": 5
}
