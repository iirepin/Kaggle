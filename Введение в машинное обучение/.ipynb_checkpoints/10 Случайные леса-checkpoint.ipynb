{
 "cells": [
  {
   "cell_type": "markdown",
   "id": "25a354a6",
   "metadata": {},
   "source": [
    "# Случайные леса\n",
    "С использованием более сложного алгоритма машинного обучения."
   ]
  },
  {
   "cell_type": "markdown",
   "id": "71661cb1",
   "metadata": {},
   "source": [
    "# Вступление\n",
    "Деревья принятия решений ставят вас перед трудным выбором. Глубокое дерево с большим количеством листьев будет более подходящим, потому что каждое предсказание основывается на исторических данных только о нескольких домах, расположенных на его листьях. Но неглубокое дерево с небольшим количеством листьев будет работать плохо, потому что оно не сможет отразить как можно больше различий в исходных данных.\n",
    "\n",
    "Даже самые современные методы моделирования сталкиваются с противоречием между недостаточной и избыточной адаптацией. Однако во многих моделях есть умные идеи, которые могут привести к повышению производительности. В качестве примера мы рассмотрим случайный лес.\n",
    "\n",
    "Случайный лес использует множество деревьев и делает прогноз путем усреднения прогнозов каждого компонента дерева. Как правило, он обладает гораздо большей точностью прогнозирования, чем одно дерево решений, и хорошо работает с параметрами по умолчанию. Если вы продолжите моделировать, то сможете изучить больше моделей с еще более высокой производительностью, но многие из них чувствительны к получению правильных параметров.\n",
    "\n",
    "# Пример\n",
    "Вы уже несколько раз видели код для загрузки данных. В конце загрузки данных у нас есть следующие переменные:\n",
    "\n",
    "train_X\n",
    "val_X\n",
    "train_y\n",
    "val_y"
   ]
  },
  {
   "cell_type": "code",
   "execution_count": null,
   "id": "07cd61bc",
   "metadata": {},
   "outputs": [],
   "source": [
    "import pandas as pd\n",
    "    \n",
    "# Загрузить данные\n",
    "melbourne_file_path = '../input/melbourne-housing-snapshot/melb_data.csv'\n",
    "melbourne_data = pd.read_csv(melbourne_file_path) \n",
    "# Отфильтровать строки с пропущенными значениями\n",
    "melbourne_data = melbourne_data.dropna(axis=0)\n",
    "# Выберите цель и функции\n",
    "y = melbourne_data.Price\n",
    "melbourne_features = ['Rooms', 'Bathroom', 'Landsize', 'BuildingArea', \n",
    "                        'YearBuilt', 'Lattitude', 'Longtitude']\n",
    "X = melbourne_data[melbourne_features]\n",
    "\n",
    "from sklearn.model_selection import train_test_split\n",
    "\n",
    "# разделить данные на обучающие и проверочные, как для функций, так и для целевых объектов\n",
    "# Разделение основано на генераторе случайных чисел. Ввод числового значения в\n",
    "# аргумент random_state гарантирует, что мы получим одинаковое разделение при каждом запуске\n",
    "# этого скрипта.\n",
    "train_X, val_X, train_y, val_y = train_test_split(X, y,random_state = 0)"
   ]
  },
  {
   "cell_type": "markdown",
   "id": "829c7567",
   "metadata": {},
   "source": [
    "Мы создаем модель случайного леса аналогично тому, как мы строили дерево решений в scikit-learn - на этот раз используя класс RandomForestRegressor вместо DecisionTreeRegressor."
   ]
  },
  {
   "cell_type": "code",
   "execution_count": null,
   "id": "58543124",
   "metadata": {},
   "outputs": [],
   "source": [
    "from sklearn.ensemble import RandomForestRegressor\n",
    "from sklearn.metrics import mean_absolute_error\n",
    "\n",
    "forest_model = RandomForestRegressor(random_state=1)\n",
    "forest_model.fit(train_X, train_y)\n",
    "melb_preds = forest_model.predict(val_X)\n",
    "print(mean_absolute_error(val_y, melb_preds))"
   ]
  },
  {
   "cell_type": "markdown",
   "id": "abf1847c",
   "metadata": {},
   "source": [
    "# Вывод¶\n",
    "Вероятно, есть возможности для дальнейшего улучшения, но это значительное улучшение по сравнению с ошибкой наилучшего дерева решений, равной 250 000. Существуют параметры, которые позволяют изменять производительность случайного леса так же, как мы изменяли максимальную глубину одиночного дерева решений. Но одна из лучших особенностей моделей случайных лесов заключается в том, что они, как правило, работают разумно даже без такой настройки.\n",
    "\n",
    "# ваш ход\n",
    "Попробуйте сами использовать модель случайного леса и посмотрите, насколько это улучшит вашу модель."
   ]
  }
 ],
 "metadata": {
  "kernelspec": {
   "display_name": "Python 3 (ipykernel)",
   "language": "python",
   "name": "python3"
  },
  "language_info": {
   "codemirror_mode": {
    "name": "ipython",
    "version": 3
   },
   "file_extension": ".py",
   "mimetype": "text/x-python",
   "name": "python",
   "nbconvert_exporter": "python",
   "pygments_lexer": "ipython3",
   "version": "3.9.12"
  }
 },
 "nbformat": 4,
 "nbformat_minor": 5
}
