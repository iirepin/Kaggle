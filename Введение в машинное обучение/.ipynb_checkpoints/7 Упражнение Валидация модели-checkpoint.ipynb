{
 "cells": [
  {
   "cell_type": "markdown",
   "id": "17186e69",
   "metadata": {},
   "source": [
    "Эта тетрадь представляет собой упражнение из курса \"Введение в машинное обучение\". Вы можете ознакомиться с учебным пособием по этой ссылке."
   ]
  },
  {
   "cell_type": "markdown",
   "id": "a0375391",
   "metadata": {},
   "source": [
    "# Резюмировать\n",
    "\n",
    "Вы создали модель. В этом упражнении вы проверите, насколько хороша ваша модель.\n",
    "\n",
    "Запустите приведенную ниже ячейку, чтобы настроить среду программирования с того места, на котором остановились в предыдущем упражнении."
   ]
  },
  {
   "cell_type": "code",
   "execution_count": null,
   "id": "9e40fcb0",
   "metadata": {},
   "outputs": [],
   "source": [
    "# Код, который вы ранее использовали для загрузки данных\n",
    "import pandas as pd\n",
    "from sklearn.tree import DecisionTreeRegressor\n",
    "\n",
    "# Путь к файлу для чтения\n",
    "iowa_file_path = '../input/home-data-for-ml-course/train.csv'\n",
    "\n",
    "home_data = pd.read_csv(iowa_file_path)\n",
    "y = home_data.SalePrice\n",
    "feature_columns = ['LotArea', 'YearBuilt', '1stFlrSF', '2ndFlrSF', 'FullBath', 'BedroomAbvGr', 'TotRmsAbvGrd']\n",
    "X = home_data[feature_columns]\n",
    "\n",
    "# Укажите модель\n",
    "iowa_model = DecisionTreeRegressor()\n",
    "# Подходящая модель\n",
    "iowa_model.fit(X, y)\n",
    "\n",
    "print(\"First in-sample predictions:\", iowa_model.predict(X.head()))\n",
    "print(\"Actual target values for those homes:\", y.head().tolist())\n",
    "\n",
    "# Настройка проверки кода\n",
    "from learntools.core import binder\n",
    "binder.bind(globals())\n",
    "from learntools.machine_learning.ex4 import *\n",
    "print(\"Setup Complete\")"
   ]
  },
  {
   "cell_type": "markdown",
   "id": "be0030cd",
   "metadata": {},
   "source": [
    "# Упражнения\n",
    "\n",
    "# Шаг 1: Разделите ваши данные\n",
    "\n",
    "Используйте функцию train_test_split для разделения ваших данных.\n",
    "\n",
    "Задайте ей аргумент random_state=1, чтобы функции проверки знали, чего ожидать при проверке вашего кода.\n",
    "\n",
    "Напомним, что ваши объекты загружаются во фрейм данных X, а ваша цель загружается в ваш."
   ]
  },
  {
   "cell_type": "code",
   "execution_count": null,
   "id": "1501ff6f",
   "metadata": {},
   "outputs": [],
   "source": [
    "# Импортировать функцию train_test_split и раскомментировать\n",
    "# из _ import _\n",
    "\n",
    "# заполнить и раскомментировать\n",
    "# train_X, val_X, train_y, val_y = ____"
   ]
  },
  {
   "cell_type": "markdown",
   "id": "c46cd8c8",
   "metadata": {},
   "source": [
    "# Шаг 2: Укажите и подгоните модель\n",
    "\n",
    "Создайте модель DecisionTreeRegressor и подгоните ее к соответствующим данным. При создании модели снова установите значение random_state равным 1."
   ]
  },
  {
   "cell_type": "code",
   "execution_count": null,
   "id": "d023cfe7",
   "metadata": {},
   "outputs": [],
   "source": [
    "# Вы импортировали DecisionTreeRegressor в своем последнем упражнении\n",
    "# и этот код был скопирован в код настройки, приведенный выше. Поэтому нет необходимости\n",
    "# импортировать его снова\n",
    "\n",
    "# Укажите модель\n",
    "iowa_model = ____\n",
    "\n",
    "# Сопоставьте iowa_model с данными обучения.\n",
    "____"
   ]
  },
  {
   "cell_type": "markdown",
   "id": "2e8cbc94",
   "metadata": {},
   "source": [
    "# Шаг 3: Делайте прогнозы с использованием проверочных данных"
   ]
  },
  {
   "cell_type": "code",
   "execution_count": null,
   "id": "819feece",
   "metadata": {},
   "outputs": [],
   "source": [
    "# Прогнозирование с учетом всех валидационных наблюдений\n",
    "val_predictions = ____"
   ]
  },
  {
   "cell_type": "markdown",
   "id": "9f4d1da8",
   "metadata": {},
   "source": [
    "Проверьте свои прогнозы и фактические значения на основе данных проверки."
   ]
  },
  {
   "cell_type": "code",
   "execution_count": null,
   "id": "7b497b44",
   "metadata": {},
   "outputs": [],
   "source": [
    "# распечатайте несколько лучших прогнозов для проверки\n",
    "print(____)\n",
    "# распечатайте несколько лучших фактических цен на основе данных проверки\n",
    "print(____)"
   ]
  },
  {
   "cell_type": "markdown",
   "id": "90cfd908",
   "metadata": {},
   "source": [
    "Что вы заметили, что отличается от того, что вы видели в выборочных предсказаниях (которые напечатаны после верхней ячейки кода на этой странице).\n",
    "\n",
    "Помните ли вы, чем прогнозы проверки отличаются от прогнозов, полученных в выборке (или в процессе обучения)? Это важная идея из предыдущего урока.\n",
    "\n",
    "# Шаг 4: Вычислите среднюю абсолютную погрешность в данных проверки"
   ]
  },
  {
   "cell_type": "code",
   "execution_count": null,
   "id": "0d1fa237",
   "metadata": {},
   "outputs": [],
   "source": [
    "from sklearn.metrics import mean_absolute_error\n",
    "val_mae = ____\n",
    "\n",
    "# раскомментируйте следующую строку, чтобы увидеть validation_mae\n",
    "#напечатать(val_mae)"
   ]
  },
  {
   "cell_type": "markdown",
   "id": "33d2c022",
   "metadata": {},
   "source": [
    "Это действительно хорошо? Не существует общего правила для определения того, какие значения являются хорошими, которое применялось бы в разных приложениях. Но на следующем шаге вы увидите, как использовать (и улучшить) это число.\n",
    "\n",
    "# продолжай\n",
    "\n",
    "Вы готовы к недостаточному и избыточному оснащению."
   ]
  }
 ],
 "metadata": {
  "kernelspec": {
   "display_name": "Python 3 (ipykernel)",
   "language": "python",
   "name": "python3"
  },
  "language_info": {
   "codemirror_mode": {
    "name": "ipython",
    "version": 3
   },
   "file_extension": ".py",
   "mimetype": "text/x-python",
   "name": "python",
   "nbconvert_exporter": "python",
   "pygments_lexer": "ipython3",
   "version": "3.9.12"
  }
 },
 "nbformat": 4,
 "nbformat_minor": 5
}
