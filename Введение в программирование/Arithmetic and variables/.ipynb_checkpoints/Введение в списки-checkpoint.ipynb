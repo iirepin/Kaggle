{
 "cells": [
  {
   "cell_type": "markdown",
   "id": "6f679eee",
   "metadata": {},
   "source": [
    "# Введение к спискам\n",
    "Организуйте свои данные таким образом, чтобы вы могли эффективно с ними работать."
   ]
  },
  {
   "cell_type": "markdown",
   "id": "3dc35d21",
   "metadata": {},
   "source": [
    "# Вступление\n",
    "Когда вы занимаетесь наукой о данных, вам нужен способ организовать свои данные, чтобы вы могли эффективно с ними работать. В Python доступно множество структур данных для хранения ваших данных, таких как списки, наборы, словари и кортежи. В этом руководстве вы узнаете, как работать со списками Python.\n",
    "\n",
    "# Мотивация\n",
    "В конкурсе \"От лепестка к металлу\" ваша цель - классифицировать виды цветка, основываясь только на его изображении. (Это обычная задача в компьютерном зрении, и она называется классификацией изображений.) Для достижения этой цели, скажем, вы упорядочиваете названия видов цветов в данных.\n",
    "\n",
    "Один из способов сделать это - упорядочить имена в строке Python."
   ]
  },
  {
   "cell_type": "code",
   "execution_count": 1,
   "id": "1736c5ae",
   "metadata": {},
   "outputs": [
    {
     "name": "stdout",
     "output_type": "stream",
     "text": [
      "<class 'str'>\n",
      "pink primrose,hard-leaved pocket orchid,canterbury bells,sweet pea,english marigold,tiger lily,moon orchid,bird of paradise,monkshood,globe thistle\n"
     ]
    }
   ],
   "source": [
    "flowers = \"pink primrose,hard-leaved pocket orchid,canterbury bells,sweet pea,english marigold,tiger lily,moon orchid,bird of paradise,monkshood,globe thistle\"\n",
    "\n",
    "print(type(flowers))\n",
    "print(flowers)"
   ]
  },
  {
   "cell_type": "markdown",
   "id": "fdb088be",
   "metadata": {},
   "source": [
    "Еще лучше представить те же данные в виде списка на Python. Чтобы создать список, вам нужно использовать квадратные скобки ([, ]) и разделять каждый элемент запятой. Каждый элемент в списке представляет собой строку на Python, поэтому каждый из них заключен в кавычки."
   ]
  },
  {
   "cell_type": "code",
   "execution_count": 2,
   "id": "8013c6b6",
   "metadata": {},
   "outputs": [
    {
     "name": "stdout",
     "output_type": "stream",
     "text": [
      "<class 'list'>\n",
      "['pink primrose', 'hard-leaved pocket orchid', 'canterbury bells', 'sweet pea', 'english marigold', 'tiger lily', 'moon orchid', 'bird of paradise', 'monkshood', 'globe thistle']\n"
     ]
    }
   ],
   "source": [
    "flowers_list = [\"pink primrose\", \"hard-leaved pocket orchid\", \"canterbury bells\", \"sweet pea\", \"english marigold\", \"tiger lily\", \"moon orchid\", \"bird of paradise\", \"monkshood\", \"globe thistle\"]\n",
    "\n",
    "print(type(flowers_list))\n",
    "print(flowers_list)"
   ]
  },
  {
   "cell_type": "markdown",
   "id": "eeceb2fd",
   "metadata": {},
   "source": [
    "На первый взгляд, нет особой разницы, представляете ли вы информацию в виде строки на Python или в виде списка. Но, как вы увидите, существует множество задач, которые вам будет легче выполнять со списком. Например, список упростит поиск информации в Python.:\n",
    "\n",
    "найдите товар в указанной позиции (первый, второй, третий и т.д.),\n",
    "проверьте количество товаров, а\n",
    "также добавляйте и удаляйте товары.\n",
    "# Списки\n",
    "# Длина\n",
    "Мы можем подсчитать количество записей в любом списке с помощью функции len(), которая сокращенно означает \"длина\". Вам нужно только указать название списка в круглых скобках."
   ]
  },
  {
   "cell_type": "code",
   "execution_count": null,
   "id": "57ecd543",
   "metadata": {},
   "outputs": [],
   "source": []
  },
  {
   "cell_type": "code",
   "execution_count": null,
   "id": "692dee95",
   "metadata": {},
   "outputs": [],
   "source": []
  },
  {
   "cell_type": "code",
   "execution_count": null,
   "id": "1f565cb0",
   "metadata": {},
   "outputs": [],
   "source": []
  },
  {
   "cell_type": "code",
   "execution_count": null,
   "id": "4c9a8791",
   "metadata": {},
   "outputs": [],
   "source": []
  },
  {
   "cell_type": "code",
   "execution_count": null,
   "id": "45c5010d",
   "metadata": {},
   "outputs": [],
   "source": []
  },
  {
   "cell_type": "code",
   "execution_count": null,
   "id": "f2bb7ba8",
   "metadata": {},
   "outputs": [],
   "source": []
  },
  {
   "cell_type": "code",
   "execution_count": null,
   "id": "d7d86cfa",
   "metadata": {},
   "outputs": [],
   "source": []
  },
  {
   "cell_type": "code",
   "execution_count": null,
   "id": "6ac4753a",
   "metadata": {},
   "outputs": [],
   "source": []
  },
  {
   "cell_type": "code",
   "execution_count": null,
   "id": "c2945d3e",
   "metadata": {},
   "outputs": [],
   "source": []
  },
  {
   "cell_type": "code",
   "execution_count": null,
   "id": "cc95b6e8",
   "metadata": {},
   "outputs": [],
   "source": []
  },
  {
   "cell_type": "code",
   "execution_count": null,
   "id": "f539ff2c",
   "metadata": {},
   "outputs": [],
   "source": []
  },
  {
   "cell_type": "code",
   "execution_count": null,
   "id": "df256070",
   "metadata": {},
   "outputs": [],
   "source": []
  },
  {
   "cell_type": "code",
   "execution_count": null,
   "id": "871e595a",
   "metadata": {},
   "outputs": [],
   "source": []
  },
  {
   "cell_type": "code",
   "execution_count": null,
   "id": "668efd37",
   "metadata": {},
   "outputs": [],
   "source": []
  },
  {
   "cell_type": "code",
   "execution_count": null,
   "id": "fab01df5",
   "metadata": {},
   "outputs": [],
   "source": []
  },
  {
   "cell_type": "code",
   "execution_count": null,
   "id": "e2e4dab8",
   "metadata": {},
   "outputs": [],
   "source": []
  },
  {
   "cell_type": "code",
   "execution_count": null,
   "id": "efbd652e",
   "metadata": {},
   "outputs": [],
   "source": []
  },
  {
   "cell_type": "code",
   "execution_count": null,
   "id": "a07c2c6c",
   "metadata": {},
   "outputs": [],
   "source": []
  },
  {
   "cell_type": "code",
   "execution_count": null,
   "id": "8f0b2fb3",
   "metadata": {},
   "outputs": [],
   "source": []
  },
  {
   "cell_type": "code",
   "execution_count": null,
   "id": "4b1e7cbc",
   "metadata": {},
   "outputs": [],
   "source": []
  },
  {
   "cell_type": "code",
   "execution_count": null,
   "id": "13b71456",
   "metadata": {},
   "outputs": [],
   "source": []
  }
 ],
 "metadata": {
  "kernelspec": {
   "display_name": "Python 3 (ipykernel)",
   "language": "python",
   "name": "python3"
  },
  "language_info": {
   "codemirror_mode": {
    "name": "ipython",
    "version": 3
   },
   "file_extension": ".py",
   "mimetype": "text/x-python",
   "name": "python",
   "nbconvert_exporter": "python",
   "pygments_lexer": "ipython3",
   "version": "3.9.12"
  }
 },
 "nbformat": 4,
 "nbformat_minor": 5
}
