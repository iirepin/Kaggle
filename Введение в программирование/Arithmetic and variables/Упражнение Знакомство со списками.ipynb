{
 "cells": [
  {
   "cell_type": "markdown",
   "id": "ced49374",
   "metadata": {},
   "source": [
    "Эта тетрадь представляет собой упражнение из курса \"Введение в программирование\". Вы можете ознакомиться с учебным пособием по этой ссылке."
   ]
  },
  {
   "cell_type": "markdown",
   "id": "49c63d59",
   "metadata": {},
   "source": [
    "В этом руководстве вы узнали, как определять и изменять списки Python. В этом упражнении вы будете использовать свои новые знания для решения нескольких задач.\n",
    "\n",
    "# Настройте записную книжку\n",
    "\n",
    "Запустите следующую ячейку кода без изменений, чтобы настроить записную книжку."
   ]
  },
  {
   "cell_type": "markdown",
   "id": "76da3f52",
   "metadata": {},
   "source": [
    "# Вопрос 1\n",
    "\n",
    "У вас есть ресторан с пятью блюдами, которые представлены в приведенном ниже меню Python list. Однажды вы решили:\n",
    "\n",
    "убрать фасолевый суп (\"bean soup\") из меню и\n",
    "добавить в него салат из запеченной свеклы (\"roasted beet salad\").\n",
    "Внесите это изменение в список, приведенный ниже. При выполнении этого задания,\n",
    "\n",
    "не меняйте строку, которая создает список меню.\n",
    "в вашем ответе следует использовать .remove() и .append()."
   ]
  },
  {
   "cell_type": "code",
   "execution_count": 2,
   "id": "6a6a4686",
   "metadata": {},
   "outputs": [
    {
     "data": {
      "text/plain": [
       "['stewed meat with onions',\n",
       " 'risotto with trout and shrimp',\n",
       " 'fish soup with cream and onion',\n",
       " 'gyro',\n",
       " 'roasted beet salad']"
      ]
     },
     "execution_count": 2,
     "metadata": {},
     "output_type": "execute_result"
    }
   ],
   "source": [
    "# Не меняйте: Первоначальное меню для вашего ресторана\n",
    "menu = ['stewed meat with onions', 'bean soup', 'risotto with trout and shrimp',\n",
    "       'fish soup with cream and onion', 'gyro']\n",
    "\n",
    "# ЧТО нужно сделать: убрать \"фасолевый суп\" и добавить \"салат из запеченной свеклы\" в конце меню.\n",
    "menu.remove('bean soup')\n",
    "menu.append('roasted beet salad')\n",
    "menu"
   ]
  },
  {
   "cell_type": "markdown",
   "id": "25ba5064",
   "metadata": {},
   "source": [
    "# Вопрос 2\n",
    "\n",
    "В списке num_customers указано количество клиентов, которые приходили в ваш ресторан каждый день в течение последнего месяца (который длился тридцать дней). Введите значения для каждого из следующих параметров:\n",
    "\n",
    "avg_first_seven - среднее количество клиентов, посетивших сайт за первые семь дней\n",
    "\n",
    "avg_last_seven - среднее количество клиентов, посетивших сайт за последние семь дней\n",
    "\n",
    "max_month - количество клиентов в день, когда было больше всего клиентов за последний месяц\n",
    "\n",
    "min_month - количество клиентов в день, когда было меньше всего клиентов за последний месяц\n",
    "\n",
    "Ответьте на этот вопрос, написав код. Например, если вам нужно найти минимальное значение в списке, используйте min() вместо поиска наименьшего значения и прямого ввода числа."
   ]
  },
  {
   "cell_type": "code",
   "execution_count": 7,
   "id": "08c904e7",
   "metadata": {},
   "outputs": [
    {
     "name": "stdout",
     "output_type": "stream",
     "text": [
      "151.0 157.0 174 126\n"
     ]
    }
   ],
   "source": [
    "# Не меняется: Количество клиентов за последний месяц за каждый день\n",
    "num_customers = [137, 147, 135, 128, 170, 174, 165, 146, 126, 159,\n",
    "                 141, 148, 132, 147, 168, 153, 170, 161, 148, 152,\n",
    "                 141, 151, 131, 149, 164, 163, 143, 143, 166, 171]\n",
    "\n",
    "# ЗАДАЧА: Введите значения для переменных, указанных ниже\n",
    "avg_first_seven = sum(num_customers[:7]) / len(num_customers[:7]) \n",
    "avg_last_seven = sum(num_customers[-7:]) / 7\n",
    "max_month = max(num_customers)\n",
    "min_month = min(num_customers)\n",
    "print(round(avg_first_seven, 0), avg_last_seven, max_month, min_month)"
   ]
  },
  {
   "cell_type": "markdown",
   "id": "ce7971c7",
   "metadata": {},
   "source": [
    "# Вопрос 3\n",
    "\n",
    "В руководстве мы приводили пример строки Python с информацией, которая была лучше представлена в виде списка."
   ]
  },
  {
   "cell_type": "code",
   "execution_count": 8,
   "id": "1e272909",
   "metadata": {},
   "outputs": [],
   "source": [
    "flowers = \"pink primrose,hard-leaved pocket orchid,canterbury bells,sweet pea,english marigold,tiger lily,moon orchid,bird of paradise,monkshood,globe thistle\""
   ]
  },
  {
   "cell_type": "markdown",
   "id": "1dc62761",
   "metadata": {},
   "source": [
    "На самом деле вы можете использовать Python, чтобы быстро превратить эту строку в список с помощью .split(). В круглых скобках нам нужно указать символ, который должен использоваться для обозначения конца одного элемента списка и начала другого, и заключить его в кавычки. В данном случае этим символом является запятая."
   ]
  },
  {
   "cell_type": "code",
   "execution_count": 9,
   "id": "650824d8",
   "metadata": {},
   "outputs": [
    {
     "name": "stdout",
     "output_type": "stream",
     "text": [
      "['pink primrose', 'hard-leaved pocket orchid', 'canterbury bells', 'sweet pea', 'english marigold', 'tiger lily', 'moon orchid', 'bird of paradise', 'monkshood', 'globe thistle']\n"
     ]
    }
   ],
   "source": [
    "print(flowers.split(\",\"))"
   ]
  },
  {
   "cell_type": "markdown",
   "id": "a266dbb7",
   "metadata": {},
   "source": [
    "Теперь ваша очередь попробовать это! Создайте два списка на Python:\n",
    "\n",
    "буквы должны быть списком на Python, где каждая запись является заглавной буквой английского алфавита. Например, первые две записи должны быть \"A\" и \"B\", а последние две записи должны быть \"Y\" и \"Z\". Для создания этого списка используйте алфавит строк.\n",
    "адрес должен быть списком на языке Python, где каждая строка в адресе соответствует отдельному элементу в списке. В настоящее время каждая строка в адресе разделяется запятой."
   ]
  },
  {
   "cell_type": "code",
   "execution_count": null,
   "id": "a65b3173",
   "metadata": {},
   "outputs": [],
   "source": [
    "# Не изменять: Определите две строки Python\n",
    "alphabet = \"A.B.C.D.E.F.G.H.I.J.K.L.M.N.O.P.Q.R.S.T.U.V.W.X.Y.Z\"\n",
    "address = \"Mr. H. Potter,The cupboard under the Stairs,4 Privet Drive,Little Whinging,Surrey\"\n",
    "\n",
    "# ЗАДАЧА: Преобразовать строки в списки Python\n",
    "letters = alphabet.split(\".\")\n",
    "formatted_address = address.split(\",\")"
   ]
  },
  {
   "cell_type": "markdown",
   "id": "adfe5560",
   "metadata": {},
   "source": [
    "# Вопрос 4\n",
    "\n",
    "В курсе Python вы узнаете все о способах создания списков, которые позволяют создавать списки на основе значений из другого списка. В этом вопросе вы получите краткое представление о том, как они работают.\n",
    "\n",
    "Допустим, мы работаем со списком, приведенным ниже."
   ]
  },
  {
   "cell_type": "code",
   "execution_count": 10,
   "id": "4b43bbcf",
   "metadata": {},
   "outputs": [],
   "source": [
    "test_ratings = [1, 2, 3, 4, 5]"
   ]
  },
  {
   "cell_type": "markdown",
   "id": "855a56aa",
   "metadata": {},
   "source": [
    "Затем мы можем использовать этот список (test_ratings) для создания нового списка (test_liked), в котором каждый элемент был преобразован в логическое значение, в зависимости от того, больше или равно четырем элементам."
   ]
  },
  {
   "cell_type": "code",
   "execution_count": 11,
   "id": "9e020e43",
   "metadata": {},
   "outputs": [
    {
     "name": "stdout",
     "output_type": "stream",
     "text": [
      "[False, False, False, True, True]\n"
     ]
    }
   ],
   "source": [
    "test_liked = [i>=4 for i in test_ratings]\n",
    "print(test_liked)"
   ]
  },
  {
   "cell_type": "markdown",
   "id": "064853e6",
   "metadata": {},
   "source": [
    "В этом вопросе вы будете использовать это понимание списка для определения функции percentage_liked(), которая принимает один аргумент в качестве входных данных:\n",
    "\n",
    "рейтинги: список оценок, которые люди дали фильму, где каждая оценка представляет собой число от 1 до 5 включительно\n",
    "Мы говорим, что кому-то понравился фильм, если он поставил оценку 4 или 5. Ваша функция должна возвращать процент людей, которым фильм понравился.\n",
    "\n",
    "Например, если мы задаем значение [1, 2, 3, 4, 5, 4, 5, 1],, то фильм понравился 50% (4/8) людей, и функция должна возвращать значение 0,5.\n",
    "\n",
    "Часть функций уже выполнена за вас. Вам нужно только использовать list_liked для вычисления процента_liked."
   ]
  },
  {
   "cell_type": "code",
   "execution_count": 25,
   "id": "dc43c792",
   "metadata": {},
   "outputs": [
    {
     "name": "stdout",
     "output_type": "stream",
     "text": [
      "[False, False, False, True, True, True, True, False]\n",
      "[1, 2, 3, 4, 5, 4, 5, 1]\n"
     ]
    },
    {
     "data": {
      "text/plain": [
       "0.5"
      ]
     },
     "execution_count": 25,
     "metadata": {},
     "output_type": "execute_result"
    }
   ],
   "source": [
    "def percentage_liked(ratings):\n",
    "    list_liked = [i>=4 for i in ratings]\n",
    "    # # ЧТО НУЖНО СДЕЛАТЬ: Завершите выполнение функции\n",
    "    count_list = 0\n",
    "    for i in list_liked:\n",
    "        if i == True:\n",
    "            count_list += 1\n",
    "    percentage_liked = count_list / len (ratings)\n",
    "    print(list_liked)\n",
    "    print(ratings)\n",
    "    return percentage_liked\n",
    "\n",
    "# Не менять: должно быть возвращено 0,5\n",
    "percentage_liked([1, 2, 3, 4, 5, 4, 5, 1])"
   ]
  },
  {
   "cell_type": "markdown",
   "id": "1332551e",
   "metadata": {},
   "source": [
    "➡️ Вопрос 5\n",
    "\n",
    "Допустим, вы занимаетесь аналитикой веб-сайта. Вам нужно написать функцию, которая возвращает процент роста общего числа пользователей по сравнению с заданным количеством лет назад.\n",
    "\n",
    "Ваша функция percentage_growth() должна принимать два аргумента в качестве входных данных:\n",
    "\n",
    "num_users = список Python с общим количеством пользователей за каждый год. Таким образом, num_users[0] - это общее количество пользователей за первый год, num_users[1] - общее количество пользователей за второй год и так далее. Последняя запись в списке показывает общее количество пользователей за последний завершенный год.\n",
    "\n",
    "yrs_ago = количество лет, на которые необходимо вернуться назад во времени при расчете процента роста\n",
    "Например, скажем, num_users = [920344, 1043553, 1204334, 1458996, 1503323, 1593432, 1623463, 1843064, 1930992, 2001078].\n",
    "\n",
    "если yrs_ago = 1, мы хотим, чтобы функция возвращала значение около 0,036. Это соответствует процентному росту примерно на 3,6%, рассчитанному как (2001078 - 1930992)/1930992.\n",
    "если years_ago = 7, мы хотели бы получить приблизительно 0,66. Это соответствует процентному росту примерно на 66%, рассчитанному как (2001078 - 1204334)/1204334.\n",
    "Ваш коллега прислал вам черновик функции, но, похоже, он выполняет неправильные вычисления. Можете ли вы выяснить, что пошло не так, и внести необходимые изменения?"
   ]
  },
  {
   "cell_type": "code",
   "execution_count": 9,
   "id": "88be43aa",
   "metadata": {},
   "outputs": [
    {
     "name": "stdout",
     "output_type": "stream",
     "text": [
      "0.03629533421163837\n",
      "0.6615639847417742\n"
     ]
    }
   ],
   "source": [
    "# # ЧТО НУЖНО СДЕЛАТЬ: отредактируйте функцию\n",
    "def percentage_growth(num_users, yrs_ago):\n",
    "    growth = (num_users[len(num_users)-1] - num_users[len(num_users)- 1 - yrs_ago])/num_users[len(num_users) - 1 -yrs_ago]\n",
    "    return growth\n",
    "\n",
    "# Не изменять: Переменная для расчета некоторых тестовых примеров\n",
    "num_users_test = [920344, 1043553, 1204334, 1458996, 1503323, 1593432, 1623463, 1843064, 1930992, 2001078]\n",
    "\n",
    "# Не менять: Должно вернуться значение .036\n",
    "print(percentage_growth(num_users_test, 1))\n",
    "\n",
    "# Не менять: Должно быть возвращено значение 0.66\n",
    "print(percentage_growth(num_users_test, 7))"
   ]
  },
  {
   "cell_type": "markdown",
   "id": "4c47121b",
   "metadata": {},
   "source": [
    "# Поздравляю!\n",
    "\n",
    "Поздравляем вас с окончанием курса \"Введение в программирование\"! Вы должны гордиться своими самыми первыми шагами в изучении программирования. В качестве следующих шагов мы рекомендуем предпринять:\n",
    "\n",
    "курс Python и\n",
    "введение в машинное обучение."
   ]
  }
 ],
 "metadata": {
  "kernelspec": {
   "display_name": "Python 3 (ipykernel)",
   "language": "python",
   "name": "python3"
  },
  "language_info": {
   "codemirror_mode": {
    "name": "ipython",
    "version": 3
   },
   "file_extension": ".py",
   "mimetype": "text/x-python",
   "name": "python",
   "nbconvert_exporter": "python",
   "pygments_lexer": "ipython3",
   "version": "3.9.12"
  }
 },
 "nbformat": 4,
 "nbformat_minor": 5
}
