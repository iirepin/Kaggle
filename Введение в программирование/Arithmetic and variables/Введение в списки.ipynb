{
 "cells": [
  {
   "cell_type": "markdown",
   "id": "f1965f53",
   "metadata": {},
   "source": [
    "# Введение к спискам\n",
    "Организуйте свои данные таким образом, чтобы вы могли эффективно с ними работать."
   ]
  },
  {
   "cell_type": "markdown",
   "id": "2f5fdca5",
   "metadata": {},
   "source": [
    "# Вступление\n",
    "Когда вы занимаетесь наукой о данных, вам нужен способ организовать свои данные, чтобы вы могли эффективно с ними работать. В Python доступно множество структур данных для хранения ваших данных, таких как списки, наборы, словари и кортежи. В этом руководстве вы узнаете, как работать со списками Python.\n",
    "\n",
    "# Мотивация\n",
    "В конкурсе \"От лепестка к металлу\" ваша цель - классифицировать виды цветка, основываясь только на его изображении. (Это обычная задача в компьютерном зрении, и она называется классификацией изображений.) Для достижения этой цели, скажем, вы упорядочиваете названия видов цветов в данных.\n",
    "\n",
    "Один из способов сделать это - упорядочить имена в строке Python."
   ]
  },
  {
   "cell_type": "code",
   "execution_count": 1,
   "id": "e160d7fe",
   "metadata": {},
   "outputs": [
    {
     "name": "stdout",
     "output_type": "stream",
     "text": [
      "<class 'str'>\n",
      "pink primrose,hard-leaved pocket orchid,canterbury bells,sweet pea,english marigold,tiger lily,moon orchid,bird of paradise,monkshood,globe thistle\n"
     ]
    }
   ],
   "source": [
    "flowers = \"pink primrose,hard-leaved pocket orchid,canterbury bells,sweet pea,english marigold,tiger lily,moon orchid,bird of paradise,monkshood,globe thistle\"\n",
    "\n",
    "print(type(flowers))\n",
    "print(flowers)"
   ]
  },
  {
   "cell_type": "markdown",
   "id": "f488e8a1",
   "metadata": {},
   "source": [
    "Еще лучше представить те же данные в виде списка на Python. Чтобы создать список, вам нужно использовать квадратные скобки ([, ]) и разделять каждый элемент запятой. Каждый элемент в списке представляет собой строку на Python, поэтому каждый из них заключен в кавычки."
   ]
  },
  {
   "cell_type": "code",
   "execution_count": 2,
   "id": "5fcb292e",
   "metadata": {},
   "outputs": [
    {
     "name": "stdout",
     "output_type": "stream",
     "text": [
      "<class 'list'>\n",
      "['pink primrose', 'hard-leaved pocket orchid', 'canterbury bells', 'sweet pea', 'english marigold', 'tiger lily', 'moon orchid', 'bird of paradise', 'monkshood', 'globe thistle']\n"
     ]
    }
   ],
   "source": [
    "flowers_list = [\"pink primrose\", \"hard-leaved pocket orchid\", \"canterbury bells\", \"sweet pea\", \"english marigold\", \"tiger lily\", \"moon orchid\", \"bird of paradise\", \"monkshood\", \"globe thistle\"]\n",
    "\n",
    "print(type(flowers_list))\n",
    "print(flowers_list)"
   ]
  },
  {
   "cell_type": "markdown",
   "id": "3a8b7a7d",
   "metadata": {},
   "source": [
    "На первый взгляд, нет особой разницы, представляете ли вы информацию в виде строки на Python или в виде списка. Но, как вы увидите, существует множество задач, которые вам будет легче выполнять со списком. Например, список упростит поиск информации в Python.:\n",
    "\n",
    "найдите товар в указанной позиции (первый, второй, третий и т.д.),\n",
    "проверьте количество товаров, а\n",
    "также добавляйте и удаляйте товары.\n",
    "# Списки\n",
    "# Длина\n",
    "Мы можем подсчитать количество записей в любом списке с помощью функции len(), которая сокращенно означает \"длина\". Вам нужно только указать название списка в круглых скобках."
   ]
  },
  {
   "cell_type": "code",
   "execution_count": 3,
   "id": "c60b1a6c",
   "metadata": {},
   "outputs": [
    {
     "name": "stdout",
     "output_type": "stream",
     "text": [
      "10\n"
     ]
    }
   ],
   "source": [
    "# Список состоит из десяти записей\n",
    "print(len(flowers_list))"
   ]
  },
  {
   "cell_type": "markdown",
   "id": "3f1cb147",
   "metadata": {},
   "source": [
    "# Индексация\n",
    "Мы можем ссылаться на любой элемент в списке в соответствии с его позицией в списке (первый, второй, третий и т.д.). Это называется индексацией.\n",
    "\n",
    "Обратите внимание, что в Python используется индексация с нулевым значением, что означает, что:\n",
    "\n",
    "чтобы извлечь первую запись в списке, вы используете 0,\n",
    "чтобы извлечь вторую запись в списке, вы используете 1, а\n",
    "чтобы извлечь последнюю запись в списке, вы используете значение на единицу меньше длины списка."
   ]
  },
  {
   "cell_type": "code",
   "execution_count": 4,
   "id": "0ce96b47",
   "metadata": {},
   "outputs": [
    {
     "name": "stdout",
     "output_type": "stream",
     "text": [
      "First entry: pink primrose\n",
      "Second entry: hard-leaved pocket orchid\n",
      "Last entry: globe thistle\n"
     ]
    }
   ],
   "source": [
    "print(\"First entry:\", flowers_list[0])\n",
    "print(\"Second entry:\", flowers_list[1])\n",
    "\n",
    "# Список имеет длину десять, поэтому мы ссылаемся на последнюю запись с цифрой 9\n",
    "print(\"Last entry:\", flowers_list[9])"
   ]
  },
  {
   "cell_type": "markdown",
   "id": "b2809c88",
   "metadata": {},
   "source": [
    "Примечание: Возможно, вы заметили, что в приведенной выше ячейке кода мы используем одну функцию print() для печати нескольких элементов (как строки Python (например, \"Первая запись:\"), так и значения из списка (например, flowers_list[0]). Чтобы напечатать несколько элементов в Python с помощью одной команды, нам нужно только разделить их запятой.\n",
    "\n",
    "# Нарезка\n",
    "Вы также можете извлечь сегмент списка (например, первые три элемента или последние два элемента). Это называется нарезкой. Например:\n",
    "\n",
    "чтобы извлечь первые x записей, вы используете [:x], а\n",
    "чтобы извлечь последние y записей, вы используете [-y:]."
   ]
  },
  {
   "cell_type": "code",
   "execution_count": 5,
   "id": "1001178e",
   "metadata": {},
   "outputs": [
    {
     "name": "stdout",
     "output_type": "stream",
     "text": [
      "First three entries: ['pink primrose', 'hard-leaved pocket orchid', 'canterbury bells']\n",
      "Final two entries: ['monkshood', 'globe thistle']\n"
     ]
    }
   ],
   "source": [
    "print(\"First three entries:\", flowers_list[:3])\n",
    "print(\"Final two entries:\", flowers_list[-2:])"
   ]
  },
  {
   "cell_type": "markdown",
   "id": "4bc9ab16",
   "metadata": {},
   "source": [
    "Как вы можете видеть выше, когда мы разрезаем список, он возвращает новый, сокращенный список.\n",
    "\n",
    "# Удаление элементов\n",
    "Удалите элемент из списка с помощью .remove() и заключите элемент, который вы хотите удалить, в круглые скобки."
   ]
  },
  {
   "cell_type": "code",
   "execution_count": 6,
   "id": "d967e556",
   "metadata": {},
   "outputs": [
    {
     "name": "stdout",
     "output_type": "stream",
     "text": [
      "['pink primrose', 'hard-leaved pocket orchid', 'canterbury bells', 'sweet pea', 'english marigold', 'tiger lily', 'moon orchid', 'bird of paradise', 'monkshood']\n"
     ]
    }
   ],
   "source": [
    "flowers_list.remove(\"globe thistle\")\n",
    "print(flowers_list)"
   ]
  },
  {
   "cell_type": "markdown",
   "id": "3ce7ba24",
   "metadata": {},
   "source": [
    "# Добавление элементов\n",
    "Добавьте элемент в список с помощью функции .append() и заключите нужный элемент в круглые скобки."
   ]
  },
  {
   "cell_type": "code",
   "execution_count": 7,
   "id": "d25fe7ff",
   "metadata": {},
   "outputs": [
    {
     "name": "stdout",
     "output_type": "stream",
     "text": [
      "['pink primrose', 'hard-leaved pocket orchid', 'canterbury bells', 'sweet pea', 'english marigold', 'tiger lily', 'moon orchid', 'bird of paradise', 'monkshood', 'snapdragon']\n"
     ]
    }
   ],
   "source": [
    "flowers_list.append(\"snapdragon\")\n",
    "print(flowers_list)"
   ]
  },
  {
   "cell_type": "markdown",
   "id": "64707616",
   "metadata": {},
   "source": [
    "# Списки предназначены не только для строк\n",
    "До сих пор мы работали только со списками, в которых каждый элемент является строкой. Но в списках могут быть элементы с любым типом данных, включая логические значения, целые числа и числа с плавающей точкой.\n",
    "\n",
    "В качестве примера рассмотрим продажи книг в твердом переплете в первую неделю апреля 2000 года в розничном магазине."
   ]
  },
  {
   "cell_type": "code",
   "execution_count": 8,
   "id": "9b6d3bf2",
   "metadata": {},
   "outputs": [],
   "source": [
    "hardcover_sales = [139, 128, 172, 139, 191, 168, 170]"
   ]
  },
  {
   "cell_type": "markdown",
   "id": "0cdb3785",
   "metadata": {},
   "source": [
    "Здесь hardcover_sales - это список целых чисел. Как и при работе со строками, вы все еще можете выполнять такие действия, как получение длины, извлечение отдельных записей и расширение списка."
   ]
  },
  {
   "cell_type": "markdown",
   "id": "b7603c1d",
   "metadata": {},
   "source": [
    "Вы также можете получить минимальное значение с помощью функции min() и максимальное - с помощью функции max()."
   ]
  },
  {
   "cell_type": "code",
   "execution_count": 9,
   "id": "77a9708f",
   "metadata": {},
   "outputs": [
    {
     "name": "stdout",
     "output_type": "stream",
     "text": [
      "Minimum: 128\n",
      "Maximum: 191\n"
     ]
    }
   ],
   "source": [
    "print(\"Minimum:\", min(hardcover_sales))\n",
    "print(\"Maximum:\", max(hardcover_sales))"
   ]
  },
  {
   "cell_type": "markdown",
   "id": "685494f5",
   "metadata": {},
   "source": [
    "Чтобы добавить каждый элемент в список, используйте функцию sum()."
   ]
  },
  {
   "cell_type": "code",
   "execution_count": 11,
   "id": "1e6f7124",
   "metadata": {},
   "outputs": [
    {
     "name": "stdout",
     "output_type": "stream",
     "text": [
      "Total books sold in one week: 1107\n"
     ]
    }
   ],
   "source": [
    "print(\"Total books sold in one week:\", sum(hardcover_sales))"
   ]
  },
  {
   "cell_type": "markdown",
   "id": "ed0a844d",
   "metadata": {},
   "source": [
    "Мы также можем выполнить аналогичные вычисления с фрагментами списка. В следующей ячейке кода мы берем сумму за первые пять дней (sum(hardcover_sales[:5])), а затем делим на пять, чтобы получить среднее количество проданных книг за первые пять дней."
   ]
  },
  {
   "cell_type": "markdown",
   "id": "2827e9b8",
   "metadata": {},
   "source": [
    "# Ваш ход¶\n",
    "Теперь ваша очередь попрактиковаться в создании и изменении списков."
   ]
  }
 ],
 "metadata": {
  "kernelspec": {
   "display_name": "Python 3 (ipykernel)",
   "language": "python",
   "name": "python3"
  },
  "language_info": {
   "codemirror_mode": {
    "name": "ipython",
    "version": 3
   },
   "file_extension": ".py",
   "mimetype": "text/x-python",
   "name": "python",
   "nbconvert_exporter": "python",
   "pygments_lexer": "ipython3",
   "version": "3.9.12"
  }
 },
 "nbformat": 4,
 "nbformat_minor": 5
}
