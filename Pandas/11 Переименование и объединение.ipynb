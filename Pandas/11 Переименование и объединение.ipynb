{
 "cells": [
  {
   "cell_type": "markdown",
   "id": "4c1a7a49",
   "metadata": {},
   "source": [
    "# Переименование и объединение\n",
    "Данные поступают из многих источников. Чтобы все это вместе имело смысл"
   ]
  },
  {
   "cell_type": "markdown",
   "id": "04adadca",
   "metadata": {},
   "source": [
    "# Вступление¶\n",
    "Часто данные поступают к нам с именами столбцов, индексов или другими соглашениями об именовании, которые нас не устраивают. В этом случае вы узнаете, как с помощью функций pandas изменить имена записей-нарушителей на что-то более подходящее.\n",
    "\n",
    "Вы также узнаете, как объединять данные из нескольких фреймов данных и/или рядов.\n",
    "\n",
    "Чтобы начать упражнение по этому разделу, пожалуйста, нажмите здесь.\n",
    "\n",
    "# Переименование\n",
    "Первая функция, которую мы представим здесь, - rename(), которая позволяет изменять имена индексов и/или столбцов. Например, чтобы изменить столбец баллов в нашем наборе данных на score, мы бы сделали:"
   ]
  },
  {
   "cell_type": "code",
   "execution_count": null,
   "id": "ec191726",
   "metadata": {},
   "outputs": [],
   "source": [
    "import pandas as pd\n",
    "pd.set_option('display.max_rows', 5)\n",
    "reviews = pd.read_csv(\"../input/wine-reviews/winemag-data-130k-v2.csv\", index_col=0)"
   ]
  },
  {
   "cell_type": "code",
   "execution_count": null,
   "id": "54e7cc7c",
   "metadata": {},
   "outputs": [],
   "source": [
    "reviews.rename(columns={'points': 'score'})"
   ]
  },
  {
   "cell_type": "markdown",
   "id": "d702efaa",
   "metadata": {},
   "source": [
    "rename() позволяет переименовывать значения индекса или столбца, задавая параметр ключевого слова index или column, соответственно. Он поддерживает множество форматов ввода, но обычно наиболее удобным является словарь Python. Вот пример его использования для переименования некоторых элементов индекса."
   ]
  },
  {
   "cell_type": "code",
   "execution_count": null,
   "id": "99190bed",
   "metadata": {},
   "outputs": [],
   "source": [
    "reviews.rename(index={0: 'firstEntry', 1: 'secondEntry'})"
   ]
  },
  {
   "cell_type": "markdown",
   "id": "a7fb02e0",
   "metadata": {},
   "source": [
    "Вероятно, вы будете переименовывать столбцы очень часто, но значения индекса - очень редко. Для этого обычно удобнее использовать функцию set_index().\n",
    "\n",
    "Как индекс строки, так и индекс столбца могут иметь свой собственный атрибут name. Для изменения этих имен может быть использован дополнительный метод rename_axis(). Например:"
   ]
  },
  {
   "cell_type": "code",
   "execution_count": null,
   "id": "ed7167af",
   "metadata": {},
   "outputs": [],
   "source": [
    "reviews.rename_axis(\"wines\", axis='rows').rename_axis(\"fields\", axis='columns')"
   ]
  },
  {
   "cell_type": "markdown",
   "id": "15bea8d4",
   "metadata": {},
   "source": [
    "# Сочетающий¶\n",
    "При выполнении операций с набором данных нам иногда необходимо комбинировать различные фреймы данных и/или ряды нетривиальными способами. В Pandas есть три основных метода для этого. В порядке возрастания сложности это concat(), join() и merge(). Большую часть того, что может делать merge(), также можно упростить с помощью join(), поэтому мы опустим это и сосредоточимся на первых двух функциях.\n",
    "\n",
    "Самый простой метод объединения - concat(). При наличии списка элементов эта функция сгладит эти элементы вдоль оси.\n",
    "\n",
    "Это полезно, когда у нас есть данные в разных объектах DataFrame или Series, но с одинаковыми полями (столбцами). Один из примеров: набор данных YouTube Videos, который разбивает данные на страны происхождения (например, Канада и Великобритания, в данном примере). Если мы хотим изучать несколько стран одновременно, мы можем использовать функцию concat(), чтобы объединить их:"
   ]
  },
  {
   "cell_type": "code",
   "execution_count": null,
   "id": "e664f01e",
   "metadata": {},
   "outputs": [],
   "source": [
    "canadian_youtube = pd.read_csv(\"../input/youtube-new/CAvideos.csv\")\n",
    "british_youtube = pd.read_csv(\"../input/youtube-new/GBvideos.csv\")\n",
    "\n",
    "pd.concat([canadian_youtube, british_youtube])"
   ]
  },
  {
   "cell_type": "markdown",
   "id": "e210b7b2",
   "metadata": {},
   "source": [
    "Средним по сложности объединителем является функция join(). функция join() позволяет объединять различные объекты фрейма данных, которые имеют общий индекс. Например, чтобы отобрать видео, которые оказались в тренде в один и тот же день как в Канаде, так и в Великобритании, мы могли бы сделать следующее:"
   ]
  },
  {
   "cell_type": "code",
   "execution_count": null,
   "id": "2ecc19b7",
   "metadata": {},
   "outputs": [],
   "source": [
    "left = canadian_youtube.set_index(['title', 'trending_date'])\n",
    "right = british_youtube.set_index(['title', 'trending_date'])\n",
    "\n",
    "left.join(right, lsuffix='_CAN', rsuffix='_UK')"
   ]
  },
  {
   "cell_type": "markdown",
   "id": "0b0c80fb",
   "metadata": {},
   "source": [
    "Параметры suffix и добавочный индекс необходимы здесь, потому что данные имеют одинаковые имена столбцов как в британском, так и в канадском наборах данных. Если бы это было не так (например, потому что мы переименовали их заранее), они бы нам не понадобились."
   ]
  },
  {
   "cell_type": "markdown",
   "id": "3ab69659",
   "metadata": {},
   "source": [
    "# Ваш ход¶\n",
    "Если вы еще не приступали к выполнению упражнения, вы можете начать здесь."
   ]
  }
 ],
 "metadata": {
  "kernelspec": {
   "display_name": "Python 3 (ipykernel)",
   "language": "python",
   "name": "python3"
  },
  "language_info": {
   "codemirror_mode": {
    "name": "ipython",
    "version": 3
   },
   "file_extension": ".py",
   "mimetype": "text/x-python",
   "name": "python",
   "nbconvert_exporter": "python",
   "pygments_lexer": "ipython3",
   "version": "3.9.12"
  }
 },
 "nbformat": 4,
 "nbformat_minor": 5
}
