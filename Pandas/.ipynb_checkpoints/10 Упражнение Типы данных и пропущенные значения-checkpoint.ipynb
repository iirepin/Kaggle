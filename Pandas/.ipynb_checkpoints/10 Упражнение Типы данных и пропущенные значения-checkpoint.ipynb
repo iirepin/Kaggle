{
 "cells": [
  {
   "cell_type": "markdown",
   "id": "e7547f2b",
   "metadata": {},
   "source": [
    "Эта тетрадь представляет собой упражнение из курса \"Панды\". Вы можете ознакомиться с учебным пособием по этой ссылке."
   ]
  },
  {
   "cell_type": "markdown",
   "id": "92a720ea",
   "metadata": {},
   "source": [
    "# Вступление\n",
    "\n",
    "Запустите следующую ячейку, чтобы загрузить свои данные и некоторые служебные функции."
   ]
  },
  {
   "cell_type": "code",
   "execution_count": null,
   "id": "d65d5c61",
   "metadata": {},
   "outputs": [],
   "source": [
    "import pandas as pd\n",
    "\n",
    "reviews = pd.read_csv(\"../input/wine-reviews/winemag-data-130k-v2.csv\", index_col=0)\n",
    "\n",
    "from learntools.core import binder; binder.bind(globals())\n",
    "from learntools.pandas.data_types_and_missing_data import *\n",
    "print(\"Setup complete.\")"
   ]
  },
  {
   "cell_type": "markdown",
   "id": "6a459a0a",
   "metadata": {},
   "source": [
    "Упражнения"
   ]
  },
  {
   "cell_type": "markdown",
   "id": "e5d72b1a",
   "metadata": {},
   "source": [
    "1.\n",
    "\n",
    "Каков тип данных столбца points в наборе данных?"
   ]
  },
  {
   "cell_type": "code",
   "execution_count": null,
   "id": "9bca6466",
   "metadata": {},
   "outputs": [],
   "source": [
    "# Ваш код здесь\n",
    "dtype = ____"
   ]
  },
  {
   "cell_type": "markdown",
   "id": "98d236f9",
   "metadata": {},
   "source": [
    "# 2.\n",
    "\n",
    "Создайте последовательность из записей в столбце points, но преобразуйте записи в строки. Подсказка: строки - это строки, созданные в Python."
   ]
  },
  {
   "cell_type": "code",
   "execution_count": null,
   "id": "b642b5b3",
   "metadata": {},
   "outputs": [],
   "source": [
    "point_strings = ____"
   ]
  },
  {
   "cell_type": "markdown",
   "id": "cb7b41fa",
   "metadata": {},
   "source": [
    "# 3.\n",
    "\n",
    "Иногда столбец цены равен нулю. В скольких отзывах в наборе данных отсутствует цена?"
   ]
  },
  {
   "cell_type": "code",
   "execution_count": null,
   "id": "a7c4b3ea",
   "metadata": {},
   "outputs": [],
   "source": [
    "n_missing_prices = ____"
   ]
  },
  {
   "cell_type": "markdown",
   "id": "1f0d2367",
   "metadata": {},
   "source": [
    "4.\n",
    "\n",
    "Назовите наиболее распространенные винодельческие регионы? Создайте ряд, подсчитывающий количество раз, когда каждое значение встречается в поле region_1. В этом поле часто отсутствуют данные, поэтому замените отсутствующие значения на неизвестные. Отсортируйте в порядке убывания. Ваши выходные данные должны выглядеть примерно так:\n",
    "\n",
    "Неизвестный 21247\n",
    "Долина Напа 4480\n",
    "                           ...  \n",
    "Бардолино-Супериоре 1\n",
    "Примитиво-дель-Тарантино 1\n",
    "Название: регион_1, Длина: 1230, тип: int64"
   ]
  },
  {
   "cell_type": "code",
   "execution_count": null,
   "id": "74cac79c",
   "metadata": {},
   "outputs": [],
   "source": [
    "reviews_per_region = ____"
   ]
  },
  {
   "cell_type": "markdown",
   "id": "b69d1de9",
   "metadata": {},
   "source": [
    "# Продолжай\n",
    "\n",
    "Переходим к переименованию и объединению."
   ]
  }
 ],
 "metadata": {
  "kernelspec": {
   "display_name": "Python 3 (ipykernel)",
   "language": "python",
   "name": "python3"
  },
  "language_info": {
   "codemirror_mode": {
    "name": "ipython",
    "version": 3
   },
   "file_extension": ".py",
   "mimetype": "text/x-python",
   "name": "python",
   "nbconvert_exporter": "python",
   "pygments_lexer": "ipython3",
   "version": "3.9.12"
  }
 },
 "nbformat": 4,
 "nbformat_minor": 5
}
