{
 "cells": [
  {
   "cell_type": "markdown",
   "id": "7c4c9dfb",
   "metadata": {},
   "source": [
    "Эта тетрадь представляет собой упражнение из курса \"Панды\". Вы можете ознакомиться с учебным пособием по этой ссылке."
   ]
  },
  {
   "cell_type": "markdown",
   "id": "74f22d39",
   "metadata": {},
   "source": [
    "# Вступление\n",
    "\n",
    "Теперь вы готовы к более глубокому изучению ваших данных.\n",
    "\n",
    "Запустите следующую ячейку, чтобы загрузить ваши данные и некоторые полезные функции (включая код для проверки ваших ответов)."
   ]
  },
  {
   "cell_type": "markdown",
   "id": "29279328",
   "metadata": {},
   "source": [
    "# Упражнения"
   ]
  },
  {
   "cell_type": "markdown",
   "id": "c68010a6",
   "metadata": {},
   "source": [
    "# 1.\n",
    "\n",
    "Какова медиана столбца баллов во фрейме данных отзывов?"
   ]
  },
  {
   "cell_type": "code",
   "execution_count": null,
   "id": "bb92456a",
   "metadata": {},
   "outputs": [],
   "source": [
    "median_points = ____"
   ]
  },
  {
   "cell_type": "markdown",
   "id": "e5ec6032",
   "metadata": {},
   "source": [
    "# 2.\n",
    "\n",
    "Какие страны представлены в наборе данных? (В вашем ответе не должно быть повторов)."
   ]
  },
  {
   "cell_type": "code",
   "execution_count": null,
   "id": "8afe40ee",
   "metadata": {},
   "outputs": [],
   "source": [
    "countries = ____"
   ]
  },
  {
   "cell_type": "markdown",
   "id": "0d259908",
   "metadata": {},
   "source": [
    "# 3.\n",
    "\n",
    "Как часто каждая страна появляется в наборе данных? Создайте серию reviews_per_country, сопоставляющую страны с количеством отзывов о винах из этой страны."
   ]
  },
  {
   "cell_type": "code",
   "execution_count": null,
   "id": "935d725c",
   "metadata": {},
   "outputs": [],
   "source": [
    "reviews_per_country = ____"
   ]
  },
  {
   "cell_type": "markdown",
   "id": "9d9dcb25",
   "metadata": {},
   "source": [
    "# 4.\n",
    "\n",
    "Создайте переменную centered_price, содержащую версию столбца price с вычитанием средней цены.\n",
    "\n",
    "(Примечание: это преобразование \"центрирования\" является обычным этапом предварительной обработки перед применением различных алгоритмов машинного обучения.)"
   ]
  },
  {
   "cell_type": "code",
   "execution_count": null,
   "id": "7bf0d55c",
   "metadata": {},
   "outputs": [],
   "source": [
    "centered_price = ____"
   ]
  },
  {
   "cell_type": "markdown",
   "id": "394e976a",
   "metadata": {},
   "source": [
    "# 5.\n",
    "\n",
    "Я экономный покупатель вина. Какое вино является \"лучшим по цене\"? Создайте переменную bargain_wine с названием вина с наибольшим соотношением баллов к цене в наборе данных."
   ]
  },
  {
   "cell_type": "code",
   "execution_count": null,
   "id": "b2b1be57",
   "metadata": {},
   "outputs": [],
   "source": [
    "bargain_wine = ____"
   ]
  },
  {
   "cell_type": "markdown",
   "id": "11754ceb",
   "metadata": {},
   "source": [
    "# 6.\n",
    "\n",
    "Существует не так уж много слов, которые можно использовать для описания бутылки вина. Какое вино больше подходит для \"тропического\" или \"фруктового\"? Создайте ряд descriptor_counts, подсчитывающий, сколько раз каждое из этих двух слов встречается в столбце description в наборе данных. (Для простоты давайте не будем использовать заглавные буквы в этих словах)."
   ]
  },
  {
   "cell_type": "code",
   "execution_count": null,
   "id": "2b01d73d",
   "metadata": {},
   "outputs": [],
   "source": [
    "descriptor_counts = ____"
   ]
  },
  {
   "cell_type": "markdown",
   "id": "2df1fc5a",
   "metadata": {},
   "source": [
    "# 7.\n",
    "\n",
    "Мы бы хотели разместить эти обзоры вин на нашем веб-сайте, но система оценок от 80 до 100 баллов слишком сложна для понимания - мы бы хотели перевести их в простые звездные рейтинги. Оценка в 95 баллов и выше засчитывается как 3 звезды, оценка не менее 85, но менее 95 баллов - как 2 звезды. Любая другая оценка равняется 1 звезде.\n",
    "\n",
    "Кроме того, Канадская ассоциация виноделов купила много рекламы на сайте, поэтому любые вина из Канады должны автоматически получать 3 звезды, независимо от количества баллов.\n",
    "\n",
    "Создайте серию star_ratings с количеством звезд, соответствующим каждому отзыву в наборе данных."
   ]
  },
  {
   "cell_type": "code",
   "execution_count": null,
   "id": "cbf5ec38",
   "metadata": {},
   "outputs": [],
   "source": [
    "star_ratings = ____"
   ]
  },
  {
   "cell_type": "markdown",
   "id": "a40eb6b7",
   "metadata": {},
   "source": [
    "# Продолжай\n",
    "\n",
    "Продолжайте группировать и сортировать файлы."
   ]
  }
 ],
 "metadata": {
  "kernelspec": {
   "display_name": "Python 3 (ipykernel)",
   "language": "python",
   "name": "python3"
  },
  "language_info": {
   "codemirror_mode": {
    "name": "ipython",
    "version": 3
   },
   "file_extension": ".py",
   "mimetype": "text/x-python",
   "name": "python",
   "nbconvert_exporter": "python",
   "pygments_lexer": "ipython3",
   "version": "3.9.12"
  }
 },
 "nbformat": 4,
 "nbformat_minor": 5
}
