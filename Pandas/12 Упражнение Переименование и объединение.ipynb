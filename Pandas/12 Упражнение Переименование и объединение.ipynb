{
 "cells": [
  {
   "cell_type": "markdown",
   "id": "1b3eaa1a",
   "metadata": {},
   "source": [
    "Эта тетрадь представляет собой упражнение из курса \"Панды\". Вы можете ознакомиться с учебным пособием по этой ссылке."
   ]
  },
  {
   "cell_type": "markdown",
   "id": "8dda53d1",
   "metadata": {},
   "source": [
    "# Вступление\n",
    "\n",
    "Запустите следующую ячейку, чтобы загрузить свои данные и некоторые служебные функции."
   ]
  },
  {
   "cell_type": "code",
   "execution_count": null,
   "id": "8fe54194",
   "metadata": {},
   "outputs": [],
   "source": [
    "import pandas as pd\n",
    "\n",
    "reviews = pd.read_csv(\"../input/wine-reviews/winemag-data-130k-v2.csv\", index_col=0)\n",
    "\n",
    "from learntools.core import binder; binder.bind(globals())\n",
    "from learntools.pandas.renaming_and_combining import *\n",
    "print(\"Setup complete.\")"
   ]
  },
  {
   "cell_type": "markdown",
   "id": "705f70ef",
   "metadata": {},
   "source": [
    "# Упражнения\n",
    "\n",
    "Просмотрите первые несколько строк ваших данных, запустив ячейку ниже:"
   ]
  },
  {
   "cell_type": "code",
   "execution_count": null,
   "id": "f7532626",
   "metadata": {},
   "outputs": [],
   "source": [
    "reviews.head()"
   ]
  },
  {
   "cell_type": "markdown",
   "id": "bcf20587",
   "metadata": {},
   "source": [
    "# 1.\n",
    "\n",
    "region_1 и region_2 - довольно неинформативные названия для столбцов locale в наборе данных. Создайте копию отзывов, переименовав эти столбцы в region и locale соответственно."
   ]
  },
  {
   "cell_type": "code",
   "execution_count": null,
   "id": "211c7223",
   "metadata": {},
   "outputs": [],
   "source": [
    "# Ваш код здесь\n",
    "renamed = ____"
   ]
  },
  {
   "cell_type": "markdown",
   "id": "46337a4a",
   "metadata": {},
   "source": [
    "# 2.\n",
    "\n",
    "Задайте для имени индекса в наборе данных значение wines."
   ]
  },
  {
   "cell_type": "code",
   "execution_count": null,
   "id": "3e85494c",
   "metadata": {},
   "outputs": [],
   "source": [
    "reindexed = ____"
   ]
  },
  {
   "cell_type": "markdown",
   "id": "f569a90a",
   "metadata": {},
   "source": [
    "# 3.\n",
    "\n",
    "Набор данных Things on Reddit содержит ссылки на товары с нескольких авторитетных форумов (\"субреддиты\") на сайте reddit.com. Запустите приведенную ниже ячейку, чтобы загрузить фрейм данных о продуктах, упомянутых в разделе /r/gaming, и другой фрейм данных о продуктах, упомянутых в разделе /r/movies."
   ]
  },
  {
   "cell_type": "code",
   "execution_count": null,
   "id": "bb80c960",
   "metadata": {},
   "outputs": [],
   "source": [
    "gaming_products = pd.read_csv(\"../input/things-on-reddit/top-things/top-things/reddits/g/gaming.csv\")\n",
    "gaming_products['subreddit'] = \"r/gaming\"\n",
    "movie_products = pd.read_csv(\"../input/things-on-reddit/top-things/top-things/reddits/m/movies.csv\")\n",
    "movie_products['subreddit'] = \"r/movies\""
   ]
  },
  {
   "cell_type": "markdown",
   "id": "e8162924",
   "metadata": {},
   "source": [
    "Создайте базу данных продуктов, упомянутых в любом из субреддитов."
   ]
  },
  {
   "cell_type": "code",
   "execution_count": null,
   "id": "8c9c367f",
   "metadata": {},
   "outputs": [],
   "source": [
    "combined_products = ____"
   ]
  },
  {
   "cell_type": "markdown",
   "id": "92524f3e",
   "metadata": {},
   "source": [
    "# 4.\n",
    "\n",
    "Набор данных базы данных Powerlifting на Kaggle включает в себя одну таблицу CSV для соревнований по пауэрлифтингу и отдельную таблицу для участников соревнований по пауэрлифтингу. Запустите ячейку ниже, чтобы загрузить эти наборы данных во фреймы данных:"
   ]
  },
  {
   "cell_type": "code",
   "execution_count": null,
   "id": "2fb65605",
   "metadata": {},
   "outputs": [],
   "source": [
    "powerlifting_meets = pd.read_csv(\"../input/powerlifting-database/meets.csv\")\n",
    "powerlifting_competitors = pd.read_csv(\"../input/powerlifting-database/openpowerlifting.csv\")"
   ]
  },
  {
   "cell_type": "markdown",
   "id": "34d2b5e7",
   "metadata": {},
   "source": [
    "Обе таблицы содержат ссылки на встречи, уникальный ключ для каждой встречи (соревнования), включенный в базу данных. Используя это, создайте набор данных, объединяющий две таблицы в одну."
   ]
  },
  {
   "cell_type": "code",
   "execution_count": null,
   "id": "2071b98c",
   "metadata": {},
   "outputs": [],
   "source": [
    "powerlifting_combined = ____"
   ]
  },
  {
   "cell_type": "markdown",
   "id": "76dafa5a",
   "metadata": {},
   "source": [
    "Поздравляю!\n",
    "\n",
    "Вы закончили микрокурс Pandas. Многие специалисты по обработке данных считают, что эффективность работы с Pandas - это самый полезный и практичный навык, которым они владеют, поскольку он позволяет быстро продвигаться в любом вашем проекте.\n",
    "\n",
    "Если вы хотите применить свои новые навыки для изучения геопространственных данных, мы рекомендуем вам ознакомиться с нашим микрокурсом по геопространственному анализу.\n",
    "\n",
    "Вы также можете воспользоваться своими навыками работы с Pandas, приняв участие в конкурсе Kaggle или ответив на интересующий вас вопрос с помощью наборов данных Kaggle."
   ]
  }
 ],
 "metadata": {
  "kernelspec": {
   "display_name": "Python 3 (ipykernel)",
   "language": "python",
   "name": "python3"
  },
  "language_info": {
   "codemirror_mode": {
    "name": "ipython",
    "version": 3
   },
   "file_extension": ".py",
   "mimetype": "text/x-python",
   "name": "python",
   "nbconvert_exporter": "python",
   "pygments_lexer": "ipython3",
   "version": "3.9.12"
  }
 },
 "nbformat": 4,
 "nbformat_minor": 5
}
