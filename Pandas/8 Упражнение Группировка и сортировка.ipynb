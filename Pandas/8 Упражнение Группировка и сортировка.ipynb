{
 "cells": [
  {
   "cell_type": "markdown",
   "id": "382ddb67",
   "metadata": {},
   "source": [
    "Эта тетрадь представляет собой упражнение из курса \"Панды\". Вы можете ознакомиться с учебным пособием по этой ссылке."
   ]
  },
  {
   "cell_type": "markdown",
   "id": "30d5c983",
   "metadata": {},
   "source": [
    "# Вступление\n",
    "\n",
    "В этих упражнениях мы применим групповой анализ к нашему набору данных.\n",
    "\n",
    "Запустите приведенную ниже ячейку кода, чтобы загрузить данные перед выполнением упражнений."
   ]
  },
  {
   "cell_type": "markdown",
   "id": "0d86eec4",
   "metadata": {},
   "source": [
    "Упражнения\n",
    "# 1.\n",
    "\n",
    "Кто чаще всего дает отзывы о винах в наборе данных? Создайте серию, индексом которой является категория taster_twitter_handle из набора данных, и значения которой подсчитывают, сколько отзывов написал каждый пользователь."
   ]
  },
  {
   "cell_type": "code",
   "execution_count": null,
   "id": "4682702b",
   "metadata": {},
   "outputs": [],
   "source": [
    "# Ваш код здесь\n",
    "reviews_written = ____"
   ]
  },
  {
   "cell_type": "markdown",
   "id": "9d36a093",
   "metadata": {},
   "source": [
    "# 2.\n",
    "\n",
    "Какое лучшее вино я могу купить за определенную сумму денег? Создайте серию, индексом которой будут цены на вина, а значениями - максимальное количество баллов, которое было присвоено в обзоре вину такой стоимости. Отсортируйте значения по цене в порядке возрастания (так, чтобы вверху было 4,0 доллара, а внизу - 3300,0 долларов)."
   ]
  },
  {
   "cell_type": "code",
   "execution_count": null,
   "id": "900cedfb",
   "metadata": {},
   "outputs": [],
   "source": [
    "best_rating_per_price = ____"
   ]
  },
  {
   "cell_type": "markdown",
   "id": "d9cc3898",
   "metadata": {},
   "source": [
    "# 3.\n",
    "\n",
    "Каковы минимальные и максимальные цены на каждый сорт вина? Создайте фрейм данных, индексом которого является категория сорта из набора данных, а значениями - их минимальное и максимальное значения."
   ]
  },
  {
   "cell_type": "code",
   "execution_count": null,
   "id": "4dc347c6",
   "metadata": {},
   "outputs": [],
   "source": [
    "price_extremes = ____"
   ]
  },
  {
   "cell_type": "markdown",
   "id": "4bad3571",
   "metadata": {},
   "source": [
    "# 4.\n",
    "\n",
    "Какие сорта вина самые дорогие? Создайте переменную sorted_varieties, содержащую копию данных из предыдущего вопроса, в которой сорта сортируются в порядке убывания на основе минимальной цены, затем по максимальной цене (чтобы разорвать связи)."
   ]
  },
  {
   "cell_type": "code",
   "execution_count": null,
   "id": "39b4e3ba",
   "metadata": {},
   "outputs": [],
   "source": [
    "sorted_varieties = ____"
   ]
  },
  {
   "cell_type": "markdown",
   "id": "55c38c7b",
   "metadata": {},
   "source": [
    "# 5.\n",
    "\n",
    "Создайте серию, индекс которой - \"рецензенты\", а значения - средняя оценка, выставленная этим рецензентом. Подсказка: вам понадобятся столбцы \"имя_мастера\" и \"баллы\"."
   ]
  },
  {
   "cell_type": "code",
   "execution_count": null,
   "id": "aa6f3a56",
   "metadata": {},
   "outputs": [],
   "source": [
    "reviewer_mean_ratings = ____"
   ]
  },
  {
   "cell_type": "markdown",
   "id": "2d821fca",
   "metadata": {},
   "source": [
    "Существуют ли существенные различия в средних оценках, выставленных различными рецензентами? Запустите ячейку ниже, чтобы с помощью метода describe() просмотреть сводную информацию о диапазоне значений."
   ]
  },
  {
   "cell_type": "code",
   "execution_count": null,
   "id": "200df9ac",
   "metadata": {},
   "outputs": [],
   "source": [
    "reviewer_mean_ratings.describe()"
   ]
  },
  {
   "cell_type": "markdown",
   "id": "47913a94",
   "metadata": {},
   "source": [
    "# 6.\n",
    "\n",
    "Какое сочетание стран и сортов наиболее распространено? Создайте серию, индекс которой представляет собой многоиндекс пар {страна, сорт}. Например, сорт пино нуар, произведенный в США, должен соответствовать {\"США\", \"Пино Нуар\"}. Отсортируйте значения в ряду в порядке убывания в зависимости от страны-производителя вина."
   ]
  },
  {
   "cell_type": "code",
   "execution_count": null,
   "id": "d975e401",
   "metadata": {},
   "outputs": [],
   "source": [
    "country_variety_counts = ____"
   ]
  },
  {
   "cell_type": "markdown",
   "id": "5264ad73",
   "metadata": {},
   "source": [
    "# Продолжай\n",
    "\n",
    "Переходим к типам данных и отсутствующим данным."
   ]
  }
 ],
 "metadata": {
  "kernelspec": {
   "display_name": "Python 3 (ipykernel)",
   "language": "python",
   "name": "python3"
  },
  "language_info": {
   "codemirror_mode": {
    "name": "ipython",
    "version": 3
   },
   "file_extension": ".py",
   "mimetype": "text/x-python",
   "name": "python",
   "nbconvert_exporter": "python",
   "pygments_lexer": "ipython3",
   "version": "3.9.12"
  }
 },
 "nbformat": 4,
 "nbformat_minor": 5
}
