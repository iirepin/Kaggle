{
 "cells": [
  {
   "cell_type": "markdown",
   "id": "035d063b",
   "metadata": {},
   "source": [
    "# Введение к спискам\n",
    "Организуйте свои данные таким образом, чтобы вы могли эффективно с ними работать."
   ]
  },
  {
   "cell_type": "markdown",
   "id": "8d01de1f",
   "metadata": {},
   "source": [
    "# Вступление¶\n",
    "Когда вы занимаетесь наукой о данных, вам нужен способ организовать свои данные, чтобы вы могли эффективно с ними работать. В Python доступно множество структур данных для хранения ваших данных, таких как списки, наборы, словари и кортежи. В этом руководстве вы узнаете, как работать со списками Python.\n",
    "\n",
    "# Мотивация\n",
    "В конкурсе \"От лепестка к металлу\" ваша цель - классифицировать виды цветка, основываясь только на его изображении. (Это обычная задача в компьютерном зрении, и она называется классификацией изображений.) Для достижения этой цели, скажем, вы упорядочиваете названия видов цветов в данных.\n",
    "\n",
    "Один из способов сделать это - упорядочить имена в строке Python."
   ]
  },
  {
   "cell_type": "code",
   "execution_count": null,
   "id": "f5c057bd",
   "metadata": {},
   "outputs": [],
   "source": [
    "flowers = \"pink primrose,hard-leaved pocket orchid,canterbury bells,sweet pea,english marigold,tiger lily,moon orchid,bird of paradise,monkshood,globe thistle\"\n",
    "\n",
    "print(type(flowers))\n",
    "print(flowers)"
   ]
  },
  {
   "cell_type": "markdown",
   "id": "ce8f9bcc",
   "metadata": {},
   "source": [
    "Еще лучше представить те же данные в виде списка на Python. Чтобы создать список, вам нужно использовать квадратные скобки ([, ]) и разделять каждый элемент запятой. Каждый элемент в списке представляет собой строку на Python, поэтому каждый из них заключен в кавычки."
   ]
  },
  {
   "cell_type": "code",
   "execution_count": null,
   "id": "cf4c2d5b",
   "metadata": {},
   "outputs": [],
   "source": [
    "flowers_list = [\"pink primrose\", \"hard-leaved pocket orchid\", \"canterbury bells\", \"sweet pea\", \"english marigold\", \"tiger lily\", \"moon orchid\", \"bird of paradise\", \"monkshood\", \"globe thistle\"]\n",
    "\n",
    "print(type(flowers_list))\n",
    "print(flowers_list)"
   ]
  },
  {
   "cell_type": "markdown",
   "id": "dfb2eb70",
   "metadata": {},
   "source": [
    "На первый взгляд, нет особой разницы, представляете ли вы информацию в виде строки на Python или в виде списка. Но, как вы увидите, существует множество задач, которые вам будет легче выполнять со списком. Например, список упростит поиск информации в Python.:\n",
    "\n",
    "найдите товар в указанной позиции (первый, второй, третий и т.д.),\n",
    "проверьте количество товаров, а\n",
    "также добавляйте и удаляйте товары.\n",
    "# Списки\n",
    "# Длина\n",
    "Мы можем подсчитать количество записей в любом списке с помощью функции len(), которая сокращенно означает \"длина\". Вам нужно только указать название списка в круглых скобках."
   ]
  },
  {
   "cell_type": "code",
   "execution_count": null,
   "id": "039bf4c4",
   "metadata": {},
   "outputs": [],
   "source": [
    "# Список состоит из десяти записей\n",
    "print(len(flowers_list))"
   ]
  },
  {
   "cell_type": "markdown",
   "id": "38ee3031",
   "metadata": {},
   "source": [
    "# Индексация\n",
    "Мы можем ссылаться на любой элемент в списке в соответствии с его позицией в списке (первый, второй, третий и т.д.). Это называется индексацией.\n",
    "\n",
    "Обратите внимание, что в Python используется индексация с нулевым значением, что означает, что:\n",
    "\n",
    "чтобы извлечь первую запись в списке, вы используете 0,\n",
    "чтобы извлечь вторую запись в списке, вы используете 1, а\n",
    "чтобы извлечь последнюю запись в списке, вы используете значение на единицу меньше длины списка."
   ]
  },
  {
   "cell_type": "code",
   "execution_count": null,
   "id": "337121be",
   "metadata": {},
   "outputs": [],
   "source": [
    "print(\"First entry:\", flowers_list[0])\n",
    "print(\"Second entry:\", flowers_list[1])\n",
    "\n",
    "# Список имеет длину десять, поэтому мы ссылаемся на последнюю запись с цифрой 9\n",
    "print(\"Last entry:\", flowers_list[9])"
   ]
  },
  {
   "cell_type": "markdown",
   "id": "df510ee7",
   "metadata": {},
   "source": [
    "Примечание: Возможно, вы заметили, что в приведенной выше ячейке кода мы используем одну функцию print() для печати нескольких элементов (как строки Python (например, \"Первая запись:\"), так и значения из списка (например, flowers_list[0]). Чтобы напечатать несколько элементов в Python с помощью одной команды, нам нужно только разделить их запятой.\n",
    "\n",
    "# Нарезка\n",
    "Вы также можете извлечь сегмент списка (например, первые три элемента или последние два элемента). Это называется нарезкой. Например:\n",
    "\n",
    "чтобы извлечь первые x записей, вы используете [:x], а\n",
    "чтобы извлечь последние y записей, вы используете [-y:]."
   ]
  },
  {
   "cell_type": "code",
   "execution_count": null,
   "id": "993ce2f4",
   "metadata": {},
   "outputs": [],
   "source": [
    "print(\"First three entries:\", flowers_list[:3])\n",
    "print(\"Final two entries:\", flowers_list[-2:])"
   ]
  },
  {
   "cell_type": "markdown",
   "id": "13eb967e",
   "metadata": {},
   "source": [
    "Как вы можете видеть выше, когда мы разрезаем список, он возвращает новый, сокращенный список.\n",
    "\n",
    "# Удаление элементов\n",
    "Удалите элемент из списка с помощью .remove() и заключите элемент, который вы хотите удалить, в круглые скобки."
   ]
  },
  {
   "cell_type": "code",
   "execution_count": null,
   "id": "fd3d5aa0",
   "metadata": {},
   "outputs": [],
   "source": [
    "flowers_list.remove(\"globe thistle\")\n",
    "print(flowers_list)"
   ]
  },
  {
   "cell_type": "markdown",
   "id": "2dd83fef",
   "metadata": {},
   "source": [
    "# Добавление элементов\n",
    "Добавьте элемент в список с помощью функции .append() и заключите нужный элемент в круглые скобки."
   ]
  },
  {
   "cell_type": "code",
   "execution_count": null,
   "id": "4d47e15e",
   "metadata": {},
   "outputs": [],
   "source": [
    "flowers_list.append(\"snapdragon\")\n",
    "print(flowers_list)"
   ]
  },
  {
   "cell_type": "markdown",
   "id": "41340abf",
   "metadata": {},
   "source": [
    "# Списки предназначены не только для строк\n",
    "До сих пор мы работали только со списками, в которых каждый элемент является строкой. Но в списках могут быть элементы с любым типом данных, включая логические значения, целые числа и числа с плавающей точкой.\n",
    "\n",
    "В качестве примера рассмотрим продажи книг в твердом переплете в первую неделю апреля 2000 года в розничном магазине."
   ]
  },
  {
   "cell_type": "code",
   "execution_count": null,
   "id": "51daba48",
   "metadata": {},
   "outputs": [],
   "source": [
    "hardcover_sales = [139, 128, 172, 139, 191, 168, 170]"
   ]
  },
  {
   "cell_type": "markdown",
   "id": "9b358d78",
   "metadata": {},
   "source": [
    "Здесь hardcover_sales - это список целых чисел. Как и при работе со строками, вы все еще можете выполнять такие действия, как получение длины, извлечение отдельных записей и расширение списка."
   ]
  },
  {
   "cell_type": "code",
   "execution_count": null,
   "id": "eeb0b91b",
   "metadata": {},
   "outputs": [],
   "source": [
    "print(\"Length of the list:\", len(hardcover_sales))\n",
    "print(\"Entry at index 2:\", hardcover_sales[2])"
   ]
  },
  {
   "cell_type": "markdown",
   "id": "ed933ba2",
   "metadata": {},
   "source": [
    "Вы также можете получить минимальное значение с помощью функции min() и максимальное - с помощью функции max()."
   ]
  },
  {
   "cell_type": "code",
   "execution_count": null,
   "id": "ce7b16ef",
   "metadata": {},
   "outputs": [],
   "source": [
    "print(\"Minimum:\", min(hardcover_sales))\n",
    "print(\"Maximum:\", max(hardcover_sales))"
   ]
  },
  {
   "cell_type": "markdown",
   "id": "d3d98352",
   "metadata": {},
   "source": [
    "Чтобы добавить каждый элемент в список, используйте функцию sum()."
   ]
  },
  {
   "cell_type": "code",
   "execution_count": null,
   "id": "d69cb1e6",
   "metadata": {},
   "outputs": [],
   "source": [
    "print(\"Total books sold in one week:\", sum(hardcover_sales))"
   ]
  },
  {
   "cell_type": "markdown",
   "id": "abb52f85",
   "metadata": {},
   "source": [
    "Мы также можем выполнить аналогичные вычисления с фрагментами списка. В следующей ячейке кода мы берем сумму за первые пять дней (sum(hardcover_sales[:5])), а затем делим на пять, чтобы получить среднее количество проданных книг за первые пять дней."
   ]
  },
  {
   "cell_type": "code",
   "execution_count": null,
   "id": "591e1497",
   "metadata": {},
   "outputs": [],
   "source": [
    "print(\"Average books sold in first five days:\", sum(hardcover_sales[:5])/5)"
   ]
  },
  {
   "cell_type": "markdown",
   "id": "ee2a690d",
   "metadata": {},
   "source": [
    "# Ваш ход¶\n",
    "Теперь ваша очередь попрактиковаться в создании и изменении списков."
   ]
  }
 ],
 "metadata": {
  "kernelspec": {
   "display_name": "Python 3 (ipykernel)",
   "language": "python",
   "name": "python3"
  },
  "language_info": {
   "codemirror_mode": {
    "name": "ipython",
    "version": 3
   },
   "file_extension": ".py",
   "mimetype": "text/x-python",
   "name": "python",
   "nbconvert_exporter": "python",
   "pygments_lexer": "ipython3",
   "version": "3.9.12"
  }
 },
 "nbformat": 4,
 "nbformat_minor": 5
}
