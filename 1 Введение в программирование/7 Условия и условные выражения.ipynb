{
 "cells": [
  {
   "cell_type": "markdown",
   "id": "959ed329",
   "metadata": {},
   "source": [
    "# Условия и условные операторы\n",
    "Изменяют способ выполнения функций в зависимости от входных данных."
   ]
  },
  {
   "cell_type": "markdown",
   "id": "0e8f4249",
   "metadata": {},
   "source": [
    "# Вступление¶\n",
    "Вы уже видели, что когда вы меняете входное значение на функцию, вы часто получаете другой результат. Например, рассмотрим функцию add_five(), которая просто добавляет пять к любому числу и возвращает результат. Тогда add_five(7) вернет значение 12 (=7+5), а add_five(8) вернет значение 13 (=8+5). Обратите внимание, что независимо от того, каковы входные данные, действие, выполняемое функцией, всегда одно и то же: она всегда добавляет пять.\n",
    "\n",
    "Но вместо этого вам может понадобиться функция, которая выполняет действие, зависящее от входных данных. Например, вам может понадобиться функция add_three_or_eight(), которая добавляет три, если входное значение меньше 10, и добавляет восемь, если входное значение равно 10 или более. Тогда add_three_or_eight(1) вернет 4 (= 1+3), но add_three_or_eight(11) вернет 19 (=11+8). В этом случае действие, выполняемое функцией, зависит от входных данных.\n",
    "\n",
    "На этом уроке вы узнаете, как использовать условия и условные операторы для изменения способа выполнения ваших функций.\n",
    "\n",
    "# Условия\n",
    "В программировании условиями называются утверждения, которые могут быть либо истинными, либо ложными. В Python существует множество различных способов записи условий, но некоторые из наиболее распространенных способов записи условий просто сравнивают два разных значения. Например, вы можете проверить, больше ли 2, чем 3."
   ]
  },
  {
   "cell_type": "code",
   "execution_count": null,
   "id": "ecde41cb",
   "metadata": {},
   "outputs": [],
   "source": [
    "print(2 > 3)"
   ]
  },
  {
   "cell_type": "markdown",
   "id": "a92d05c3",
   "metadata": {},
   "source": [
    "Python определяет это как ложное, поскольку 2 не больше 3.\n",
    "\n",
    "Вы также можете использовать условия для сравнения значений переменных. В следующей ячейке кода значение var_one равно 1, а значение var_two равно двум. В условиях мы проверяем, меньше ли значение var_one значения 1 (что равно False), и проверяем, больше ли значение var_two значения var_one или равно ему (что равно True)."
   ]
  },
  {
   "cell_type": "code",
   "execution_count": 1,
   "id": "80923014",
   "metadata": {},
   "outputs": [
    {
     "name": "stdout",
     "output_type": "stream",
     "text": [
      "False\n",
      "True\n"
     ]
    }
   ],
   "source": [
    "var_one = 1\n",
    "var_two = 2\n",
    "\n",
    "print(var_one < 1)\n",
    "print(var_two >= var_one)"
   ]
  },
  {
   "cell_type": "markdown",
   "id": "e58ab5cf",
   "metadata": {},
   "source": [
    "Список распространенных символов, которые вы можете использовать для построения условий, приведен в таблице ниже."
   ]
  },
  {
   "cell_type": "code",
   "execution_count": null,
   "id": "23ad3e85",
   "metadata": {},
   "outputs": [],
   "source": []
  },
  {
   "cell_type": "code",
   "execution_count": null,
   "id": "ec81228c",
   "metadata": {},
   "outputs": [],
   "source": []
  },
  {
   "cell_type": "code",
   "execution_count": null,
   "id": "3d9a4bb2",
   "metadata": {},
   "outputs": [],
   "source": []
  },
  {
   "cell_type": "code",
   "execution_count": null,
   "id": "fdfb653c",
   "metadata": {},
   "outputs": [],
   "source": []
  },
  {
   "cell_type": "code",
   "execution_count": null,
   "id": "1f298f2c",
   "metadata": {},
   "outputs": [],
   "source": []
  },
  {
   "cell_type": "code",
   "execution_count": null,
   "id": "add2f7d0",
   "metadata": {},
   "outputs": [],
   "source": []
  },
  {
   "cell_type": "code",
   "execution_count": null,
   "id": "110f49a2",
   "metadata": {},
   "outputs": [],
   "source": []
  },
  {
   "cell_type": "code",
   "execution_count": null,
   "id": "6661f41f",
   "metadata": {},
   "outputs": [],
   "source": []
  },
  {
   "cell_type": "code",
   "execution_count": null,
   "id": "f86238d8",
   "metadata": {},
   "outputs": [],
   "source": []
  },
  {
   "cell_type": "code",
   "execution_count": null,
   "id": "bdfe8641",
   "metadata": {},
   "outputs": [],
   "source": []
  },
  {
   "cell_type": "code",
   "execution_count": null,
   "id": "d5e31be4",
   "metadata": {},
   "outputs": [],
   "source": []
  },
  {
   "cell_type": "code",
   "execution_count": null,
   "id": "40054e34",
   "metadata": {},
   "outputs": [],
   "source": []
  },
  {
   "cell_type": "code",
   "execution_count": null,
   "id": "0a6ed71a",
   "metadata": {},
   "outputs": [],
   "source": []
  },
  {
   "cell_type": "code",
   "execution_count": null,
   "id": "9edbe6e7",
   "metadata": {},
   "outputs": [],
   "source": []
  },
  {
   "cell_type": "code",
   "execution_count": null,
   "id": "f272fe0e",
   "metadata": {},
   "outputs": [],
   "source": []
  },
  {
   "cell_type": "code",
   "execution_count": null,
   "id": "aede6aa9",
   "metadata": {},
   "outputs": [],
   "source": []
  },
  {
   "cell_type": "code",
   "execution_count": null,
   "id": "daa7e3c2",
   "metadata": {},
   "outputs": [],
   "source": []
  },
  {
   "cell_type": "code",
   "execution_count": null,
   "id": "433e1bd0",
   "metadata": {},
   "outputs": [],
   "source": []
  },
  {
   "cell_type": "code",
   "execution_count": null,
   "id": "d006e389",
   "metadata": {},
   "outputs": [],
   "source": []
  },
  {
   "cell_type": "code",
   "execution_count": null,
   "id": "9cb354a4",
   "metadata": {},
   "outputs": [],
   "source": []
  }
 ],
 "metadata": {
  "kernelspec": {
   "display_name": "Python 3 (ipykernel)",
   "language": "python",
   "name": "python3"
  },
  "language_info": {
   "codemirror_mode": {
    "name": "ipython",
    "version": 3
   },
   "file_extension": ".py",
   "mimetype": "text/x-python",
   "name": "python",
   "nbconvert_exporter": "python",
   "pygments_lexer": "ipython3",
   "version": "3.9.12"
  }
 },
 "nbformat": 4,
 "nbformat_minor": 5
}
