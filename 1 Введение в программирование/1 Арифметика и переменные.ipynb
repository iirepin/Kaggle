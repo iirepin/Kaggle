{
 "cells": [
  {
   "cell_type": "markdown",
   "id": "dd6b0059",
   "metadata": {},
   "source": [
    "# Арифметика и переменные\n",
    "Выполняйте вычисления, определяйте и изменяйте переменные."
   ]
  },
  {
   "cell_type": "markdown",
   "id": "04ef0de9",
   "metadata": {},
   "source": [
    "Добро пожаловать на курс \"Введение в программирование\"! Этот курс для вас, если вы никогда не писали ни строчки кода и заинтересованы в изучении науки о данных и машинного обучения. (Если у вас есть опыт программирования и вы новичок в языке Python, то для начала лучше всего подойдет курс Python.)\n",
    "\n",
    "В этом курсе вы узнаете, как с помощью кода заставить компьютер выполнять определенные задачи за вас. Python - один из самых популярных языков программирования в области науки о данных, и именно его вы будете изучать на этом курсе. Как только вы пройдете этот курс, вы будете полностью готовы перейти к курсу Python, за которым последует курс \"Введение в машинное обучение\".\n",
    "\n",
    "В этом руководстве вы увидите несколько примеров кода на Python. В этом упражнении у вас будет возможность написать свой собственный код. (Если вы хотите предварительно ознакомиться с упражнением, не стесняйтесь, посмотрите сейчас. Мы также предоставляем ссылку на упражнение в конце этого руководства.)\n",
    "\n",
    "Печатание\n",
    "Одна из самых простых (и самых важных!) задач, которую вы можете поручить компьютеру, - это распечатать сообщение.\n",
    "\n",
    "В Python мы просим компьютер напечатать сообщение для нас, написав print() и заключив сообщение в круглые скобки и кавычки. Ниже мы просим компьютер напечатать сообщение Hello, world!."
   ]
  },
  {
   "cell_type": "code",
   "execution_count": 1,
   "id": "729af15c",
   "metadata": {},
   "outputs": [
    {
     "name": "stdout",
     "output_type": "stream",
     "text": [
      "Hello, world!\n"
     ]
    }
   ],
   "source": [
    "print(\"Hello, world!\")"
   ]
  },
  {
   "cell_type": "markdown",
   "id": "d7ed3a55",
   "metadata": {},
   "source": [
    "Код находится внутри поля (известного как кодовая ячейка), а ответ компьютера (называемый выводом кода) показан под полем. Как вы можете видеть, компьютер напечатал сообщение, которое мы хотели.\n",
    "\n",
    "# Арифметика\n",
    "Мы также можем вывести значение какой-либо арифметической операции (такой как сложение, вычитание, умножение или деление).\n",
    "\n",
    "Например, в следующей ячейке кода компьютер прибавляет 2 к 1 и затем выводит результат, равный 3. Обратите внимание, что в отличие от того, когда мы просто печатали текст, мы не используем кавычки."
   ]
  },
  {
   "cell_type": "code",
   "execution_count": 2,
   "id": "0ece3c15",
   "metadata": {},
   "outputs": [
    {
     "name": "stdout",
     "output_type": "stream",
     "text": [
      "3\n"
     ]
    }
   ],
   "source": [
    "print(1 + 2)"
   ]
  },
  {
   "cell_type": "markdown",
   "id": "4255ce0c",
   "metadata": {},
   "source": [
    "Мы также можем выполнить вычитание в python. Следующая ячейка кода вычитает 5 из 9 и выводит результат, который равен 4."
   ]
  },
  {
   "cell_type": "code",
   "execution_count": 3,
   "id": "bf67f02a",
   "metadata": {},
   "outputs": [
    {
     "name": "stdout",
     "output_type": "stream",
     "text": [
      "4\n"
     ]
    }
   ],
   "source": [
    "print(9 - 5)"
   ]
  },
  {
   "attachments": {
    "image.png": {
     "image/png": "[encoded data removed]"
    }
   },
   "cell_type": "markdown",
   "id": "1d947a95",
   "metadata": {},
   "source": [
    "На самом деле вы можете выполнять множество вычислений с помощью python! Некоторые примеры приведены в таблице ниже.\n",
    "![image.png](attachment:image.png)\n",
    "Вы можете управлять порядком операций в длинных вычислениях с помощью круглых скобок."
   ]
  },
  {
   "cell_type": "code",
   "execution_count": 4,
   "id": "744a0152",
   "metadata": {},
   "outputs": [
    {
     "name": "stdout",
     "output_type": "stream",
     "text": [
      "196.0\n"
     ]
    }
   ],
   "source": [
    "print(((1 + 3) * (9 - 2) / 2) ** 2)"
   ]
  },
  {
   "cell_type": "markdown",
   "id": "58354f72",
   "metadata": {},
   "source": [
    "В общем, Python следует правилу PEMDAS при определении порядка выполнения операций.\n",
    "\n",
    "# Комментарии\n",
    "Мы используем комментарии, чтобы пояснить, что делает код. Они помогают другим пользователям понять ваш код, а также могут быть полезны, если вы давно не просматривали свой собственный код. Пока что написанный нами код очень короткий, но аннотации становятся более важными, когда вы пишете много кода.\n",
    "\n",
    "Например, в следующей ячейке кода мы умножаем 3 на 2. Мы также добавляем комментарий (# Умножить 3 на 2) над кодом, чтобы описать, что делает код."
   ]
  },
  {
   "cell_type": "code",
   "execution_count": 5,
   "id": "194690b9",
   "metadata": {},
   "outputs": [
    {
     "name": "stdout",
     "output_type": "stream",
     "text": [
      "6\n"
     ]
    }
   ],
   "source": [
    "# Умножьте 3 на 2\n",
    "print(3 * 2)"
   ]
  },
  {
   "cell_type": "markdown",
   "id": "f789fb3c",
   "metadata": {},
   "source": [
    "Чтобы указать Python, что строка является комментарием (а не кодом Python), вам нужно написать знак фунта (#) в качестве самого первого символа.\n",
    "\n",
    "Как только Python увидит знак фунта и распознает, что строка является комментарием, компьютер полностью проигнорирует его. Это важно, потому что, как и в случае с английским или хинди (или любым другим языком!), Python - это язык с очень строгими правилами, которым необходимо следовать. Однако Python более строг, чем обычный слушатель, и просто выдаст ошибку, если не сможет понять код.\n",
    "\n",
    "Мы можем увидеть пример этого в ячейке с кодом ниже. Ошибки Python, если мы удалим знак pound, потому что текст в комментарии не является допустимым кодом Python, поэтому он не может быть интерпретирован должным образом."
   ]
  },
  {
   "cell_type": "code",
   "execution_count": 6,
   "id": "abeb3127",
   "metadata": {},
   "outputs": [
    {
     "ename": "SyntaxError",
     "evalue": "invalid syntax (3750420471.py, line 1)",
     "output_type": "error",
     "traceback": [
      "\u001b[0;36m  Input \u001b[0;32mIn [6]\u001b[0;36m\u001b[0m\n\u001b[0;31m    Multiply 3 by 2\u001b[0m\n\u001b[0m             ^\u001b[0m\n\u001b[0;31mSyntaxError\u001b[0m\u001b[0;31m:\u001b[0m invalid syntax\n"
     ]
    }
   ],
   "source": [
    "Multiply 3 by 2"
   ]
  },
  {
   "cell_type": "markdown",
   "id": "03518f66",
   "metadata": {},
   "source": [
    "# Переменные¶\n",
    "До сих пор вы использовали код для вычисления и печати результата, но результат нигде не сохранен. Однако вы можете представить, что вам может понадобиться сохранить результат, чтобы поработать с ним позже. Для этого вам нужно будет использовать переменные.\n",
    "\n",
    "# Создание переменных\n",
    "В следующей ячейке кода создается переменная с именем test_var и присваивается ей значение, которое мы получаем, когда добавляем 5 к 4.\n",
    "\n",
    "Затем мы выводим значение, присвоенное переменной, которое равно 9."
   ]
  },
  {
   "cell_type": "code",
   "execution_count": 9,
   "id": "b6c31292",
   "metadata": {},
   "outputs": [
    {
     "name": "stdout",
     "output_type": "stream",
     "text": [
      "9\n"
     ]
    }
   ],
   "source": [
    "# Создайте переменную с именем test_var и присвойте ей значение 4+5\n",
    "test_var = 4 + 5\n",
    "\n",
    "# Вывести значение параметра test_var\n",
    "print(test_var)"
   ]
  },
  {
   "cell_type": "markdown",
   "id": "3a8866da",
   "metadata": {},
   "source": [
    "В общем, чтобы работать с переменной, вам нужно начать с выбора имени, которое вы хотите использовать. Имена переменных в идеале должны быть короткими и описательными. Они также должны удовлетворять нескольким требованиям:\n",
    "\n",
    "В них не должно быть пробелов (например, test var не допускается).\n",
    "Они могут содержать только буквы, цифры и символы подчеркивания (например, test_var! не допускается)\n",
    "Они должны начинаться с буквы или символа подчеркивания (например, 1_var не допускается)\n",
    "Затем, чтобы создать переменную, вам нужно использовать =, чтобы присвоить ей значение, которое вы хотите, чтобы она имела.\n",
    "\n",
    "Вы всегда можете просмотреть значение, присвоенное переменной, используя функцию print() и заключив название переменной в круглые скобки.\n",
    "\n",
    "Со временем вы научитесь выбирать подходящие имена для переменных Python. Это совершенно нормально, что сейчас он чувствует себя некомфортно, и лучший способ научиться этому - просто просмотреть много кода на Python!\n",
    "\n",
    "# Манипулирование переменными\n",
    "Вы всегда можете изменить значение, присвоенное переменной, переопределив предыдущее значение.\n",
    "\n",
    "В приведенной ниже ячейке кода мы изменяем значение параметра my_var с 3 на 100."
   ]
  },
  {
   "cell_type": "code",
   "execution_count": 7,
   "id": "d351adb0",
   "metadata": {},
   "outputs": [
    {
     "name": "stdout",
     "output_type": "stream",
     "text": [
      "3\n",
      "100\n"
     ]
    }
   ],
   "source": [
    "# Установите значение новой переменной равным 3\n",
    "my_var = 3\n",
    "\n",
    "# Выведите значение, присвоенное my_var\n",
    "print(my_var)\n",
    "\n",
    "# Измените значение переменной на 100\n",
    "my_var = 100\n",
    "\n",
    "# Выведите новое значение, присвоенное my_var\n",
    "print(my_var)"
   ]
  },
  {
   "cell_type": "markdown",
   "id": "e410a61b",
   "metadata": {},
   "source": [
    "Обратите внимание, что, как правило, всякий раз, когда вы определяете переменную в ячейке кода, все последующие ячейки кода также имеют доступ к этой переменной. Например, мы используем следующую ячейку кода для доступа к значениям my_var (из ячейки кода выше) и test_vary (из предыдущего руководства)."
   ]
  },
  {
   "cell_type": "code",
   "execution_count": 10,
   "id": "3235bf43",
   "metadata": {},
   "outputs": [
    {
     "name": "stdout",
     "output_type": "stream",
     "text": [
      "100\n",
      "9\n"
     ]
    }
   ],
   "source": [
    "print(my_var)\n",
    "print(test_var)"
   ]
  },
  {
   "cell_type": "markdown",
   "id": "a579c27a",
   "metadata": {},
   "source": [
    "Следующая ячейка кода указывает Python увеличить текущее значение my_var на 3.\n",
    "\n",
    "Для этого нам по-прежнему нужно использовать my_var =, как и раньше. И также, как и раньше, новое значение, которое мы хотим присвоить переменной, находится справа от знака =."
   ]
  },
  {
   "cell_type": "code",
   "execution_count": 11,
   "id": "ee359d5b",
   "metadata": {},
   "outputs": [
    {
     "name": "stdout",
     "output_type": "stream",
     "text": [
      "103\n"
     ]
    }
   ],
   "source": [
    "# Увеличьте значение на 3\n",
    "my_var = my_var + 3\n",
    "\n",
    "# Выведите значение, присвоенное my_var\n",
    "print(my_var)"
   ]
  },
  {
   "cell_type": "markdown",
   "id": "f880bb51",
   "metadata": {},
   "source": [
    "# Использование нескольких переменных¶\n",
    "Обычно в коде используется несколько переменных. Это особенно полезно, когда нам приходится выполнять длительное вычисление с несколькими входными данными.\n",
    "\n",
    "В следующей ячейке кода мы вычисляем количество секунд за четыре года. В этом вычислении используется пять входных данных."
   ]
  },
  {
   "cell_type": "code",
   "execution_count": 12,
   "id": "aeb162b1",
   "metadata": {},
   "outputs": [
    {
     "name": "stdout",
     "output_type": "stream",
     "text": [
      "126144000\n"
     ]
    }
   ],
   "source": [
    "# Создать переменные\n",
    "num_years = 4\n",
    "days_per_year = 365 \n",
    "hours_per_day = 24\n",
    "mins_per_hour = 60\n",
    "secs_per_min = 60\n",
    "\n",
    "# Подсчитайте количество секунд за четыре года\n",
    "total_secs = secs_per_min * mins_per_hour * hours_per_day * days_per_year * num_years\n",
    "print(total_secs)"
   ]
  },
  {
   "cell_type": "markdown",
   "id": "803b8bbd",
   "metadata": {},
   "source": [
    "Как было подсчитано выше, за четыре года проходит 126144000 секунд.\n",
    "\n",
    "Обратите внимание, что можно выполнить это вычисление без переменных просто так 60 * 60 * 24 * 365 * 4, но гораздо сложнее проверить, не содержит ли вычисление без переменных какой-либо ошибки, потому что оно не так читаемо. Когда мы используем переменные (такие как num_years, days_per_year и т.д.), мы можем лучше отслеживать каждую часть расчета и легче проверять и исправлять любые ошибки.\n",
    "\n",
    "Обратите внимание, что особенно полезно использовать переменные, когда значения входных данных могут изменяться. Например, предположим, что мы хотим немного улучшить нашу оценку, изменив значение количества дней в году с 365 до 365,25, чтобы учесть високосные годы. Затем мы можем изменить значение, присвоенное days_per_year, без изменения каких-либо других переменных и повторить расчет."
   ]
  },
  {
   "cell_type": "code",
   "execution_count": 13,
   "id": "7dd199f3",
   "metadata": {},
   "outputs": [
    {
     "name": "stdout",
     "output_type": "stream",
     "text": [
      "126230400.0\n"
     ]
    }
   ],
   "source": [
    "# Обновление, включающее високосные годы\n",
    "days_per_year = 365.25\n",
    "\n",
    "# Подсчитайте количество секунд за четыре года\n",
    "total_secs = secs_per_min * mins_per_hour * hours_per_day * days_per_year * num_years\n",
    "print(total_secs)"
   ]
  },
  {
   "cell_type": "markdown",
   "id": "81e15d85",
   "metadata": {},
   "source": [
    "Примечание: Возможно, вы заметили, что в конце номера добавлено .0, которое может показаться ненужным. Это вызвано тем, что во втором вычислении мы использовали число с дробной частью (365,25), тогда как в первом вычислении умножались только числа без дробной части. Вы узнаете больше об этом в уроке 3, когда мы рассмотрим типы данных.\n",
    "\n",
    "# Отладка\n",
    "Одной из распространенных ошибок при работе с переменными является случайное внесение опечаток. Например, если мы напишем hours_per_day как hours_per_dy, Python выдаст ошибку с сообщением NameError: имя 'hours_per_dy' не определено."
   ]
  },
  {
   "cell_type": "code",
   "execution_count": 14,
   "id": "7696762d",
   "metadata": {},
   "outputs": [
    {
     "ename": "NameError",
     "evalue": "name 'hours_per_dy' is not defined",
     "output_type": "error",
     "traceback": [
      "\u001b[0;31m---------------------------------------------------------------------------\u001b[0m",
      "\u001b[0;31mNameError\u001b[0m                                 Traceback (most recent call last)",
      "Input \u001b[0;32mIn [14]\u001b[0m, in \u001b[0;36m<cell line: 1>\u001b[0;34m()\u001b[0m\n\u001b[0;32m----> 1\u001b[0m \u001b[38;5;28mprint\u001b[39m(\u001b[43mhours_per_dy\u001b[49m)\n",
      "\u001b[0;31mNameError\u001b[0m: name 'hours_per_dy' is not defined"
     ]
    }
   ],
   "source": [
    "print(hours_per_dy)"
   ]
  },
  {
   "cell_type": "markdown",
   "id": "d4e73af2",
   "metadata": {},
   "source": [
    "Когда вы видите ошибку NameError, подобную этой, это указывает на то, что вам следует проверить, как вы написали переменную, на которую она ссылается, как \"не определена\". Затем, чтобы устранить ошибку, вам нужно только исправить написание."
   ]
  },
  {
   "cell_type": "code",
   "execution_count": 15,
   "id": "0a303698",
   "metadata": {},
   "outputs": [
    {
     "name": "stdout",
     "output_type": "stream",
     "text": [
      "24\n"
     ]
    }
   ],
   "source": [
    "print(hours_per_day)"
   ]
  },
  {
   "cell_type": "markdown",
   "id": "139a2653",
   "metadata": {},
   "source": [
    "# Что дальше?¶\n",
    "Теперь ваша очередь попрактиковаться в манипулировании переменными с помощью арифметики."
   ]
  },
  {
   "cell_type": "markdown",
   "id": "a29ae1ed",
   "metadata": {},
   "source": [
    "У вас есть вопросы или комментарии? Посетите форум для обсуждения курса, чтобы пообщаться с другими слушателями."
   ]
  }
 ],
 "metadata": {
  "kernelspec": {
   "display_name": "Python 3 (ipykernel)",
   "language": "python",
   "name": "python3"
  },
  "language_info": {
   "codemirror_mode": {
    "name": "ipython",
    "version": 3
   },
   "file_extension": ".py",
   "mimetype": "text/x-python",
   "name": "python",
   "nbconvert_exporter": "python",
   "pygments_lexer": "ipython3",
   "version": "3.9.12"
  }
 },
 "nbformat": 4,
 "nbformat_minor": 5
}
