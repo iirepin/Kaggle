{
 "cells": [
  {
   "cell_type": "markdown",
   "id": "b76f96ee",
   "metadata": {},
   "source": [
    "# Типы данных\n",
    "Изучайте целые числа, числа с плавающей запятой, логические значения и строки."
   ]
  },
  {
   "cell_type": "markdown",
   "id": "89f2836c",
   "metadata": {},
   "source": [
    "# Вступление¶\n",
    "Всякий раз, когда вы создаете переменную в Python, она имеет значение с соответствующим типом данных. Существует множество различных типов данных, таких как целые числа, числа с плавающей запятой, логические значения и строки, все из которых мы рассмотрим в этом уроке. (Это лишь небольшая часть доступных типов данных - есть также словари, наборы, списки, кортежи и многое другое.)\n",
    "\n",
    "Типы данных важны, поскольку они определяют, какие действия вы можете с ними выполнять. Например, вы можете разделить два числа с плавающей точкой, но не можете разделить две строки. Например, 12.0/2.0 имеет смысл, а \"кошка\"/\"собака\" - нет.\n",
    "\n",
    "Чтобы избежать ошибок, нам нужно убедиться, что действия соответствуют имеющимся у нас типам данных.\n",
    "\n",
    "# Целые числа\n",
    "Целые числа - это числа без какой-либо дробной части, которые могут быть положительными (1, 2, 3, ...), отрицательными (-1, -2, -3, ...), или нулевыми (0).\n",
    "\n",
    "В приведенной ниже ячейке кода мы присваиваем переменной x значение целого числа. Затем мы проверяем тип данных с помощью функции type(), и нам нужно только передать имя переменной в круглые скобки."
   ]
  },
  {
   "cell_type": "code",
   "execution_count": null,
   "id": "d9a460a9",
   "metadata": {},
   "outputs": [],
   "source": [
    "x = 14\n",
    "print(x)\n",
    "print(type(x))"
   ]
  },
  {
   "cell_type": "markdown",
   "id": "6a346d77",
   "metadata": {},
   "source": [
    "В приведенном выше выводе <class 'int'> относится к целочисленному типу данных.\n",
    "\n",
    "# Поплавки\n",
    "Числа с плавающей запятой - это числа с дробной частью. Они могут содержать множество чисел после запятой."
   ]
  },
  {
   "cell_type": "code",
   "execution_count": null,
   "id": "f85b45ec",
   "metadata": {},
   "outputs": [],
   "source": [
    "nearly_pi = 3.141592653589793238462643383279502884197169399375105820974944\n",
    "print(nearly_pi)\n",
    "print(type(nearly_pi))"
   ]
  },
  {
   "cell_type": "markdown",
   "id": "d9db0f48",
   "metadata": {},
   "source": [
    "Мы также можем указать число с плавающей точкой с дробью."
   ]
  },
  {
   "cell_type": "code",
   "execution_count": null,
   "id": "e32a0b41",
   "metadata": {},
   "outputs": [],
   "source": [
    "almost_pi = 22/7\n",
    "print(almost_pi)\n",
    "print(type(almost_pi))"
   ]
  },
  {
   "cell_type": "markdown",
   "id": "417c093f",
   "metadata": {},
   "source": [
    "Одна из функций, которая особенно полезна для работы с дробями, - это функция round(). Она позволяет округлить число до заданного количества знаков после запятой."
   ]
  },
  {
   "cell_type": "code",
   "execution_count": null,
   "id": "d1a49fca",
   "metadata": {},
   "outputs": [],
   "source": [
    "# Округлить до 5 знаков после запятой\n",
    "rounded_pi = round(almost_pi, 5)\n",
    "print(rounded_pi)\n",
    "print(type(rounded_pi))"
   ]
  },
  {
   "cell_type": "markdown",
   "id": "156d1c95",
   "metadata": {},
   "source": [
    "Всякий раз, когда вы записываете число с десятичной точкой, Python распознает его как тип данных с плавающей точкой.\n",
    "\n",
    "Например, 1. (или 1.0, 1.00 и т.д.) будет распознаваться как число с плавающей точкой. Это так, хотя технически эти числа не имеют дробной части!"
   ]
  },
  {
   "cell_type": "code",
   "execution_count": null,
   "id": "1088b317",
   "metadata": {},
   "outputs": [],
   "source": [
    "y_float = 1.\n",
    "print(y_float)\n",
    "print(type(y_float))"
   ]
  },
  {
   "cell_type": "markdown",
   "id": "2bcb8a75",
   "metadata": {},
   "source": [
    "# Логический¶\n",
    "Логические значения представляют собой одно из двух значений: True или False. В приведенной ниже ячейке кода z_one присваивается логическое значение со значением True."
   ]
  },
  {
   "cell_type": "code",
   "execution_count": null,
   "id": "256715ce",
   "metadata": {},
   "outputs": [],
   "source": [
    "z_one = True\n",
    "print(z_one)\n",
    "print(type(z_one))"
   ]
  },
  {
   "cell_type": "markdown",
   "id": "cb9f15c6",
   "metadata": {},
   "source": [
    "Затем z_two присваивается логическое значение со значением False."
   ]
  },
  {
   "cell_type": "code",
   "execution_count": null,
   "id": "6a1f50c7",
   "metadata": {},
   "outputs": [],
   "source": [
    "z_two = False\n",
    "print(z_two)\n",
    "print(type(z_two))"
   ]
  },
  {
   "cell_type": "markdown",
   "id": "b744f7df",
   "metadata": {},
   "source": [
    "Логические значения используются для представления истинностного значения выражения. Поскольку 1 < 2 является истинным утверждением, z_three принимает значение True."
   ]
  },
  {
   "cell_type": "code",
   "execution_count": null,
   "id": "fd129155",
   "metadata": {},
   "outputs": [],
   "source": [
    "z_three = (1 < 2)\n",
    "print(z_three)\n",
    "print(type(z_three))"
   ]
  },
  {
   "cell_type": "markdown",
   "id": "876c7396",
   "metadata": {},
   "source": [
    "Аналогично, поскольку 5 < 3 является ложным утверждением, z_four принимает значение False."
   ]
  },
  {
   "cell_type": "code",
   "execution_count": null,
   "id": "e34a2458",
   "metadata": {},
   "outputs": [],
   "source": [
    "z_four = (5 < 3)\n",
    "print(z_four)\n",
    "print(type(z_four))"
   ]
  },
  {
   "cell_type": "markdown",
   "id": "604ea3b9",
   "metadata": {},
   "source": [
    "Мы можем изменить логическое значение, используя not. Таким образом, not True эквивалентно False, а not False становится True."
   ]
  },
  {
   "cell_type": "code",
   "execution_count": null,
   "id": "76c3f374",
   "metadata": {},
   "outputs": [],
   "source": [
    "z_five = not z_four\n",
    "print(z_five)\n",
    "print(type(z_five))"
   ]
  },
  {
   "cell_type": "markdown",
   "id": "b9430421",
   "metadata": {},
   "source": [
    "Логические значения будут важны на следующем уроке, когда вы узнаете об условиях и условных выражениях.\n",
    "\n",
    "# Струнные\n",
    "Строковый тип данных - это набор символов (например, букв алфавита, знаков препинания, цифровых обозначений или символьных знаков), заключенных в кавычки. Строки обычно используются для представления текста."
   ]
  },
  {
   "cell_type": "code",
   "execution_count": null,
   "id": "6a7476d0",
   "metadata": {},
   "outputs": [],
   "source": [
    "w = \"Hello, Python!\"\n",
    "print(w)\n",
    "print(type(w))"
   ]
  },
  {
   "cell_type": "markdown",
   "id": "2adefaa5",
   "metadata": {},
   "source": [
    "Вы можете получить длину строки с помощью функции len().  \"Привет, Python!\" имеет длину 14, поскольку содержит 14 символов, включая пробел, запятую и восклицательный знак. Обратите внимание, что кавычки не учитываются при расчете длины."
   ]
  },
  {
   "cell_type": "code",
   "execution_count": null,
   "id": "54758e95",
   "metadata": {},
   "outputs": [],
   "source": [
    "print(len(w))"
   ]
  },
  {
   "cell_type": "markdown",
   "id": "1faf36ca",
   "metadata": {},
   "source": [
    "Одним из особых типов строк является пустая строка, длина которой равна нулю."
   ]
  },
  {
   "cell_type": "code",
   "execution_count": null,
   "id": "9cd2482a",
   "metadata": {},
   "outputs": [],
   "source": [
    "shortest_string = \"\"\n",
    "print(type(shortest_string))\n",
    "print(len(shortest_string))"
   ]
  },
  {
   "cell_type": "markdown",
   "id": "7eb95862",
   "metadata": {},
   "source": [
    "Если вы заключаете число в кавычки, оно имеет строковый тип данных."
   ]
  },
  {
   "cell_type": "code",
   "execution_count": null,
   "id": "4e6442f1",
   "metadata": {},
   "outputs": [],
   "source": [
    "my_number = \"1.12321\"\n",
    "print(my_number)\n",
    "print(type(my_number))"
   ]
  },
  {
   "cell_type": "markdown",
   "id": "6cee220c",
   "metadata": {},
   "source": [
    "Если у нас есть строка, которая может быть преобразована в float, мы можем использовать float().\n",
    "\n",
    "Это не всегда будет работать! Например, мы можем преобразовать \"10.43430\" и \"3\" в числа с плавающей точкой, но мы не можем преобразовать \"Привет, Python!\" в число с плавающей точкой."
   ]
  },
  {
   "cell_type": "code",
   "execution_count": null,
   "id": "58fb8b56",
   "metadata": {},
   "outputs": [],
   "source": [
    "also_my_number = float(my_number)\n",
    "print(also_my_number)\n",
    "print(type(also_my_number))"
   ]
  },
  {
   "cell_type": "markdown",
   "id": "6425d8fd",
   "metadata": {},
   "source": [
    "Точно так же, как вы можете сложить два числа (с плавающей запятой или целые числа), вы также можете добавить две строки. В результате получается более длинная строка, которая объединяет две исходные строки путем их объединения."
   ]
  },
  {
   "cell_type": "code",
   "execution_count": null,
   "id": "5ea818a7",
   "metadata": {},
   "outputs": [],
   "source": [
    "new_string = \"abc\" + \"def\"\n",
    "print(new_string)\n",
    "print(type(new_string))"
   ]
  },
  {
   "cell_type": "markdown",
   "id": "d6ba14d2",
   "metadata": {},
   "source": [
    "Обратите внимание, что невозможно выполнить вычитание или деление с двумя строками. Вы также не можете умножить две строки, но вы можете умножить строку на целое число. В результате снова получается строка, которая является просто исходной строкой, объединенной сама с собой указанное количество раз."
   ]
  },
  {
   "cell_type": "code",
   "execution_count": null,
   "id": "9c37b30f",
   "metadata": {},
   "outputs": [],
   "source": [
    "newest_string = \"abc\" * 3\n",
    "print(newest_string)\n",
    "print(type(newest_string))"
   ]
  },
  {
   "cell_type": "markdown",
   "id": "55713896",
   "metadata": {},
   "source": [
    "Обратите внимание, что вы не можете умножить строку на число с плавающей точкой! Попытка сделать это вернет ошибку."
   ]
  },
  {
   "cell_type": "code",
   "execution_count": null,
   "id": "162b335b",
   "metadata": {},
   "outputs": [],
   "source": [
    "will_not_work = \"abc\" * 3."
   ]
  },
  {
   "cell_type": "markdown",
   "id": "0da33982",
   "metadata": {},
   "source": [
    "В ошибке \"последовательность\" - это строка \"abc\", а \"не-int типа \"float\"\" - это значение с плавающей точкой (3.). Таким образом, сообщение об ошибке можно переформулировать следующим образом: \"не удается умножить строку на значение с плавающей точкой\".\n",
    "\n",
    "# Ваш ход\n",
    "Напишите свой собственный код для изучения различных типов данных."
   ]
  }
 ],
 "metadata": {
  "kernelspec": {
   "display_name": "Python 3 (ipykernel)",
   "language": "python",
   "name": "python3"
  },
  "language_info": {
   "codemirror_mode": {
    "name": "ipython",
    "version": 3
   },
   "file_extension": ".py",
   "mimetype": "text/x-python",
   "name": "python",
   "nbconvert_exporter": "python",
   "pygments_lexer": "ipython3",
   "version": "3.9.12"
  }
 },
 "nbformat": 4,
 "nbformat_minor": 5
}
