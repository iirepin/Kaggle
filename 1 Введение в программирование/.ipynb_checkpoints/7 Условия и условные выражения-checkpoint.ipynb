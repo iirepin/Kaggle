{
 "cells": [
  {
   "cell_type": "markdown",
   "id": "959ed329",
   "metadata": {},
   "source": [
    "# Условия и условные операторы\n",
    "Изменяют способ выполнения функций в зависимости от входных данных."
   ]
  },
  {
   "cell_type": "markdown",
   "id": "0e8f4249",
   "metadata": {},
   "source": [
    "# Вступление¶\n",
    "Вы уже видели, что когда вы меняете входное значение на функцию, вы часто получаете другой результат. Например, рассмотрим функцию add_five(), которая просто добавляет пять к любому числу и возвращает результат. Тогда add_five(7) вернет значение 12 (=7+5), а add_five(8) вернет значение 13 (=8+5). Обратите внимание, что независимо от того, каковы входные данные, действие, выполняемое функцией, всегда одно и то же: она всегда добавляет пять.\n",
    "\n",
    "Но вместо этого вам может понадобиться функция, которая выполняет действие, зависящее от входных данных. Например, вам может понадобиться функция add_three_or_eight(), которая добавляет три, если входное значение меньше 10, и добавляет восемь, если входное значение равно 10 или более. Тогда add_three_or_eight(1) вернет 4 (= 1+3), но add_three_or_eight(11) вернет 19 (=11+8). В этом случае действие, выполняемое функцией, зависит от входных данных.\n",
    "\n",
    "На этом уроке вы узнаете, как использовать условия и условные операторы для изменения способа выполнения ваших функций.\n",
    "\n",
    "# Условия\n",
    "В программировании условиями называются утверждения, которые могут быть либо истинными, либо ложными. В Python существует множество различных способов записи условий, но некоторые из наиболее распространенных способов записи условий просто сравнивают два разных значения. Например, вы можете проверить, больше ли 2, чем 3."
   ]
  },
  {
   "cell_type": "code",
   "execution_count": null,
   "id": "ecde41cb",
   "metadata": {},
   "outputs": [],
   "source": [
    "print(2 > 3)"
   ]
  },
  {
   "cell_type": "markdown",
   "id": "a92d05c3",
   "metadata": {},
   "source": [
    "Python определяет это как ложное, поскольку 2 не больше 3.\n",
    "\n",
    "Вы также можете использовать условия для сравнения значений переменных. В следующей ячейке кода значение var_one равно 1, а значение var_two равно двум. В условиях мы проверяем, меньше ли значение var_one значения 1 (что равно False), и проверяем, больше ли значение var_two значения var_one или равно ему (что равно True)."
   ]
  },
  {
   "cell_type": "code",
   "execution_count": 1,
   "id": "80923014",
   "metadata": {},
   "outputs": [
    {
     "name": "stdout",
     "output_type": "stream",
     "text": [
      "False\n",
      "True\n"
     ]
    }
   ],
   "source": [
    "var_one = 1\n",
    "var_two = 2\n",
    "\n",
    "print(var_one < 1)\n",
    "print(var_two >= var_one)"
   ]
  },
  {
   "attachments": {
    "image.png": {
     "image/png": "[encoded data removed]"
    }
   },
   "cell_type": "markdown",
   "id": "e58ab5cf",
   "metadata": {},
   "source": [
    "Список распространенных символов, которые вы можете использовать для построения условий, приведен в таблице ниже.\n",
    "![image.png](attachment:image.png)\n",
    "Важное примечание: Когда вы проверяете, равны ли два значения, убедитесь, что вы используете знак ==, а не знак =.\n",
    "\n",
    "var_one==1 проверяет, равно ли значение var_one 1, но\n",
    "var_one=1 устанавливает значение var_one равным 1.\n",
    "# Условные операторы\n",
    "Условные операторы используют условия для изменения способа выполнения вашей функции. Они проверяют значение условия, и если условие принимает значение True, то выполняется определенный блок кода. (В противном случае, если условие ложно, то код не выполняется.)\n",
    "\n",
    "Вы увидите несколько примеров этого в следующих разделах.\n",
    "\n",
    "# Операторы \"if\"\n",
    "Простейшим типом условного выражения является выражение \"if\". Вы можете увидеть пример этого в функции evaluate_temp() ниже. Функция принимает температуру тела (в градусах Цельсия) в качестве входных данных.\n",
    "\n",
    "Изначально для сообщения задается значение \"Нормальная температура\".\n",
    "Затем, если значение temp > 38 равно True (например, температура тела превышает 38°C), сообщение обновляется до \"Лихорадка!\". В противном случае, если значение temp > 38 равно False, сообщение не обновляется.\n",
    "Наконец, функция возвращает сообщение."
   ]
  },
  {
   "cell_type": "code",
   "execution_count": null,
   "id": "23ad3e85",
   "metadata": {},
   "outputs": [],
   "source": [
    "def evaluate_temp(temp):\n",
    "    # Задать начальное сообщение\n",
    "    message = \"Normal temperature.\"\n",
    "    # Обновляйте значение сообщения только в том случае, если температура превышает 38\n",
    "    if temp > 38:\n",
    "        message = \"Fever!\"\n",
    "    return message"
   ]
  },
  {
   "cell_type": "markdown",
   "id": "a267f8cd",
   "metadata": {},
   "source": [
    "В следующей ячейке кода мы вызываем функцию, в которой температура равна 37°C. Сообщение \"Нормальная температура\", поскольку в данном случае температура ниже 38°C (значение temp > 38 оценивается как ложное)."
   ]
  },
  {
   "cell_type": "code",
   "execution_count": null,
   "id": "3d9a4bb2",
   "metadata": {},
   "outputs": [],
   "source": [
    "print(evaluate_temp(37))"
   ]
  },
  {
   "cell_type": "markdown",
   "id": "b138b1b5",
   "metadata": {},
   "source": [
    "Однако, если температура вместо 39°C превышает 38°C, сообщение обновляется до \"Температура!\"."
   ]
  },
  {
   "cell_type": "code",
   "execution_count": null,
   "id": "1f298f2c",
   "metadata": {},
   "outputs": [],
   "source": [
    "print(evaluate_temp(39))"
   ]
  },
  {
   "cell_type": "markdown",
   "id": "8c58047e",
   "metadata": {},
   "source": [
    "Обратите внимание, что существует два уровня отступа:\n",
    "\n",
    "Первый уровень отступа связан с тем, что нам всегда нужно отступать от блока кода внутри функции.\n",
    "Второй уровень отступа связан с тем, что нам также нужно отступать от блока кода, относящегося к инструкции \"if\". (Как вы увидите, нам также потребуется сделать отступы в блоках кода для инструкций \"elif\" и \"else\".)\n",
    "Обратите внимание, что, поскольку оператор return не имеет отступа под оператором \"if\", он всегда выполняется, независимо от того, имеет ли значение temp > 38 значение True или False.\n",
    "\n",
    "# операторы \"если ... else\"\n",
    "Мы можем использовать операторы \"else\" для запуска кода, если оператор ложен. Код, указанный в операторе \"if\", выполняется, если оператор истинен, а код, указанный в \"else\", выполняется, если оператор ложен."
   ]
  },
  {
   "cell_type": "code",
   "execution_count": null,
   "id": "110f49a2",
   "metadata": {},
   "outputs": [],
   "source": [
    "def evaluate_temp_with_else(temp):\n",
    "    if temp > 38:\n",
    "        message = \"Fever!\"\n",
    "    else:\n",
    "        message = \"Normal temperature.\"\n",
    "    return message"
   ]
  },
  {
   "cell_type": "markdown",
   "id": "aeb16e26",
   "metadata": {},
   "source": [
    "Эта функция evaluate_temp_with_else() работает аналогично функции evaluate_temp().\n",
    "\n",
    "В следующей ячейке кода мы вызываем эту новую функцию, где температура равна 37°C. В этом случае значение temp > 38 принимает значение False, поэтому выполняется код, указанный в инструкции \"else\", и возвращается нормальная температура. сообщение."
   ]
  },
  {
   "cell_type": "code",
   "execution_count": null,
   "id": "f86238d8",
   "metadata": {},
   "outputs": [],
   "source": [
    "print(evaluate_temp_with_else(37))"
   ]
  },
  {
   "cell_type": "markdown",
   "id": "cbf218d0",
   "metadata": {},
   "source": [
    "Как и в предыдущей функции, мы делаем отступы в блоках кода после инструкций \"if\" и \"else\".\n",
    "\n",
    "# инструкции \"if ... elif ... else\"\n",
    "Мы можем использовать \"elif\" (сокращение от \"else if\"), чтобы проверить, могут ли выполняться несколько условий. Функция, представленная ниже:\n",
    "\n",
    "Сначала проверяет, не превышает ли температура > 38. Если это верно, то для сообщения устанавливается значение \"Температура!\".\n",
    "Если сообщение еще не установлено, функция затем проверяет, не превышает ли температура > 35. Если это так, то сообщение имеет значение \"Нормальная температура\"..\n",
    "Затем, если сообщение по-прежнему не было установлено, инструкция \"else\" гарантирует, что для сообщения установлено значение \"Низкая температура\". Сообщение будет напечатано.\n",
    "Вы можете подумать, что \"relief\" означает \"облегчение\"... \"хорошо, предыдущее условие (например, температура > 38) было ложным, так что давайте проверим, может ли это новое условие (например, температура > 35) быть истинным!\""
   ]
  },
  {
   "cell_type": "code",
   "execution_count": null,
   "id": "d5e31be4",
   "metadata": {},
   "outputs": [],
   "source": [
    "def evaluate_temp_with_elif(temp):\n",
    "    if temp > 38:\n",
    "        message = \"Fever!\"\n",
    "    elif temp > 35:\n",
    "        message = \"Normal temperature.\"\n",
    "    else:\n",
    "        message = \"Low temperature.\"\n",
    "    return message"
   ]
  },
  {
   "cell_type": "markdown",
   "id": "53f0fc8d",
   "metadata": {},
   "source": [
    "В приведенной ниже ячейке кода мы запускаем код в соответствии с инструкцией \"elif\", поскольку значение temp > 38 равно False, а значение temp > 35 равно True. После выполнения этого кода функция пропускает инструкцию \"else\" и возвращает сообщение."
   ]
  },
  {
   "cell_type": "code",
   "execution_count": null,
   "id": "0a6ed71a",
   "metadata": {},
   "outputs": [],
   "source": [
    "evaluate_temp_with_elif(36)"
   ]
  },
  {
   "cell_type": "markdown",
   "id": "97d0677e",
   "metadata": {},
   "source": [
    "Наконец, мы опробуем случай, когда температура составляет менее 35°C. Поскольку оба условия в операторах \"if\" и \"elif\" принимают значение False, выполняется блок кода внутри оператора \"else\"."
   ]
  },
  {
   "cell_type": "code",
   "execution_count": null,
   "id": "f272fe0e",
   "metadata": {},
   "outputs": [],
   "source": [
    "evaluate_temp_with_elif(34)"
   ]
  },
  {
   "cell_type": "markdown",
   "id": "02aba265",
   "metadata": {},
   "source": [
    "# Пример - вычисления¶\n",
    "В приведенных выше примерах для определения того, как задавать значения переменных, использовались условные выражения. Но вы также можете использовать условные выражения для выполнения различных вычислений.\n",
    "\n",
    "В следующем примере предположим, что вы живете в стране только с двумя налоговыми скобками. Каждый, кто зарабатывает менее 12 000 долларов, платит налоги в размере 25%, а любой, кто зарабатывает 12 000 долларов и более, платит 30%. Приведенная ниже функция рассчитывает сумму причитающегося налога."
   ]
  },
  {
   "cell_type": "code",
   "execution_count": null,
   "id": "daa7e3c2",
   "metadata": {},
   "outputs": [],
   "source": [
    "def get_taxes(earnings):\n",
    "    if earnings < 12000:\n",
    "        tax_owed = .25 * earnings\n",
    "    else:\n",
    "        tax_owed = .30 * earnings\n",
    "    return tax_owed"
   ]
  },
  {
   "cell_type": "markdown",
   "id": "39b9c117",
   "metadata": {},
   "source": [
    "Следующая ячейка кода использует эту функцию."
   ]
  },
  {
   "cell_type": "code",
   "execution_count": null,
   "id": "d006e389",
   "metadata": {},
   "outputs": [],
   "source": [
    "ana_taxes = get_taxes(9000)\n",
    "bob_taxes = get_taxes(15000)\n",
    "\n",
    "print(ana_taxes)\n",
    "print(bob_taxes)"
   ]
  },
  {
   "cell_type": "markdown",
   "id": "a480166c",
   "metadata": {},
   "source": [
    "В каждом случае мы вызываем функцию get_taxes() и используем возвращаемое значение для задания значения переменной.\n",
    "\n",
    "Для ana_taxes мы рассчитываем налоги, причитающиеся человеку, который зарабатывает 9000 долларов. В этом случае мы вызываем функцию get_taxes() с значением earnings, равным 9000. Таким образом, значение earnings < 12000 равно True, а значение tax_owed равно .25 * 9000. Затем мы возвращаем значение tax_owed.\n",
    "Для bob_taxes мы рассчитываем налоги, причитающиеся с человека, который зарабатывает 15 000 долларов. В этом случае мы вызываем функцию get_taxes() с доходом, равным 15000. Таким образом, значение earnings < 12000 равно False, а значение tax_owed равно .30 * 15000. Затем мы возвращаем значение tax_owed.\n",
    "Прежде чем мы перейдем к другому примеру - помните функцию add_three_or_eight() из введения? Она принимает число в качестве входных данных и добавляет три, если входное значение меньше 10, а в противном случае добавляет восемь. Можете ли вы представить, как бы вы написали эту функцию? Как только у вас будет ответ, нажмите на кнопку \"Показать скрытый код\" ниже, чтобы увидеть решение."
   ]
  },
  {
   "cell_type": "code",
   "execution_count": null,
   "id": "6e409237",
   "metadata": {},
   "outputs": [],
   "source": [
    "def add_three_or_eight(number):\n",
    "    if number < 10:\n",
    "        result = number + 3\n",
    "    else:\n",
    "        result = number + 8\n",
    "    return result"
   ]
  },
  {
   "cell_type": "markdown",
   "id": "77cbba6a",
   "metadata": {},
   "source": [
    "# Пример - Несколько инструкций \"elif\"¶\n",
    "До сих пор вы видели, что \"elif\" использовался в функции только один раз. Но количество инструкций \"elif\", которые вы можете использовать, не ограничено. Например, следующий блок кода рассчитывает дозу лекарства (в миллилитрах), которую необходимо дать ребенку, исходя из веса (в килограммах).\n",
    "\n",
    "Примечание: Эта функция не должна использоваться в качестве медицинской рекомендации и представляет собой поддельное лекарство."
   ]
  },
  {
   "cell_type": "code",
   "execution_count": null,
   "id": "549effcc",
   "metadata": {},
   "outputs": [],
   "source": [
    "def get_dose(weight):\n",
    "    # Дозировка составляет 1,25 мл для людей весом до 5,2 кг.\n",
    "    if weight < 5.2:\n",
    "        dose = 1.25\n",
    "    elif weight < 7.9:\n",
    "        dose = 2.5\n",
    "    elif weight < 10.4:\n",
    "        dose = 3.75\n",
    "    elif weight < 15.9:\n",
    "        dose = 5\n",
    "    elif weight < 21.2:\n",
    "        dose = 7.5\n",
    "    # Дозировка составляет 10 мл для людей весом 21,2 кг и старше.\n",
    "    else:\n",
    "        dose = 10\n",
    "    return dose"
   ]
  },
  {
   "cell_type": "markdown",
   "id": "99da6e54",
   "metadata": {},
   "source": [
    "Следующая ячейка кода запускает функцию. Убедитесь, что вывод имеет для вас смысл!\n",
    "\n",
    "В этом случае утверждение \"if\" было ложным, и все утверждения \"elif\" оцениваются как ложные, пока мы не получим значение веса < 15,9, что соответствует истине, и доза не будет установлена равной 5.\n",
    "Как только оператор \"elif\" принимает значение True и выполняется блок кода, функция пропускает все оставшиеся операторы \"elif\" и \"else\". После их пропуска остается только оператор return, который возвращает значение dose.\n",
    "Порядок следования инструкций elif здесь имеет значение! Изменение порядка следования инструкций приведет к совершенно иному результату."
   ]
  },
  {
   "cell_type": "code",
   "execution_count": null,
   "id": "696898e7",
   "metadata": {},
   "outputs": [],
   "source": [
    "print(get_dose(12))"
   ]
  },
  {
   "cell_type": "markdown",
   "id": "d89ec5f4",
   "metadata": {},
   "source": [
    "Убедитесь, что это имеет смысл для вас! Как только вы будете готовы, перейдите по ссылке ниже, чтобы перейти к упражнению.\n",
    "\n",
    "# Ваш ход\n",
    "Используйте то, чему вы научились, для написания своих собственных условных обозначений и условных операторов."
   ]
  }
 ],
 "metadata": {
  "kernelspec": {
   "display_name": "Python 3 (ipykernel)",
   "language": "python",
   "name": "python3"
  },
  "language_info": {
   "codemirror_mode": {
    "name": "ipython",
    "version": 3
   },
   "file_extension": ".py",
   "mimetype": "text/x-python",
   "name": "python",
   "nbconvert_exporter": "python",
   "pygments_lexer": "ipython3",
   "version": "3.9.12"
  }
 },
 "nbformat": 4,
 "nbformat_minor": 5
}
