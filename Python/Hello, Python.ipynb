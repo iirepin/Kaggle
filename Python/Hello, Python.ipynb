{
 "cells": [
  {
   "cell_type": "markdown",
   "id": "746ced39",
   "metadata": {},
   "source": [
    "Этот курс охватывает основные навыки Python, которые вам понадобятся, чтобы начать использовать Python для науки о данных. Курс идеально подходит для тех, у кого уже есть опыт программирования, и кто хочет добавить Python в свой репертуар. (Если вы новичок в программировании, вам предлагается ознакомиться с нашим курсом «Введение в программирование», который предназначен для новичков, желающих начать работать с Python.)\n",
    "\n",
    "Мы начнем с краткого обзора синтаксиса Python, присваивания переменных и арифметических операторов.\n",
    "\n",
    "# Привет, Python!\n",
    "Python был назван в честь британской комедийной труппы Monty Python, поэтому мы сделаем нашу первую программу Python данью уважения их сценке о спаме.\n",
    "\n",
    "Просто ради развлечения попробуйте прочитать код ниже и предсказать, что он будет делать при запуске. (Если вы понятия не имеете, это нормально!)\n",
    "\n",
    "Затем нажмите кнопку «вывод», чтобы увидеть результаты нашей программы."
   ]
  },
  {
   "cell_type": "code",
   "execution_count": 1,
   "id": "f179859c",
   "metadata": {},
   "outputs": [
    {
     "name": "stdout",
     "output_type": "stream",
     "text": [
      "0\n",
      "But I don't want ANY spam!\n",
      "Spam Spam Spam Spam \n"
     ]
    }
   ],
   "source": [
    "spam_amount = 0\n",
    "print(spam_amount)\n",
    "\n",
    "# Ordering Spam, egg, Spam, Spam, bacon and Spam (4 more servings of Spam)\n",
    "spam_amount = spam_amount + 4\n",
    "\n",
    "if spam_amount > 0:\n",
    "    print(\"But I don't want ANY spam!\")\n",
    "\n",
    "viking_song = \"Spam \" * spam_amount\n",
    "print(viking_song)"
   ]
  },
  {
   "cell_type": "markdown",
   "id": "11a64795",
   "metadata": {},
   "source": [
    "Здесь есть что распаковать! Эта глупая программа демонстрирует множество важных аспектов того, как выглядит код Python и как он работает. Давайте рассмотрим код сверху вниз."
   ]
  },
  {
   "cell_type": "code",
   "execution_count": 2,
   "id": "e4f6b6e4",
   "metadata": {},
   "outputs": [],
   "source": [
    "spam_amount = 0"
   ]
  },
  {
   "cell_type": "markdown",
   "id": "f50418d7",
   "metadata": {},
   "source": [
    "Назначение переменной: здесь мы создаем переменную spam_amount и присваиваем ей значение 0 с помощью =, что называется оператором присваивания.\n",
    "\n",
    "Примечание: если вы программировали на некоторых других языках (например, Java или C++), вы могли заметить некоторые вещи, которые Python не требует от нас делать здесь:\n",
    "\n",
    "нам не нужно «объявлять» spam_amount перед присвоением ему\n",
    "нам не нужно сообщать Python, на какой тип значения будет ссылаться spam_amount. Фактически, мы даже можем переназначить spam_amount, чтобы ссылаться на другой вид вещи, например, на строку или логическое значение."
   ]
  },
  {
   "cell_type": "code",
   "execution_count": 3,
   "id": "f3a5042c",
   "metadata": {},
   "outputs": [
    {
     "name": "stdout",
     "output_type": "stream",
     "text": [
      "0\n"
     ]
    }
   ],
   "source": [
    "print(spam_amount)"
   ]
  },
  {
   "cell_type": "markdown",
   "id": "96e87798",
   "metadata": {},
   "source": [
    "Вызовы функций:. print — это функция Python, которая отображает переданное ей значение на экране. Мы вызываем функции, помещая скобки после их имени и помещая входные данные (или аргументы) функции в эти скобки."
   ]
  },
  {
   "cell_type": "code",
   "execution_count": 6,
   "id": "a7dd997e",
   "metadata": {},
   "outputs": [],
   "source": [
    "# Заказ спама, яйца, спама, спама, бекона и спама (еще 4 порции спама)\n",
    "spam_amount = spam_amount + 4"
   ]
  },
  {
   "cell_type": "markdown",
   "id": "0e98d446",
   "metadata": {},
   "source": [
    "Первая строка выше — это комментарий. В Python комментарии начинаются с символа #.\n",
    "\n",
    "Далее мы видим пример переназначения. Переназначение значения существующей переменной выглядит так же, как и создание переменной — оно по-прежнему использует оператор присваивания =.\n",
    "\n",
    "В этом случае значение, которое мы присваиваем spam_amount, включает в себя простую арифметику с его предыдущим значением. Когда он сталкивается с этой строкой, Python оценивает выражение справа от = (0 + 4 = 4), а затем присваивает это значение переменной слева."
   ]
  },
  {
   "cell_type": "code",
   "execution_count": 7,
   "id": "64e3d311",
   "metadata": {},
   "outputs": [
    {
     "name": "stdout",
     "output_type": "stream",
     "text": [
      "But I don't want ANY spam!\n",
      "Spam Spam Spam\n"
     ]
    }
   ],
   "source": [
    "if spam_amount > 0:\n",
    "    print(\"But I don't want ANY spam!\")\n",
    "\n",
    "viking_song = \"Spam Spam Spam\"\n",
    "print(viking_song)"
   ]
  },
  {
   "cell_type": "markdown",
   "id": "7ec0a875",
   "metadata": {},
   "source": [
    "Мы не будем много говорить об «условных операторах» до следующего раза, но даже если вы никогда раньше не писали код, вы, вероятно, догадаетесь, что это делает. Python ценится за свою читабельность и простоту.\n",
    "\n",
    "Обратите внимание, как мы указали, какой код относится к if. «Но я не хочу НИКАКОГО спама!» должно быть выведено только в том случае, если spam_amount положительно. Но более поздний код (например, print(viking_song)) должен быть выполнен в любом случае. Откуда мы (и Python) это знаем?\n",
    "\n",
    "Двоеточие (:) в конце строки if указывает на то, что начинается новый блок кода. Последующие строки с отступом являются частью этого блока кода.\n",
    "\n",
    "Примечание: если вы раньше писали код, вы можете знать, что некоторые другие языки используют {фигурные скобки} для обозначения начала и конца блоков кода. Использование Python осмысленных пробелов может удивить программистов, привыкших к другим языкам, но на практике это может привести к более последовательному и читаемому коду, чем языки, которые не требуют отступов блоков кода.\n",
    "Более поздние строки, касающиеся viking_song, не имеют отступа в 4 дополнительных пробела, поэтому они не являются частью блока кода if. Мы увидим больше примеров отступов блоков кода позже, когда будем определять функции и использовать циклы.\n",
    "\n",
    "Этот фрагмент кода также является нашим первым появлением строки в Python:\n",
    "\n",
    "\"Но я не хочу НИКАКОГО спама!\"\n",
    "Строки могут быть отмечены как двойными, так и одинарными кавычками. (Но поскольку эта конкретная строка содержит символ одинарной кавычки, мы можем запутать Python, пытаясь окружить ее одинарными кавычками, если не будем осторожны.)"
   ]
  },
  {
   "cell_type": "code",
   "execution_count": 8,
   "id": "036de293",
   "metadata": {},
   "outputs": [
    {
     "name": "stdout",
     "output_type": "stream",
     "text": [
      "Spam Spam Spam Spam Spam Spam Spam Spam \n"
     ]
    }
   ],
   "source": [
    "viking_song = \"Spam \" * spam_amount\n",
    "print(viking_song)"
   ]
  },
  {
   "cell_type": "markdown",
   "id": "58657bef",
   "metadata": {},
   "source": [
    "Оператор * можно использовать для умножения двух чисел (3 * 3 вычисляется как 9), но мы также можем умножить строку на число, чтобы получить версию, которая повторяется столько раз. Python предлагает ряд дерзких маленьких трюков, экономящих время, таких как этот, где операторы, такие как * и +, имеют разное значение в зависимости от того, к чему они применяются. (Технический термин для этого — перегрузка операторов.)\n",
    "\n",
    "Числа и арифметика в Python\n",
    "Мы уже видели пример переменной, содержащей число выше:"
   ]
  },
  {
   "cell_type": "code",
   "execution_count": 9,
   "id": "8d87bfec",
   "metadata": {},
   "outputs": [],
   "source": [
    "spam_amount = 0"
   ]
  },
  {
   "cell_type": "markdown",
   "id": "28259f6a",
   "metadata": {},
   "source": [
    "«Число» — это хорошее неформальное название для такого рода вещей, но если бы мы хотели быть более техническими, мы могли бы спросить Python, как он опишет тип вещи, которой является spam_amount:"
   ]
  },
  {
   "cell_type": "code",
   "execution_count": 10,
   "id": "f80096ac",
   "metadata": {},
   "outputs": [
    {
     "data": {
      "text/plain": [
       "int"
      ]
     },
     "execution_count": 10,
     "metadata": {},
     "output_type": "execute_result"
    }
   ],
   "source": [
    "type(spam_amount)"
   ]
  },
  {
   "cell_type": "markdown",
   "id": "b6bfba8e",
   "metadata": {},
   "source": [
    "Это int — сокращение от integer. Есть еще один тип чисел, с которым мы часто сталкиваемся в Python:"
   ]
  },
  {
   "cell_type": "code",
   "execution_count": 11,
   "id": "e7f169ba",
   "metadata": {},
   "outputs": [
    {
     "data": {
      "text/plain": [
       "float"
      ]
     },
     "execution_count": 11,
     "metadata": {},
     "output_type": "execute_result"
    }
   ],
   "source": [
    "type(19.95)"
   ]
  },
  {
   "cell_type": "markdown",
   "id": "e5e6a583",
   "metadata": {},
   "source": [
    "Число с плавающей точкой — это число с десятичной точкой — очень полезно для представления таких вещей, как вес или пропорции.\n",
    "\n",
    "type() — вторая встроенная функция, которую мы видели (после print()), и это еще одна хорошая функция для запоминания. Очень полезно иметь возможность спросить Python «что это за штука?»."
   ]
  },
  {
   "attachments": {
    "image.png": {
     "image/png": "[encoded data removed]"
    }
   },
   "cell_type": "markdown",
   "id": "4197a909",
   "metadata": {},
   "source": [
    "Естественное желание работать с числами — выполнять арифметические действия. Мы видели оператор + для сложения и оператор * для умножения. Python также позаботился об остальных основных кнопках вашего калькулятора:\n",
    "![image.png](attachment:image.png)"
   ]
  },
  {
   "cell_type": "markdown",
   "id": "79ac6d30",
   "metadata": {},
   "source": [
    "Интересное наблюдение здесь заключается в том, что, в то время как ваш калькулятор, вероятно, имеет только одну кнопку для деления, Python может делать два вида. «Истинное деление» — это, по сути, то, что делает ваш калькулятор:"
   ]
  },
  {
   "cell_type": "code",
   "execution_count": 12,
   "id": "ff7006ce",
   "metadata": {},
   "outputs": [
    {
     "name": "stdout",
     "output_type": "stream",
     "text": [
      "2.5\n",
      "3.0\n"
     ]
    }
   ],
   "source": [
    "print(5 / 2)\n",
    "print(6 / 2)"
   ]
  },
  {
   "cell_type": "markdown",
   "id": "88af1991",
   "metadata": {},
   "source": [
    "Он всегда дает нам число с плавающей точкой.\n",
    "\n",
    "Оператор // дает нам результат, округленный до следующего целого числа."
   ]
  },
  {
   "cell_type": "code",
   "execution_count": 13,
   "id": "8f6ebbb9",
   "metadata": {},
   "outputs": [
    {
     "name": "stdout",
     "output_type": "stream",
     "text": [
      "2\n",
      "3\n"
     ]
    }
   ],
   "source": [
    "print(5 // 2)\n",
    "print(6 // 2)"
   ]
  },
  {
   "cell_type": "markdown",
   "id": "bc2f9520",
   "metadata": {},
   "source": [
    "Можете ли вы придумать, где это может быть полезно? Скоро вы увидите пример в задачах по кодированию.\n",
    "\n",
    "Порядок операций\n",
    "\n",
    "В арифметике, которую мы изучали в начальной школе, есть соглашения о порядке вычисления операций. Некоторые помнят их по мнемонике, например PEMDAS — скобки, возведение в степень, умножение/деление, сложение/вычитание.\n",
    "\n",
    "Python следует похожим правилам относительно того, какие вычисления выполнять в первую очередь. Они в основном довольно интуитивны."
   ]
  },
  {
   "cell_type": "code",
   "execution_count": 14,
   "id": "7a905b8b",
   "metadata": {},
   "outputs": [
    {
     "data": {
      "text/plain": [
       "7"
      ]
     },
     "execution_count": 14,
     "metadata": {},
     "output_type": "execute_result"
    }
   ],
   "source": [
    "8 - 3 + 2"
   ]
  },
  {
   "cell_type": "code",
   "execution_count": 15,
   "id": "bcb8012b",
   "metadata": {},
   "outputs": [
    {
     "data": {
      "text/plain": [
       "5"
      ]
     },
     "execution_count": 15,
     "metadata": {},
     "output_type": "execute_result"
    }
   ],
   "source": [
    "-3 + 4 * 2"
   ]
  },
  {
   "cell_type": "markdown",
   "id": "461a8dd2",
   "metadata": {},
   "source": [
    "Иногда порядок операций по умолчанию не соответствует желаемому:"
   ]
  },
  {
   "cell_type": "code",
   "execution_count": 16,
   "id": "1fa37d32",
   "metadata": {},
   "outputs": [
    {
     "name": "stdout",
     "output_type": "stream",
     "text": [
      "Height in meters = 26.9 ?\n"
     ]
    }
   ],
   "source": [
    "hat_height_cm = 25\n",
    "my_height_cm = 190\n",
    "# Какой у меня рост в метрах, когда я надеваю шляпу?\n",
    "total_height_meters = hat_height_cm + my_height_cm / 100\n",
    "print(\"Height in meters =\", total_height_meters, \"?\")"
   ]
  },
  {
   "cell_type": "markdown",
   "id": "c870f5c8",
   "metadata": {},
   "source": [
    "Скобки здесь полезны. Вы можете добавить их, чтобы заставить Python вычислять подвыражения в любом желаемом вами порядке."
   ]
  },
  {
   "cell_type": "code",
   "execution_count": 17,
   "id": "46476fed",
   "metadata": {},
   "outputs": [
    {
     "name": "stdout",
     "output_type": "stream",
     "text": [
      "Height in meters = 2.15\n"
     ]
    }
   ],
   "source": [
    "total_height_meters = (hat_height_cm + my_height_cm) / 100\n",
    "print(\"Height in meters =\", total_height_meters)"
   ]
  },
  {
   "cell_type": "markdown",
   "id": "b233779c",
   "metadata": {},
   "source": [
    "Встроенные функции для работы с числами\n",
    "\n",
    "min и max возвращают минимум и максимум своих аргументов соответственно..."
   ]
  },
  {
   "cell_type": "code",
   "execution_count": 18,
   "id": "9cceb14b",
   "metadata": {},
   "outputs": [
    {
     "name": "stdout",
     "output_type": "stream",
     "text": [
      "1\n",
      "3\n"
     ]
    }
   ],
   "source": [
    "print(min(1, 2, 3))\n",
    "print(max(1, 2, 3))"
   ]
  },
  {
   "cell_type": "markdown",
   "id": "16b6ae1e",
   "metadata": {},
   "source": [
    "abs возвращает абсолютное значение аргумента:"
   ]
  },
  {
   "cell_type": "code",
   "execution_count": 19,
   "id": "2e337717",
   "metadata": {},
   "outputs": [
    {
     "name": "stdout",
     "output_type": "stream",
     "text": [
      "32\n",
      "32\n"
     ]
    }
   ],
   "source": [
    "print(abs(32))\n",
    "print(abs(-32))"
   ]
  },
  {
   "cell_type": "markdown",
   "id": "0f91a1c9",
   "metadata": {},
   "source": [
    "Помимо того, что int и float являются именами двух основных числовых типов Python, их также можно вызывать как функции, преобразующие свои аргументы в соответствующий тип:"
   ]
  },
  {
   "cell_type": "code",
   "execution_count": 20,
   "id": "59555d93",
   "metadata": {},
   "outputs": [
    {
     "name": "stdout",
     "output_type": "stream",
     "text": [
      "10.0\n",
      "3\n",
      "808\n"
     ]
    }
   ],
   "source": [
    "print(float(10))\n",
    "print(int(3.33))\n",
    "# Их даже можно вызывать по строкам!\n",
    "print(int('807') + 1)"
   ]
  },
  {
   "cell_type": "markdown",
   "id": "486b3d82",
   "metadata": {},
   "source": [
    "Your Turn¶\n",
    "Now is your chance. Try your first Python programming exercise!"
   ]
  }
 ],
 "metadata": {
  "kernelspec": {
   "display_name": "Python 3 (ipykernel)",
   "language": "python",
   "name": "python3"
  },
  "language_info": {
   "codemirror_mode": {
    "name": "ipython",
    "version": 3
   },
   "file_extension": ".py",
   "mimetype": "text/x-python",
   "name": "python",
   "nbconvert_exporter": "python",
   "pygments_lexer": "ipython3",
   "version": "3.9.12"
  }
 },
 "nbformat": 4,
 "nbformat_minor": 5
}
