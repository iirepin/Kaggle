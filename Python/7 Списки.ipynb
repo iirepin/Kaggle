{
 "cells": [
  {
   "cell_type": "markdown",
   "id": "8514a6af",
   "metadata": {},
   "source": [
    "# Списки\n",
    "Списки в Python представляют собой упорядоченные последовательности значений. Вот пример того, как их создать:"
   ]
  },
  {
   "cell_type": "code",
   "execution_count": 1,
   "id": "45abf482",
   "metadata": {},
   "outputs": [],
   "source": [
    "primes = [2, 3, 5, 7]"
   ]
  },
  {
   "cell_type": "markdown",
   "id": "5a776ceb",
   "metadata": {},
   "source": [
    "Мы можем добавлять в списки другие типы вещей:"
   ]
  },
  {
   "cell_type": "code",
   "execution_count": 2,
   "id": "5fbc61b3",
   "metadata": {},
   "outputs": [],
   "source": [
    "planets = ['Mercury', 'Venus', 'Earth', 'Mars', 'Jupiter', 'Saturn', 'Uranus', 'Neptune']"
   ]
  },
  {
   "cell_type": "markdown",
   "id": "1007077e",
   "metadata": {},
   "source": [
    "Мы даже можем составить список списков:"
   ]
  },
  {
   "cell_type": "code",
   "execution_count": 2,
   "id": "a42326b8",
   "metadata": {},
   "outputs": [],
   "source": [
    "hands = [\n",
    "    ['J', 'Q', 'K'],\n",
    "    ['2', '2', '2'],\n",
    "    ['6', 'A', 'K'], # (Запятая после последнего элемента необязательна)\n",
    "]\n",
    "# (Я мог бы также написать это в одной строке, но это может быть трудно прочитать)\n",
    "hands = [['J', 'Q', 'K'], ['2', '2', '2'], ['6', 'A', 'K']]"
   ]
  },
  {
   "cell_type": "markdown",
   "id": "1914c411",
   "metadata": {},
   "source": [
    "Список может содержать сочетание различных типов переменных:"
   ]
  },
  {
   "cell_type": "code",
   "execution_count": 4,
   "id": "a7d0d6a5",
   "metadata": {},
   "outputs": [],
   "source": [
    "my_favourite_things = [32, 'капли дождя на розах', help]\n",
    "# (Да, справочная функция Python определенно является одной из моих любимых)"
   ]
  },
  {
   "cell_type": "markdown",
   "id": "bd617b0e",
   "metadata": {},
   "source": [
    "# Индексация\n",
    "Вы можете получить доступ к отдельным элементам списка, заключив их в квадратные скобки.\n",
    "\n",
    "Какая планета находится ближе всего к Солнцу? В Python используется индексация на основе нуля, поэтому первый элемент имеет индекс 0."
   ]
  },
  {
   "cell_type": "code",
   "execution_count": 5,
   "id": "2d64bc03",
   "metadata": {},
   "outputs": [
    {
     "data": {
      "text/plain": [
       "'Mercury'"
      ]
     },
     "execution_count": 5,
     "metadata": {},
     "output_type": "execute_result"
    }
   ],
   "source": [
    "planets[0]"
   ]
  },
  {
   "cell_type": "markdown",
   "id": "39f69991",
   "metadata": {},
   "source": [
    "Какая следующая ближайшая планета?"
   ]
  },
  {
   "cell_type": "code",
   "execution_count": 6,
   "id": "429d6fd9",
   "metadata": {},
   "outputs": [
    {
     "data": {
      "text/plain": [
       "'Venus'"
      ]
     },
     "execution_count": 6,
     "metadata": {},
     "output_type": "execute_result"
    }
   ],
   "source": [
    "planets[1]"
   ]
  },
  {
   "cell_type": "markdown",
   "id": "32908c19",
   "metadata": {},
   "source": [
    "Какая планета находится дальше всего от Солнца?\n",
    "\n",
    "К элементам в конце списка можно получить доступ с отрицательными числами, начиная с -1:"
   ]
  },
  {
   "cell_type": "code",
   "execution_count": 7,
   "id": "2280905a",
   "metadata": {},
   "outputs": [
    {
     "data": {
      "text/plain": [
       "'Neptune'"
      ]
     },
     "execution_count": 7,
     "metadata": {},
     "output_type": "execute_result"
    }
   ],
   "source": [
    "planets[-1]"
   ]
  },
  {
   "cell_type": "code",
   "execution_count": 8,
   "id": "64ee2029",
   "metadata": {},
   "outputs": [
    {
     "data": {
      "text/plain": [
       "'Uranus'"
      ]
     },
     "execution_count": 8,
     "metadata": {},
     "output_type": "execute_result"
    }
   ],
   "source": [
    "planets[-2]"
   ]
  },
  {
   "cell_type": "markdown",
   "id": "9aafa2f4",
   "metadata": {},
   "source": [
    "# Нарезка¶\n",
    "Каковы первые три планеты? Мы можем ответить на этот вопрос, используя нарезку:"
   ]
  },
  {
   "cell_type": "code",
   "execution_count": 9,
   "id": "44ffb097",
   "metadata": {},
   "outputs": [
    {
     "data": {
      "text/plain": [
       "['Mercury', 'Venus', 'Earth']"
      ]
     },
     "execution_count": 9,
     "metadata": {},
     "output_type": "execute_result"
    }
   ],
   "source": [
    "planets[0:3]"
   ]
  },
  {
   "cell_type": "markdown",
   "id": "3bf82b5d",
   "metadata": {},
   "source": [
    "планеты[0:3] - это наш способ запроса элементов планет, начиная с индекса 0 и продолжая до индекса 3, но не включая его.\n",
    "\n",
    "Начальный и конечный индексы необязательны. Если я не указываю начальный индекс, предполагается, что он равен 0. Таким образом, я мог бы переписать приведенное выше выражение следующим образом:"
   ]
  },
  {
   "cell_type": "code",
   "execution_count": 10,
   "id": "aed0bfd8",
   "metadata": {},
   "outputs": [
    {
     "data": {
      "text/plain": [
       "['Mercury', 'Venus', 'Earth']"
      ]
     },
     "execution_count": 10,
     "metadata": {},
     "output_type": "execute_result"
    }
   ],
   "source": [
    "planets[:3]"
   ]
  },
  {
   "cell_type": "markdown",
   "id": "2069f97d",
   "metadata": {},
   "source": [
    "Если я опущу конечный индекс, то предполагается, что это длина списка."
   ]
  },
  {
   "cell_type": "code",
   "execution_count": 11,
   "id": "1a108441",
   "metadata": {},
   "outputs": [
    {
     "data": {
      "text/plain": [
       "['Mars', 'Jupiter', 'Saturn', 'Uranus', 'Neptune']"
      ]
     },
     "execution_count": 11,
     "metadata": {},
     "output_type": "execute_result"
    }
   ],
   "source": [
    "planets[3:]"
   ]
  },
  {
   "cell_type": "markdown",
   "id": "2ae5f092",
   "metadata": {},
   "source": [
    "т.е. приведенное выше выражение означает \"дайте мне все планеты, начиная с индекса 3 и далее\".\n",
    "\n",
    "Мы также можем использовать отрицательные индексы при нарезке:"
   ]
  },
  {
   "cell_type": "code",
   "execution_count": 12,
   "id": "5aed632d",
   "metadata": {},
   "outputs": [
    {
     "data": {
      "text/plain": [
       "['Venus', 'Earth', 'Mars', 'Jupiter', 'Saturn', 'Uranus']"
      ]
     },
     "execution_count": 12,
     "metadata": {},
     "output_type": "execute_result"
    }
   ],
   "source": [
    "# Все планеты, кроме первой и последней\n",
    "planets[1:-1]"
   ]
  },
  {
   "cell_type": "code",
   "execution_count": 13,
   "id": "7b2004f0",
   "metadata": {},
   "outputs": [
    {
     "data": {
      "text/plain": [
       "['Saturn', 'Uranus', 'Neptune']"
      ]
     },
     "execution_count": 13,
     "metadata": {},
     "output_type": "execute_result"
    }
   ],
   "source": [
    "# Последние 3 планеты\n",
    "planets[-3:]"
   ]
  },
  {
   "cell_type": "markdown",
   "id": "bad2c137",
   "metadata": {},
   "source": [
    "# Изменяемые списки¶\n",
    "Списки \"изменяемы\", что означает, что их можно изменять \"на месте\".\n",
    "\n",
    "Один из способов изменить список - это присвоить индексу или выражению среза.\n",
    "\n",
    "Например, предположим, что мы хотим переименовать Марс:"
   ]
  },
  {
   "cell_type": "code",
   "execution_count": 14,
   "id": "756868c2",
   "metadata": {},
   "outputs": [
    {
     "data": {
      "text/plain": [
       "['Mercury',\n",
       " 'Venus',\n",
       " 'Earth',\n",
       " 'Malacandra',\n",
       " 'Jupiter',\n",
       " 'Saturn',\n",
       " 'Uranus',\n",
       " 'Neptune']"
      ]
     },
     "execution_count": 14,
     "metadata": {},
     "output_type": "execute_result"
    }
   ],
   "source": [
    "planets[3] = 'Malacandra'\n",
    "planets"
   ]
  },
  {
   "cell_type": "markdown",
   "id": "d468ec08",
   "metadata": {},
   "source": [
    "Хм, это довольно многословно. Давайте компенсируем это сокращением названий первых трех планет."
   ]
  },
  {
   "cell_type": "code",
   "execution_count": 15,
   "id": "83eee4c9",
   "metadata": {},
   "outputs": [
    {
     "name": "stdout",
     "output_type": "stream",
     "text": [
      "['Mur', 'Vee', 'Ur', 'Malacandra', 'Jupiter', 'Saturn', 'Uranus', 'Neptune']\n"
     ]
    }
   ],
   "source": [
    "planets[:3] = ['Mur', 'Vee', 'Ur']\n",
    "print(planets)\n",
    "# Это было глупо. Давайте вернем им их старые имена\n",
    "planets[:4] = ['Mercury', 'Venus', 'Earth', 'Mars',]"
   ]
  },
  {
   "cell_type": "markdown",
   "id": "ea2e2f8a",
   "metadata": {},
   "source": [
    "# Функции списка\n",
    "В Python есть несколько полезных функций для работы со списками.\n",
    "\n",
    "len определяет длину списка:"
   ]
  },
  {
   "cell_type": "code",
   "execution_count": 16,
   "id": "ef74ff76",
   "metadata": {},
   "outputs": [
    {
     "data": {
      "text/plain": [
       "8"
      ]
     },
     "execution_count": 16,
     "metadata": {},
     "output_type": "execute_result"
    }
   ],
   "source": [
    "# Сколько всего существует планет?\n",
    "len(planets)"
   ]
  },
  {
   "cell_type": "markdown",
   "id": "099c4fa1",
   "metadata": {},
   "source": [
    "sorted возвращает отсортированную версию списка:"
   ]
  },
  {
   "cell_type": "code",
   "execution_count": 17,
   "id": "f4061516",
   "metadata": {},
   "outputs": [
    {
     "data": {
      "text/plain": [
       "['Earth', 'Jupiter', 'Mars', 'Mercury', 'Neptune', 'Saturn', 'Uranus', 'Venus']"
      ]
     },
     "execution_count": 17,
     "metadata": {},
     "output_type": "execute_result"
    }
   ],
   "source": [
    "# Планеты отсортированы в алфавитном порядке\n",
    "sorted(planets)"
   ]
  },
  {
   "cell_type": "markdown",
   "id": "2de48e3d",
   "metadata": {},
   "source": [
    "sum делает то, что вы могли бы ожидать:"
   ]
  },
  {
   "cell_type": "code",
   "execution_count": 18,
   "id": "68c235d5",
   "metadata": {},
   "outputs": [
    {
     "data": {
      "text/plain": [
       "17"
      ]
     },
     "execution_count": 18,
     "metadata": {},
     "output_type": "execute_result"
    }
   ],
   "source": [
    "primes = [2, 3, 5, 7]\n",
    "sum(primes)"
   ]
  },
  {
   "cell_type": "markdown",
   "id": "a01065da",
   "metadata": {},
   "source": [
    "Ранее мы использовали значения min и max для получения минимального или максимального значения из нескольких аргументов. Но мы также можем передать один аргумент в виде списка."
   ]
  },
  {
   "cell_type": "code",
   "execution_count": 19,
   "id": "e9587b13",
   "metadata": {},
   "outputs": [
    {
     "data": {
      "text/plain": [
       "7"
      ]
     },
     "execution_count": 19,
     "metadata": {},
     "output_type": "execute_result"
    }
   ],
   "source": [
    "max(primes)"
   ]
  },
  {
   "cell_type": "markdown",
   "id": "1f507008",
   "metadata": {},
   "source": [
    "# Интерлюдия: объекты\n",
    "До сих пор я часто использовал термин \"object\" - возможно, вы даже читали, что в Python все является объектом. Что это значит?\n",
    "\n",
    "Короче говоря, объекты переносят некоторые вещи с собой. Вы получаете доступ к этим вещам, используя точечный синтаксис Python.\n",
    "\n",
    "Например, с числами в Python связана переменная image, представляющая их мнимую часть. (Вам, вероятно, никогда не понадобится использовать это, если только вы не занимаетесь какой-нибудь очень странной математикой)."
   ]
  },
  {
   "cell_type": "code",
   "execution_count": 20,
   "id": "035f733c",
   "metadata": {},
   "outputs": [
    {
     "name": "stdout",
     "output_type": "stream",
     "text": [
      "0\n",
      "3.0\n"
     ]
    }
   ],
   "source": [
    "x = 12\n",
    "# x - действительное число, поэтому его мнимая часть равна 0.\n",
    "print(x.imag)\n",
    "# Вот как составить комплексное число, на случай, если вам когда-нибудь было интересно:\n",
    "c = 12 + 3j\n",
    "print(c.imag)"
   ]
  },
  {
   "cell_type": "markdown",
   "id": "d0b0935b",
   "metadata": {},
   "source": [
    "Элементы, которые несет в себе объект, также могут включать функции. Функция, прикрепленная к объекту, называется методом. ((Нефункциональные элементы, прикрепленные к объекту, такие как изображение, называются атрибутами).\n",
    "\n",
    "Например, у чисел есть метод, называемый bit_length. Опять же, мы получаем к нему доступ, используя точечный синтаксис:"
   ]
  },
  {
   "cell_type": "code",
   "execution_count": 21,
   "id": "1802f9b0",
   "metadata": {},
   "outputs": [
    {
     "data": {
      "text/plain": [
       "<function int.bit_length()>"
      ]
     },
     "execution_count": 21,
     "metadata": {},
     "output_type": "execute_result"
    }
   ],
   "source": [
    "x.bit_length"
   ]
  },
  {
   "cell_type": "markdown",
   "id": "cf820479",
   "metadata": {},
   "source": [
    "Чтобы на самом деле вызвать его, мы добавляем круглые скобки:"
   ]
  },
  {
   "cell_type": "code",
   "execution_count": 22,
   "id": "3ec215f8",
   "metadata": {},
   "outputs": [
    {
     "data": {
      "text/plain": [
       "4"
      ]
     },
     "execution_count": 22,
     "metadata": {},
     "output_type": "execute_result"
    }
   ],
   "source": [
    "x.bit_length()"
   ]
  },
  {
   "cell_type": "markdown",
   "id": "a85a2928",
   "metadata": {},
   "source": [
    "В стороне: на самом деле вы уже вызывали методы, если выполняли упражнения. В тетрадях с упражнениями q1, q2, q3 и т.д. все объекты имеют методы, называемые check, hint и solution.\n",
    "Точно так же, как мы можем передавать функции в функцию help (например, help(max)), мы также можем передавать методы:"
   ]
  },
  {
   "cell_type": "code",
   "execution_count": 23,
   "id": "0b118672",
   "metadata": {},
   "outputs": [
    {
     "name": "stdout",
     "output_type": "stream",
     "text": [
      "Help on built-in function bit_length:\n",
      "\n",
      "bit_length() method of builtins.int instance\n",
      "    Number of bits necessary to represent self in binary.\n",
      "    \n",
      "    >>> bin(37)\n",
      "    '0b100101'\n",
      "    >>> (37).bit_length()\n",
      "    6\n",
      "\n"
     ]
    }
   ],
   "source": [
    "help(x.bit_length)"
   ]
  },
  {
   "cell_type": "markdown",
   "id": "f3a47d90",
   "metadata": {},
   "source": [
    "Справка о встроенной функции bit_length:\n",
    "\n",
    "метод bit_length() для builtins.int экземпляра\n",
    "    Количество битов, необходимых для представления self в двоичном формате.\n",
    "    \n",
    "    >>> bin(37)\n",
    "    '0b100101'\n",
    "    >>> (37).длина в битах()\n",
    "    6"
   ]
  },
  {
   "cell_type": "markdown",
   "id": "99a25b04",
   "metadata": {},
   "source": [
    "Приведенные выше примеры были совершенно непонятными. Ни один из рассмотренных нами типов объектов (чисел, функций, логических значений) не имеет атрибутов или методов, которые вы, вероятно, когда-либо использовали.\n",
    "\n",
    "Но оказывается, что у списков есть несколько методов, которые вы будете использовать постоянно."
   ]
  },
  {
   "cell_type": "markdown",
   "id": "f5ab52e2",
   "metadata": {},
   "source": [
    "# Перечислите методы"
   ]
  },
  {
   "cell_type": "markdown",
   "id": "7b4eae6c",
   "metadata": {},
   "source": [
    "list.append изменяет список, добавляя элемент в конец:"
   ]
  },
  {
   "cell_type": "code",
   "execution_count": 24,
   "id": "07095aa4",
   "metadata": {},
   "outputs": [],
   "source": [
    "# Плутон - это планета, черт возьми!\n",
    "planets.append('Pluto')"
   ]
  },
  {
   "cell_type": "markdown",
   "id": "891dbbfb",
   "metadata": {},
   "source": [
    "Почему в приведенной выше ячейке нет выходных данных? Давайте проверим документацию, вызвав help(planets.append).\n",
    "\n",
    "Кроме того, append - это метод, который используется всеми объектами типа list, а не только planets, поэтому мы также могли бы вызвать help(list.append). Однако, если мы попытаемся вызвать справку(append), Python пожалуется, что не существует переменной с именем \"append\". Имя \"append\" существует только в списках - оно не существует как отдельное имя, как встроенные функции, такие как max или lenovo."
   ]
  },
  {
   "cell_type": "code",
   "execution_count": 25,
   "id": "7d76acd3",
   "metadata": {},
   "outputs": [
    {
     "name": "stdout",
     "output_type": "stream",
     "text": [
      "Help on built-in function append:\n",
      "\n",
      "append(object, /) method of builtins.list instance\n",
      "    Append object to the end of the list.\n",
      "\n"
     ]
    }
   ],
   "source": [
    "help(planets.append)"
   ]
  },
  {
   "cell_type": "markdown",
   "id": "bf5a4c8c",
   "metadata": {},
   "source": [
    "Справка по встроенной функции append:\n",
    "\n",
    "метод добавления(объекта, /) встроенных элементов.экземпляр списка\n",
    "    Добавление объекта в конец списка."
   ]
  },
  {
   "cell_type": "markdown",
   "id": "5bcb857a",
   "metadata": {},
   "source": [
    "Часть -> None сообщает нам, что list.append ничего не возвращает. Но если мы проверим значение planets, то увидим, что вызов метода изменил значение planets:"
   ]
  },
  {
   "cell_type": "code",
   "execution_count": 26,
   "id": "f5762bca",
   "metadata": {},
   "outputs": [
    {
     "data": {
      "text/plain": [
       "['Mercury',\n",
       " 'Venus',\n",
       " 'Earth',\n",
       " 'Mars',\n",
       " 'Jupiter',\n",
       " 'Saturn',\n",
       " 'Uranus',\n",
       " 'Neptune',\n",
       " 'Pluto']"
      ]
     },
     "execution_count": 26,
     "metadata": {},
     "output_type": "execute_result"
    }
   ],
   "source": [
    "planets"
   ]
  },
  {
   "cell_type": "markdown",
   "id": "529555d5",
   "metadata": {},
   "source": [
    "list.pop удаляет и возвращает последний элемент списка:"
   ]
  },
  {
   "cell_type": "code",
   "execution_count": 27,
   "id": "034bf5b0",
   "metadata": {},
   "outputs": [
    {
     "data": {
      "text/plain": [
       "'Pluto'"
      ]
     },
     "execution_count": 27,
     "metadata": {},
     "output_type": "execute_result"
    }
   ],
   "source": [
    "planets.pop()"
   ]
  },
  {
   "cell_type": "code",
   "execution_count": 28,
   "id": "235fb654",
   "metadata": {},
   "outputs": [
    {
     "data": {
      "text/plain": [
       "['Mercury', 'Venus', 'Earth', 'Mars', 'Jupiter', 'Saturn', 'Uranus', 'Neptune']"
      ]
     },
     "execution_count": 28,
     "metadata": {},
     "output_type": "execute_result"
    }
   ],
   "source": [
    "planets"
   ]
  },
  {
   "cell_type": "markdown",
   "id": "6082348e",
   "metadata": {},
   "source": [
    "Поиск по спискам¶\n",
    "\n",
    "Где находится Земля в порядке расположения планет? Мы можем получить ее индекс, используя метод list.index."
   ]
  },
  {
   "cell_type": "code",
   "execution_count": 29,
   "id": "1962593a",
   "metadata": {},
   "outputs": [
    {
     "data": {
      "text/plain": [
       "2"
      ]
     },
     "execution_count": 29,
     "metadata": {},
     "output_type": "execute_result"
    }
   ],
   "source": [
    "planets.index('Earth')"
   ]
  },
  {
   "cell_type": "markdown",
   "id": "2fbad7ee",
   "metadata": {},
   "source": [
    "Он занимает третье место (т.е. по индексу 2 - индексация 0!).\n",
    "\n",
    "Под каким индексом находится Плутон?"
   ]
  },
  {
   "cell_type": "code",
   "execution_count": 30,
   "id": "df8070cb",
   "metadata": {},
   "outputs": [
    {
     "ename": "ValueError",
     "evalue": "'Pluto' is not in list",
     "output_type": "error",
     "traceback": [
      "\u001b[0;31m---------------------------------------------------------------------------\u001b[0m",
      "\u001b[0;31mValueError\u001b[0m                                Traceback (most recent call last)",
      "Input \u001b[0;32mIn [30]\u001b[0m, in \u001b[0;36m<cell line: 1>\u001b[0;34m()\u001b[0m\n\u001b[0;32m----> 1\u001b[0m \u001b[43mplanets\u001b[49m\u001b[38;5;241;43m.\u001b[39;49m\u001b[43mindex\u001b[49m\u001b[43m(\u001b[49m\u001b[38;5;124;43m'\u001b[39;49m\u001b[38;5;124;43mPluto\u001b[39;49m\u001b[38;5;124;43m'\u001b[39;49m\u001b[43m)\u001b[49m\n",
      "\u001b[0;31mValueError\u001b[0m: 'Pluto' is not in list"
     ]
    }
   ],
   "source": [
    "planets.index('Pluto')"
   ]
  },
  {
   "cell_type": "markdown",
   "id": "8aa51a6b",
   "metadata": {},
   "source": [
    "Ах, да...\n",
    "\n",
    "Чтобы избежать подобных неприятных сюрпризов, мы можем использовать оператор in для определения того, содержит ли список определенное значение:"
   ]
  },
  {
   "cell_type": "code",
   "execution_count": null,
   "id": "19a8a72f",
   "metadata": {},
   "outputs": [],
   "source": [
    "# Является ли Земля планетой?\n",
    "\"Earth\" in planets"
   ]
  },
  {
   "cell_type": "code",
   "execution_count": null,
   "id": "49464c31",
   "metadata": {},
   "outputs": [],
   "source": [
    "# Является ли Кальбефракес планетой?\n",
    "\"Calbefraques\" in planets"
   ]
  },
  {
   "cell_type": "markdown",
   "id": "1c14168f",
   "metadata": {},
   "source": [
    "Есть еще несколько интересных методов составления списков, которые мы не рассмотрели. Если вы хотите узнать обо всех методах и атрибутах, связанных с определенным объектом, мы можем вызвать help() для самого объекта. Например, help(planets) расскажет нам обо всех методах составления списков:"
   ]
  },
  {
   "cell_type": "code",
   "execution_count": null,
   "id": "bc7bb788",
   "metadata": {},
   "outputs": [],
   "source": [
    "help(planets)"
   ]
  },
  {
   "cell_type": "markdown",
   "id": "0a6fbee1",
   "metadata": {},
   "source": [
    "Нажмите кнопку \"Вывод\", чтобы увидеть полную страницу справки. В списках есть множество методов со странными названиями, такими как __eq__ и __add__. Не беспокойтесь об этом сейчас. (Вы, вероятно, никогда не будете вызывать такие методы напрямую. Но они вызываются за кулисами, когда мы используем синтаксис, подобный операторам индексации или сравнения.) Наиболее интересные методы находятся в нижней части списка (добавление, очистка, копирование и т.д.)."
   ]
  },
  {
   "cell_type": "markdown",
   "id": "70a4a5d5",
   "metadata": {},
   "source": [
    "# Кортежи¶\n",
    "Кортежи практически ничем не отличаются от списков. Они отличаются только двумя способами.\n",
    "\n",
    "1. Синтаксис для их создания использует круглые скобки вместо квадратных"
   ]
  },
  {
   "cell_type": "code",
   "execution_count": 32,
   "id": "d21934b3",
   "metadata": {},
   "outputs": [],
   "source": [
    "t = (1, 2, 3)"
   ]
  },
  {
   "cell_type": "code",
   "execution_count": 33,
   "id": "14451130",
   "metadata": {},
   "outputs": [
    {
     "data": {
      "text/plain": [
       "(1, 2, 3)"
      ]
     },
     "execution_count": 33,
     "metadata": {},
     "output_type": "execute_result"
    }
   ],
   "source": [
    "t = 1, 2, 3 # эквивалентно приведенному выше\n",
    "t"
   ]
  },
  {
   "cell_type": "code",
   "execution_count": 34,
   "id": "4f3560cc",
   "metadata": {},
   "outputs": [
    {
     "ename": "TypeError",
     "evalue": "'tuple' object does not support item assignment",
     "output_type": "error",
     "traceback": [
      "\u001b[0;31m---------------------------------------------------------------------------\u001b[0m",
      "\u001b[0;31mTypeError\u001b[0m                                 Traceback (most recent call last)",
      "Input \u001b[0;32mIn [34]\u001b[0m, in \u001b[0;36m<cell line: 1>\u001b[0;34m()\u001b[0m\n\u001b[0;32m----> 1\u001b[0m t[\u001b[38;5;241m0\u001b[39m] \u001b[38;5;241m=\u001b[39m \u001b[38;5;241m100\u001b[39m\n",
      "\u001b[0;31mTypeError\u001b[0m: 'tuple' object does not support item assignment"
     ]
    }
   ],
   "source": [
    "t[0] = 100"
   ]
  },
  {
   "cell_type": "markdown",
   "id": "24f9f72d",
   "metadata": {},
   "source": [
    "Кортежи часто используются для функций, которые возвращают несколько значений.\n",
    "\n",
    "Например, метод as_integer_ratio() объектов с плавающей точкой возвращает числитель и знаменатель в виде кортежа:"
   ]
  },
  {
   "cell_type": "code",
   "execution_count": 35,
   "id": "a988cce2",
   "metadata": {},
   "outputs": [
    {
     "data": {
      "text/plain": [
       "(1, 8)"
      ]
     },
     "execution_count": 35,
     "metadata": {},
     "output_type": "execute_result"
    }
   ],
   "source": [
    "x = 0.125\n",
    "x.as_integer_ratio()"
   ]
  },
  {
   "cell_type": "markdown",
   "id": "2084e7ef",
   "metadata": {},
   "source": [
    "Эти множественные возвращаемые значения могут быть назначены индивидуально следующим образом:"
   ]
  },
  {
   "cell_type": "code",
   "execution_count": 36,
   "id": "66e3e052",
   "metadata": {},
   "outputs": [
    {
     "name": "stdout",
     "output_type": "stream",
     "text": [
      "0.125\n"
     ]
    }
   ],
   "source": [
    "numerator, denominator = x.as_integer_ratio()\n",
    "print(numerator / denominator)"
   ]
  },
  {
   "cell_type": "markdown",
   "id": "7caf2b65",
   "metadata": {},
   "source": [
    "Наконец-то мы получили некоторое представление о классическом трюке Stupid Python™ для замены двух переменных местами!"
   ]
  },
  {
   "cell_type": "code",
   "execution_count": 37,
   "id": "ce92204c",
   "metadata": {},
   "outputs": [
    {
     "name": "stdout",
     "output_type": "stream",
     "text": [
      "0 1\n"
     ]
    }
   ],
   "source": [
    "a = 1\n",
    "b = 0\n",
    "a, b = b, a\n",
    "print(a, b)"
   ]
  },
  {
   "cell_type": "markdown",
   "id": "9f99aec8",
   "metadata": {},
   "source": [
    "# ваш ход¶\n",
    "Лучше всего учиться, когда пишешь код, а не просто читаешь его. Так что попробуйте пройти испытание по написанию кода прямо сейчас."
   ]
  }
 ],
 "metadata": {
  "kernelspec": {
   "display_name": "Python 3 (ipykernel)",
   "language": "python",
   "name": "python3"
  },
  "language_info": {
   "codemirror_mode": {
    "name": "ipython",
    "version": 3
   },
   "file_extension": ".py",
   "mimetype": "text/x-python",
   "name": "python",
   "nbconvert_exporter": "python",
   "pygments_lexer": "ipython3",
   "version": "3.9.12"
  }
 },
 "nbformat": 4,
 "nbformat_minor": 5
}
