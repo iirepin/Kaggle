{
 "cells": [
  {
   "cell_type": "markdown",
   "id": "82f9fbcc",
   "metadata": {},
   "source": [
    "Вы уже видели и использовали такие функции, как print и abs. Но в Python гораздо больше функций, и определение собственных функций является большой частью программирования на Python.\n",
    "\n",
    "В этом уроке вы узнаете больше об использовании и определении функций."
   ]
  },
  {
   "cell_type": "markdown",
   "id": "07b826b9",
   "metadata": {},
   "source": [
    "# Получение справки¶\n",
    "Вы видели функцию abs в предыдущем уроке, но что делать, если вы забыли, что она делает?\n",
    "\n",
    "Функция help() — это, возможно, самая важная функция Python, которую вы можете изучить. Если вы можете вспомнить, как использовать help(), вы держите ключ к пониманию большинства других функций.\n",
    "\n",
    "Вот пример:"
   ]
  },
  {
   "cell_type": "code",
   "execution_count": 1,
   "id": "8ef7a916",
   "metadata": {},
   "outputs": [
    {
     "name": "stdout",
     "output_type": "stream",
     "text": [
      "Help on built-in function round in module builtins:\n",
      "\n",
      "round(number, ndigits=None)\n",
      "    Round a number to a given precision in decimal digits.\n",
      "    \n",
      "    The return value is an integer if ndigits is omitted or None.  Otherwise\n",
      "    the return value has the same type as the number.  ndigits may be negative.\n",
      "\n"
     ]
    }
   ],
   "source": [
    "help(round)"
   ]
  },
  {
   "cell_type": "markdown",
   "id": "c0b1c0ed",
   "metadata": {},
   "source": [
    "Помощь по встроенной функции round в модуле builtins:\n",
    "\n",
    "round(number, ndigits=None)\n",
    "Округляет число до заданной точности в десятичных знаках.\n",
    "\n",
    "Возвращаемое значение — целое число, если ndigits опущено или None. В противном случае\n",
    "возвращаемое значение имеет тот же тип, что и число. ndigits может быть отрицательным."
   ]
  },
  {
   "cell_type": "markdown",
   "id": "f917c9e4",
   "metadata": {},
   "source": [
    "help() отображает две вещи:\n",
    "\n",
    "заголовок этой функции round(number, ndigits=None). В данном случае это говорит нам, что round() принимает аргумент, который мы можем описать как number. Кроме того, мы можем опционально указать отдельный аргумент, который можно описать как ndigits.\n",
    "Краткое описание на английском языке того, что делает функция."
   ]
  },
  {
   "cell_type": "markdown",
   "id": "0e3d101c",
   "metadata": {},
   "source": [
    "Распространенная ошибка: когда вы ищете функцию, не забудьте передать имя самой функции, а не результат вызова этой функции.\n",
    "\n",
    "Что произойдет, если мы вызовем help при вызове функции round()? Откройте вывод ячейки ниже, чтобы увидеть."
   ]
  },
  {
   "cell_type": "code",
   "execution_count": 2,
   "id": "40a677e5",
   "metadata": {},
   "outputs": [
    {
     "name": "stdout",
     "output_type": "stream",
     "text": [
      "Help on int object:\n",
      "\n",
      "class int(object)\n",
      " |  int([x]) -> integer\n",
      " |  int(x, base=10) -> integer\n",
      " |  \n",
      " |  Convert a number or string to an integer, or return 0 if no arguments\n",
      " |  are given.  If x is a number, return x.__int__().  For floating point\n",
      " |  numbers, this truncates towards zero.\n",
      " |  \n",
      " |  If x is not a number or if base is given, then x must be a string,\n",
      " |  bytes, or bytearray instance representing an integer literal in the\n",
      " |  given base.  The literal can be preceded by '+' or '-' and be surrounded\n",
      " |  by whitespace.  The base defaults to 10.  Valid bases are 0 and 2-36.\n",
      " |  Base 0 means to interpret the base from the string as an integer literal.\n",
      " |  >>> int('0b100', base=0)\n",
      " |  4\n",
      " |  \n",
      " |  Built-in subclasses:\n",
      " |      bool\n",
      " |  \n",
      " |  Methods defined here:\n",
      " |  \n",
      " |  __abs__(self, /)\n",
      " |      abs(self)\n",
      " |  \n",
      " |  __add__(self, value, /)\n",
      " |      Return self+value.\n",
      " |  \n",
      " |  __and__(self, value, /)\n",
      " |      Return self&value.\n",
      " |  \n",
      " |  __bool__(self, /)\n",
      " |      True if self else False\n",
      " |  \n",
      " |  __ceil__(...)\n",
      " |      Ceiling of an Integral returns itself.\n",
      " |  \n",
      " |  __divmod__(self, value, /)\n",
      " |      Return divmod(self, value).\n",
      " |  \n",
      " |  __eq__(self, value, /)\n",
      " |      Return self==value.\n",
      " |  \n",
      " |  __float__(self, /)\n",
      " |      float(self)\n",
      " |  \n",
      " |  __floor__(...)\n",
      " |      Flooring an Integral returns itself.\n",
      " |  \n",
      " |  __floordiv__(self, value, /)\n",
      " |      Return self//value.\n",
      " |  \n",
      " |  __format__(self, format_spec, /)\n",
      " |      Default object formatter.\n",
      " |  \n",
      " |  __ge__(self, value, /)\n",
      " |      Return self>=value.\n",
      " |  \n",
      " |  __getattribute__(self, name, /)\n",
      " |      Return getattr(self, name).\n",
      " |  \n",
      " |  __getnewargs__(self, /)\n",
      " |  \n",
      " |  __gt__(self, value, /)\n",
      " |      Return self>value.\n",
      " |  \n",
      " |  __hash__(self, /)\n",
      " |      Return hash(self).\n",
      " |  \n",
      " |  __index__(self, /)\n",
      " |      Return self converted to an integer, if self is suitable for use as an index into a list.\n",
      " |  \n",
      " |  __int__(self, /)\n",
      " |      int(self)\n",
      " |  \n",
      " |  __invert__(self, /)\n",
      " |      ~self\n",
      " |  \n",
      " |  __le__(self, value, /)\n",
      " |      Return self<=value.\n",
      " |  \n",
      " |  __lshift__(self, value, /)\n",
      " |      Return self<<value.\n",
      " |  \n",
      " |  __lt__(self, value, /)\n",
      " |      Return self<value.\n",
      " |  \n",
      " |  __mod__(self, value, /)\n",
      " |      Return self%value.\n",
      " |  \n",
      " |  __mul__(self, value, /)\n",
      " |      Return self*value.\n",
      " |  \n",
      " |  __ne__(self, value, /)\n",
      " |      Return self!=value.\n",
      " |  \n",
      " |  __neg__(self, /)\n",
      " |      -self\n",
      " |  \n",
      " |  __or__(self, value, /)\n",
      " |      Return self|value.\n",
      " |  \n",
      " |  __pos__(self, /)\n",
      " |      +self\n",
      " |  \n",
      " |  __pow__(self, value, mod=None, /)\n",
      " |      Return pow(self, value, mod).\n",
      " |  \n",
      " |  __radd__(self, value, /)\n",
      " |      Return value+self.\n",
      " |  \n",
      " |  __rand__(self, value, /)\n",
      " |      Return value&self.\n",
      " |  \n",
      " |  __rdivmod__(self, value, /)\n",
      " |      Return divmod(value, self).\n",
      " |  \n",
      " |  __repr__(self, /)\n",
      " |      Return repr(self).\n",
      " |  \n",
      " |  __rfloordiv__(self, value, /)\n",
      " |      Return value//self.\n",
      " |  \n",
      " |  __rlshift__(self, value, /)\n",
      " |      Return value<<self.\n",
      " |  \n",
      " |  __rmod__(self, value, /)\n",
      " |      Return value%self.\n",
      " |  \n",
      " |  __rmul__(self, value, /)\n",
      " |      Return value*self.\n",
      " |  \n",
      " |  __ror__(self, value, /)\n",
      " |      Return value|self.\n",
      " |  \n",
      " |  __round__(...)\n",
      " |      Rounding an Integral returns itself.\n",
      " |      Rounding with an ndigits argument also returns an integer.\n",
      " |  \n",
      " |  __rpow__(self, value, mod=None, /)\n",
      " |      Return pow(value, self, mod).\n",
      " |  \n",
      " |  __rrshift__(self, value, /)\n",
      " |      Return value>>self.\n",
      " |  \n",
      " |  __rshift__(self, value, /)\n",
      " |      Return self>>value.\n",
      " |  \n",
      " |  __rsub__(self, value, /)\n",
      " |      Return value-self.\n",
      " |  \n",
      " |  __rtruediv__(self, value, /)\n",
      " |      Return value/self.\n",
      " |  \n",
      " |  __rxor__(self, value, /)\n",
      " |      Return value^self.\n",
      " |  \n",
      " |  __sizeof__(self, /)\n",
      " |      Returns size in memory, in bytes.\n",
      " |  \n",
      " |  __sub__(self, value, /)\n",
      " |      Return self-value.\n",
      " |  \n",
      " |  __truediv__(self, value, /)\n",
      " |      Return self/value.\n",
      " |  \n",
      " |  __trunc__(...)\n",
      " |      Truncating an Integral returns itself.\n",
      " |  \n",
      " |  __xor__(self, value, /)\n",
      " |      Return self^value.\n",
      " |  \n",
      " |  as_integer_ratio(self, /)\n",
      " |      Return integer ratio.\n",
      " |      \n",
      " |      Return a pair of integers, whose ratio is exactly equal to the original int\n",
      " |      and with a positive denominator.\n",
      " |      \n",
      " |      >>> (10).as_integer_ratio()\n",
      " |      (10, 1)\n",
      " |      >>> (-10).as_integer_ratio()\n",
      " |      (-10, 1)\n",
      " |      >>> (0).as_integer_ratio()\n",
      " |      (0, 1)\n",
      " |  \n",
      " |  bit_length(self, /)\n",
      " |      Number of bits necessary to represent self in binary.\n",
      " |      \n",
      " |      >>> bin(37)\n",
      " |      '0b100101'\n",
      " |      >>> (37).bit_length()\n",
      " |      6\n",
      " |  \n",
      " |  conjugate(...)\n",
      " |      Returns self, the complex conjugate of any int.\n",
      " |  \n",
      " |  to_bytes(self, /, length, byteorder, *, signed=False)\n",
      " |      Return an array of bytes representing an integer.\n",
      " |      \n",
      " |      length\n",
      " |        Length of bytes object to use.  An OverflowError is raised if the\n",
      " |        integer is not representable with the given number of bytes.\n",
      " |      byteorder\n",
      " |        The byte order used to represent the integer.  If byteorder is 'big',\n",
      " |        the most significant byte is at the beginning of the byte array.  If\n",
      " |        byteorder is 'little', the most significant byte is at the end of the\n",
      " |        byte array.  To request the native byte order of the host system, use\n",
      " |        `sys.byteorder' as the byte order value.\n",
      " |      signed\n",
      " |        Determines whether two's complement is used to represent the integer.\n",
      " |        If signed is False and a negative integer is given, an OverflowError\n",
      " |        is raised.\n",
      " |  \n",
      " |  ----------------------------------------------------------------------\n",
      " |  Class methods defined here:\n",
      " |  \n",
      " |  from_bytes(bytes, byteorder, *, signed=False) from builtins.type\n",
      " |      Return the integer represented by the given array of bytes.\n",
      " |      \n",
      " |      bytes\n",
      " |        Holds the array of bytes to convert.  The argument must either\n",
      " |        support the buffer protocol or be an iterable object producing bytes.\n",
      " |        Bytes and bytearray are examples of built-in objects that support the\n",
      " |        buffer protocol.\n",
      " |      byteorder\n",
      " |        The byte order used to represent the integer.  If byteorder is 'big',\n",
      " |        the most significant byte is at the beginning of the byte array.  If\n",
      " |        byteorder is 'little', the most significant byte is at the end of the\n",
      " |        byte array.  To request the native byte order of the host system, use\n",
      " |        `sys.byteorder' as the byte order value.\n",
      " |      signed\n",
      " |        Indicates whether two's complement is used to represent the integer.\n",
      " |  \n",
      " |  ----------------------------------------------------------------------\n",
      " |  Static methods defined here:\n",
      " |  \n",
      " |  __new__(*args, **kwargs) from builtins.type\n",
      " |      Create and return a new object.  See help(type) for accurate signature.\n",
      " |  \n",
      " |  ----------------------------------------------------------------------\n",
      " |  Data descriptors defined here:\n",
      " |  \n",
      " |  denominator\n",
      " |      the denominator of a rational number in lowest terms\n",
      " |  \n",
      " |  imag\n",
      " |      the imaginary part of a complex number\n",
      " |  \n",
      " |  numerator\n",
      " |      the numerator of a rational number in lowest terms\n",
      " |  \n",
      " |  real\n",
      " |      the real part of a complex number\n",
      "\n"
     ]
    }
   ],
   "source": [
    "help(round(-2.01))"
   ]
  },
  {
   "cell_type": "markdown",
   "id": "70903136",
   "metadata": {},
   "source": [
    "Python оценивает выражение, подобное этому, изнутри наружу. Сначала он вычисляет значение round(-2.01), затем предоставляет справку по выводу этого выражения.\n",
    "\n",
    "(И оказывается, что он может многое сказать о целых числах! После того, как мы поговорим позже об объектах, методах и атрибутах в Python, вывод справки выше станет более понятным.)\n",
    "\n",
    "round — очень простая функция с короткой строкой документации. help становится еще более эффективен при работе с более сложными, настраиваемыми функциями, такими как print. Не волнуйтесь, если следующий вывод выглядит непостижимым... пока просто посмотрите, сможете ли вы извлечь что-то новое из этой справки."
   ]
  },
  {
   "cell_type": "code",
   "execution_count": 1,
   "id": "c1cc2b86",
   "metadata": {},
   "outputs": [
    {
     "name": "stdout",
     "output_type": "stream",
     "text": [
      "Help on built-in function print in module builtins:\n",
      "\n",
      "print(...)\n",
      "    print(value, ..., sep=' ', end='\\n', file=sys.stdout, flush=False)\n",
      "    \n",
      "    Prints the values to a stream, or to sys.stdout by default.\n",
      "    Optional keyword arguments:\n",
      "    file:  a file-like object (stream); defaults to the current sys.stdout.\n",
      "    sep:   string inserted between values, default a space.\n",
      "    end:   string appended after the last value, default a newline.\n",
      "    flush: whether to forcibly flush the stream.\n",
      "\n"
     ]
    }
   ],
   "source": [
    "help(print)"
   ]
  },
  {
   "cell_type": "markdown",
   "id": "ba712405",
   "metadata": {},
   "source": [
    "Справка по встроенной функции print во встроенных модулях:\n",
    "\n",
    "print(...)\n",
    "print(value, ..., sep=' ', end='\\n', file=sys.stdout, flush=False)\n",
    "\n",
    "Выводит значения в поток или в sys.stdout по умолчанию.\n",
    "Необязательные ключевые аргументы:\n",
    "file: объект, похожий на файл (поток); по умолчанию — текущий sys.stdout.\n",
    "sep: строка, вставленная между значениями, по умолчанию — пробел.\n",
    "end: строка, добавленная после последнего значения, по умолчанию — новая строка.\n",
    "flush: принудительно сбрасывать ли поток."
   ]
  },
  {
   "cell_type": "markdown",
   "id": "79c50ef4",
   "metadata": {},
   "source": [
    "Если вы искали это, то могли узнать, что print может принимать аргумент, называемый sep, и что он описывает то, что мы помещаем между всеми остальными аргументами, когда их печатаем."
   ]
  },
  {
   "cell_type": "markdown",
   "id": "f306cb0d",
   "metadata": {},
   "source": [
    "# Определение функций¶\n",
    "Встроенные функции великолепны, но мы можем продвинуться с ними лишь до определенного момента, прежде чем нам понадобится начать определять наши собственные функции. Ниже приведен простой пример."
   ]
  },
  {
   "cell_type": "code",
   "execution_count": 2,
   "id": "6fcef489",
   "metadata": {},
   "outputs": [],
   "source": [
    "def least_difference(a, b, c):\n",
    "    diff1 = abs(a - b)\n",
    "    diff2 = abs(b - c)\n",
    "    diff3 = abs(a - c)\n",
    "    return min(diff1, diff2, diff3)"
   ]
  },
  {
   "cell_type": "markdown",
   "id": "4a88d255",
   "metadata": {},
   "source": [
    "Это создает функцию с именем least_difference, которая принимает три аргумента: a, b и c.\n",
    "\n",
    "Функции начинаются с заголовка, введенного ключевым словом def. Отступ блока кода после : запускается при вызове функции.\n",
    "\n",
    "return — еще одно ключевое слово, уникально связанное с функциями. Когда Python встречает оператор return, он немедленно выходит из функции и передает значение с правой стороны в вызывающий контекст.\n",
    "\n",
    "Понятно ли из исходного кода, что делает least_difference()? Если мы не уверены, мы всегда можем попробовать это на нескольких примерах:"
   ]
  },
  {
   "cell_type": "code",
   "execution_count": 3,
   "id": "889821df",
   "metadata": {},
   "outputs": [
    {
     "name": "stdout",
     "output_type": "stream",
     "text": [
      "9 0 1\n"
     ]
    }
   ],
   "source": [
    "print(\n",
    "    least_difference(1, 10, 100),\n",
    "    least_difference(1, 10, 10),\n",
    "    least_difference(5, 6, 7), # Python позволяет использовать запятые в конце списков аргументов. Насколько это хорошо?\n",
    ")"
   ]
  },
  {
   "cell_type": "markdown",
   "id": "c20aa645",
   "metadata": {},
   "source": [
    "Или, может быть, функция help() может нам что-то об этом рассказать."
   ]
  },
  {
   "cell_type": "code",
   "execution_count": 5,
   "id": "5061bea6",
   "metadata": {},
   "outputs": [
    {
     "name": "stdout",
     "output_type": "stream",
     "text": [
      "Help on function least_difference in module __main__:\n",
      "\n",
      "least_difference(a, b, c)\n",
      "\n"
     ]
    }
   ],
   "source": [
    "help(least_difference)"
   ]
  },
  {
   "cell_type": "markdown",
   "id": "1c2090b8",
   "metadata": {},
   "source": [
    "Помощь по функции наименьшая_разница в модуле __main__:\n",
    "\n",
    "наименьшая_разница(a, b, c)"
   ]
  },
  {
   "cell_type": "markdown",
   "id": "545d21d0",
   "metadata": {},
   "source": [
    "Python недостаточно умен, чтобы прочитать мой код и превратить его в красивое описание на английском языке. Однако, когда я пишу функцию, я могу предоставить описание в том, что называется строкой документации.\n",
    "\n",
    "Строки документации"
   ]
  },
  {
   "cell_type": "code",
   "execution_count": 6,
   "id": "fa5cc0b2",
   "metadata": {},
   "outputs": [],
   "source": [
    "def least_difference(a, b, c):\n",
    "    \"\"\"Верните наименьшую разницу между любыми двумя числами\n",
    "среди a, b и c.\n",
    "\n",
    ">>> least_difference(1, 5, -5)\n",
    "4\n",
    "    \"\"\"\n",
    "    diff1 = abs(a - b)\n",
    "    diff2 = abs(b - c)\n",
    "    diff3 = abs(a - c)\n",
    "    return min(diff1, diff2, diff3)"
   ]
  },
  {
   "cell_type": "markdown",
   "id": "d3c90663",
   "metadata": {},
   "source": [
    "Строка документации — это строка в тройных кавычках (которая может охватывать несколько строк), которая идет сразу после заголовка функции. Когда мы вызываем help() для функции, она показывает строку документации."
   ]
  },
  {
   "cell_type": "code",
   "execution_count": 7,
   "id": "e47857b7",
   "metadata": {},
   "outputs": [
    {
     "name": "stdout",
     "output_type": "stream",
     "text": [
      "Help on function least_difference in module __main__:\n",
      "\n",
      "least_difference(a, b, c)\n",
      "    Верните наименьшую разницу между любыми двумя числами\n",
      "    среди a, b и c.\n",
      "    \n",
      "    >>> least_difference(1, 5, -5)\n",
      "    4\n",
      "\n"
     ]
    }
   ],
   "source": [
    "help(least_difference)"
   ]
  },
  {
   "cell_type": "markdown",
   "id": "1d28efdf",
   "metadata": {},
   "source": [
    "Примечание: последние две строки docstring — это пример вызова функции и результат. (Значок >>> — это ссылка на командную строку, используемую в интерактивных оболочках Python.) Python не запускает пример вызова — он просто нужен для удобства читателя. Соглашение о включении одного или нескольких примеров вызовов в docstring функции соблюдается далеко не повсеместно, но оно может быть очень эффективным для того, чтобы помочь кому-то понять вашу функцию. Для примера из реального мира см. эту docstring для функции numpy np.eye."
   ]
  },
  {
   "cell_type": "markdown",
   "id": "4b2f604f",
   "metadata": {},
   "source": [
    "Хорошие программисты используют docstrings, если только они не собираются выбрасывать код вскоре после его использования (что случается редко). Так что вам тоже стоит начать писать docstrings!"
   ]
  },
  {
   "cell_type": "markdown",
   "id": "58ecb597",
   "metadata": {},
   "source": [
    "# Функции, которые не возвращают¶\n",
    "Что произойдет, если мы не включим ключевое слово return в нашу функцию?"
   ]
  },
  {
   "cell_type": "code",
   "execution_count": 9,
   "id": "2b2473d5",
   "metadata": {},
   "outputs": [
    {
     "name": "stdout",
     "output_type": "stream",
     "text": [
      "None None None\n"
     ]
    }
   ],
   "source": [
    "def least_difference(a, b, c):\n",
    "    \"\"\"Верните наименьшую разницу между любыми двумя числами\n",
    "среди a, b и c.\n",
    "    \"\"\"\n",
    "    diff1 = abs(a - b)\n",
    "    diff2 = abs(b - c)\n",
    "    diff3 = abs(a - c)\n",
    "    min(diff1, diff2, diff3)\n",
    "    \n",
    "print(\n",
    "    least_difference(1, 10, 100),\n",
    "    least_difference(1, 10, 10),\n",
    "    least_difference(5, 6, 7),\n",
    ")"
   ]
  },
  {
   "cell_type": "markdown",
   "id": "d63ae4ce",
   "metadata": {},
   "source": [
    "Python позволяет нам определять такие функции. Результатом их вызова является специальное значение None. (Это похоже на концепцию «null» в других языках.)\n",
    "\n",
    "Без оператора return, least_difference совершенно бессмысленна, но функция с побочными эффектами может делать что-то полезное, ничего не возвращая. Мы уже видели два примера этого: print() и help() ничего не возвращают. Мы вызываем их только из-за их побочных эффектов (вывод текста на экран). Другие примеры полезных побочных эффектов включают запись в файл или изменение ввода."
   ]
  },
  {
   "cell_type": "code",
   "execution_count": 10,
   "id": "0d70623f",
   "metadata": {},
   "outputs": [
    {
     "name": "stdout",
     "output_type": "stream",
     "text": [
      "\n",
      "None\n"
     ]
    }
   ],
   "source": [
    "mystery = print()\n",
    "print(mystery)"
   ]
  },
  {
   "cell_type": "markdown",
   "id": "2a0b9019",
   "metadata": {},
   "source": [
    "# Аргументы по умолчанию¶\n",
    "Когда мы вызвали help(print), мы увидели, что функция print имеет несколько необязательных аргументов. Например, мы можем указать значение для sep, чтобы поместить некоторую специальную строку между нашими напечатанными аргументами:"
   ]
  },
  {
   "cell_type": "code",
   "execution_count": 11,
   "id": "28f5628a",
   "metadata": {},
   "outputs": [
    {
     "name": "stdout",
     "output_type": "stream",
     "text": [
      "1 < 2 < 3\n"
     ]
    }
   ],
   "source": [
    "print(1, 2, 3, sep=' < ')"
   ]
  },
  {
   "cell_type": "markdown",
   "id": "f7b66b0e",
   "metadata": {},
   "source": [
    "Но если мы не укажем значение, sep будет рассматриваться как имеющий значение по умолчанию ' ' (один пробел)."
   ]
  },
  {
   "cell_type": "code",
   "execution_count": 12,
   "id": "2ecf68e0",
   "metadata": {},
   "outputs": [
    {
     "name": "stdout",
     "output_type": "stream",
     "text": [
      "1 2 3\n"
     ]
    }
   ],
   "source": [
    "print(1, 2, 3)"
   ]
  },
  {
   "cell_type": "markdown",
   "id": "136265e6",
   "metadata": {},
   "source": [
    "Добавление необязательных аргументов со значениями по умолчанию к определяемым нами функциям оказывается довольно простым:"
   ]
  },
  {
   "cell_type": "code",
   "execution_count": 13,
   "id": "544c1147",
   "metadata": {},
   "outputs": [
    {
     "name": "stdout",
     "output_type": "stream",
     "text": [
      "Hello, Colin\n",
      "Hello, Kaggle\n",
      "Hello, world\n"
     ]
    }
   ],
   "source": [
    "def greet(who=\"Colin\"):\n",
    "    print(\"Hello,\", who)\n",
    "    \n",
    "greet()\n",
    "greet(who=\"Kaggle\")\n",
    "# (В этом случае нам не нужно указывать имя аргумента, поскольку оно однозначно.)\n",
    "greet(\"world\")"
   ]
  },
  {
   "cell_type": "markdown",
   "id": "c38d39dd",
   "metadata": {},
   "source": [
    "# Функции, применяемые к функциям¶\n",
    "Вот что-то мощное, хотя поначалу это может показаться очень абстрактным. Вы можете предоставлять функции в качестве аргументов другим функциям. Несколько примеров могут прояснить это:"
   ]
  },
  {
   "cell_type": "code",
   "execution_count": 14,
   "id": "0d0c097b",
   "metadata": {},
   "outputs": [
    {
     "name": "stdout",
     "output_type": "stream",
     "text": [
      "5\n",
      "25\n"
     ]
    }
   ],
   "source": [
    "def mult_by_five(x):\n",
    "    return 5 * x\n",
    "\n",
    "def call(fn, arg):\n",
    "    \"\"\"Вызовите fn по arg\"\"\"\n",
    "    return fn(arg)\n",
    "\n",
    "def squared_call(fn, arg):\n",
    "    \"\"\"Вызов fn по результату вызова fn по arg\"\"\"\n",
    "    return fn(fn(arg))\n",
    "\n",
    "print(\n",
    "    call(mult_by_five, 1),\n",
    "    squared_call(mult_by_five, 1), \n",
    "    sep='\\n', # '\\n' — символ новой строки, он начинает новую строку.\n",
    ")"
   ]
  },
  {
   "cell_type": "markdown",
   "id": "2442f937",
   "metadata": {},
   "source": [
    "Функции, которые работают с другими функциями, называются «функциями высшего порядка». Вероятно, вы не напишете свои собственные в ближайшее время. Но в Python есть встроенные функции высшего порядка, которые вам может быть полезно вызывать.\n",
    "\n",
    "Вот интересный пример использования функции max.\n",
    "\n",
    "По умолчанию max возвращает наибольший из своих аргументов. Но если мы передадим функцию с помощью необязательного аргумента key, она вернет аргумент x, который максимизирует key(x) (он же 'argmax')."
   ]
  },
  {
   "cell_type": "code",
   "execution_count": 15,
   "id": "68379ada",
   "metadata": {},
   "outputs": [
    {
     "name": "stdout",
     "output_type": "stream",
     "text": [
      "Какое число больше?\n",
      "100\n",
      "Какое число больше по модулю 5?\n",
      "14\n"
     ]
    }
   ],
   "source": [
    "def mod_5(x):\n",
    "    \"\"\"Вернуть остаток x после деления на 5\"\"\"\n",
    "    return x % 5\n",
    "\n",
    "print(\n",
    "    'Какое число больше?',\n",
    "    max(100, 51, 14),\n",
    "    'Какое число больше по модулю 5?',\n",
    "    max(100, 51, 14, key=mod_5),\n",
    "    sep='\\n',\n",
    ")"
   ]
  },
  {
   "cell_type": "markdown",
   "id": "25268dea",
   "metadata": {},
   "source": [
    "Your Turn¶\n",
    "Функции открывают совершенно новый мир в программировании на Python. Попробуйте использовать их сами."
   ]
  },
  {
   "cell_type": "code",
   "execution_count": null,
   "id": "becccd66",
   "metadata": {},
   "outputs": [],
   "source": []
  }
 ],
 "metadata": {
  "kernelspec": {
   "display_name": "Python 3 (ipykernel)",
   "language": "python",
   "name": "python3"
  },
  "language_info": {
   "codemirror_mode": {
    "name": "ipython",
    "version": 3
   },
   "file_extension": ".py",
   "mimetype": "text/x-python",
   "name": "python",
   "nbconvert_exporter": "python",
   "pygments_lexer": "ipython3",
   "version": "3.9.12"
  }
 },
 "nbformat": 4,
 "nbformat_minor": 5
}
