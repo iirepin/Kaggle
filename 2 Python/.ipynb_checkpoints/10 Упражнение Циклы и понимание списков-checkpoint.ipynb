{
 "cells": [
  {
   "cell_type": "markdown",
   "id": "0b7e3dad",
   "metadata": {},
   "source": [
    "С учетом всего, что вы узнали, вы можете приступить к написанию гораздо более интересных программ. Посмотрите, сможете ли вы решить проблемы, описанные ниже.\n",
    "\n",
    "Как всегда, запустите приведенный ниже установочный код, прежде чем приступать к работе над вопросами."
   ]
  },
  {
   "cell_type": "markdown",
   "id": "0b5888f0",
   "metadata": {},
   "source": [
    "# 1.\n",
    "\n",
    "Вам когда-нибудь казалось, что для отладки требуется немного везения? В следующей программе обнаружена ошибка. Попробуйте определить ошибку и исправить ее."
   ]
  },
  {
   "cell_type": "code",
   "execution_count": 1,
   "id": "514e46ac",
   "metadata": {},
   "outputs": [],
   "source": [
    "def has_lucky_number(nums):\n",
    "    \"\"\"Возвращает, является ли данный список чисел счастливым. Список счастливых чисел содержит\n",
    "    по крайней мере одно число, кратное 7.\n",
    "    \"\"\"\n",
    "    for num in nums:\n",
    "        if num % 7 == 0:\n",
    "            return True\n",
    "        else:\n",
    "            return False"
   ]
  },
  {
   "cell_type": "markdown",
   "id": "65681208",
   "metadata": {},
   "source": [
    "Попробуйте определить ошибку и исправить ее в ячейке ниже:"
   ]
  },
  {
   "cell_type": "code",
   "execution_count": 6,
   "id": "75a6a174",
   "metadata": {},
   "outputs": [],
   "source": [
    "def has_lucky_number(nums):\n",
    "    \"\"\"Возвращает, является ли данный список чисел счастливым. Список счастливых чисел содержит\n",
    "    по крайней мере одно число, кратное 7.\n",
    "    \"\"\"\n",
    "    count = 0\n",
    "    for num in nums:\n",
    "        if num % 7 == 0:\n",
    "            count +=1\n",
    "    if count > 0:\n",
    "        return True\n",
    "    else:\n",
    "        return False\n",
    "    "
   ]
  },
  {
   "cell_type": "code",
   "execution_count": 7,
   "id": "1ceb8432",
   "metadata": {},
   "outputs": [
    {
     "data": {
      "text/plain": [
       "True"
      ]
     },
     "execution_count": 7,
     "metadata": {},
     "output_type": "execute_result"
    }
   ],
   "source": [
    "num_list = [1, 2, 3, 4, 5, 6, 7]\n",
    "has_lucky_number(num_list)"
   ]
  },
  {
   "cell_type": "markdown",
   "id": "6bfbc126",
   "metadata": {},
   "source": [
    "Правильный:\n",
    "\n",
    "Помните, что return приводит к немедленному завершению работы функции. Поэтому наша первоначальная реализация всегда выполнялась только на одной итерации. Мы можем вернуть значение False только в том случае, если мы просмотрели каждый элемент списка (и убедились, что ни один из них не является удачным). Хотя мы можем вернуться раньше, если ответ верный:"
   ]
  },
  {
   "cell_type": "code",
   "execution_count": 8,
   "id": "74830045",
   "metadata": {},
   "outputs": [],
   "source": [
    "def has_lucky_number(nums):\n",
    "    for num in nums:\n",
    "        if num % 7 == 0:\n",
    "            return True\n",
    "    # Мы исчерпали список, не найдя счастливого числа\n",
    "    return False"
   ]
  },
  {
   "cell_type": "markdown",
   "id": "bc644682",
   "metadata": {},
   "source": [
    "Вот однострочная версия, использующая понимание списка с помощью функции any в Python (вы можете прочитать о том, что она делает, вызвав help(any)):"
   ]
  },
  {
   "cell_type": "code",
   "execution_count": 9,
   "id": "74dde4b5",
   "metadata": {},
   "outputs": [],
   "source": [
    "def has_lucky_number(nums):\n",
    "    return any([num % 7 == 0 for num in nums])"
   ]
  },
  {
   "cell_type": "markdown",
   "id": "001607ee",
   "metadata": {},
   "source": [
    "# 2.\n",
    "\n",
    "Посмотрите на приведенное ниже выражение Python. Как вы думаете, что мы получим, когда выполним его? Когда вы сделаете свой прогноз, раскомментируйте код и запустите ячейку, чтобы убедиться, что вы были правы."
   ]
  },
  {
   "cell_type": "code",
   "execution_count": 10,
   "id": "0f251114",
   "metadata": {},
   "outputs": [
    {
     "ename": "TypeError",
     "evalue": "'>' not supported between instances of 'list' and 'int'",
     "output_type": "error",
     "traceback": [
      "\u001b[0;31m---------------------------------------------------------------------------\u001b[0m",
      "\u001b[0;31mTypeError\u001b[0m                                 Traceback (most recent call last)",
      "Input \u001b[0;32mIn [10]\u001b[0m, in \u001b[0;36m<cell line: 1>\u001b[0;34m()\u001b[0m\n\u001b[0;32m----> 1\u001b[0m \u001b[43m[\u001b[49m\u001b[38;5;241;43m1\u001b[39;49m\u001b[43m,\u001b[49m\u001b[43m \u001b[49m\u001b[38;5;241;43m2\u001b[39;49m\u001b[43m,\u001b[49m\u001b[43m \u001b[49m\u001b[38;5;241;43m3\u001b[39;49m\u001b[43m,\u001b[49m\u001b[43m \u001b[49m\u001b[38;5;241;43m4\u001b[39;49m\u001b[43m]\u001b[49m\u001b[43m \u001b[49m\u001b[38;5;241;43m>\u001b[39;49m\u001b[43m \u001b[49m\u001b[38;5;241;43m2\u001b[39;49m\n",
      "\u001b[0;31mTypeError\u001b[0m: '>' not supported between instances of 'list' and 'int'"
     ]
    }
   ],
   "source": [
    "[1, 2, 3, 4] > 2"
   ]
  },
  {
   "cell_type": "markdown",
   "id": "c259d9f8",
   "metadata": {},
   "source": [
    "В R и Python есть некоторые библиотеки (например, numpy и pandas), которые сравнивают каждый элемент списка с 2 (т.е. выполняют \"поэлементное\" сравнение) и выдают нам список логических значений типа [False, Ложь, Истина, Истина].\n",
    "\n",
    "Реализуйте функцию, которая воспроизводит это поведение, возвращая список логических значений, соответствующих тому, больше ли соответствующий элемент n."
   ]
  },
  {
   "cell_type": "code",
   "execution_count": 13,
   "id": "f899c682",
   "metadata": {},
   "outputs": [],
   "source": [
    "def elementwise_greater_than(L, thresh):\n",
    "    \"\"\"Возвращает список той же длины, что и L, где значение индекса i равно \n",
    "    True, если значение L[i] больше значения thresh, и False в противном случае.\n",
    "    \n",
    "    >>> elementwise_greater_than([1, 2, 3, 4], 2)\n",
    "    [Ложь, Ложь, Правда, Правда]\n",
    "    \"\"\"\n",
    "    list = []\n",
    "    for i in L:\n",
    "        if i > thresh:\n",
    "            list.append(True)\n",
    "        else:\n",
    "            list.append(False)\n",
    "    return list"
   ]
  },
  {
   "cell_type": "code",
   "execution_count": 15,
   "id": "ca266d2a",
   "metadata": {},
   "outputs": [
    {
     "data": {
      "text/plain": [
       "[False, False, True, True]"
      ]
     },
     "execution_count": 15,
     "metadata": {},
     "output_type": "execute_result"
    }
   ],
   "source": [
    "L = [1, 2, 3, 4]\n",
    "thresh = 2\n",
    "elementwise_greater_than(L, thresh)"
   ]
  },
  {
   "cell_type": "markdown",
   "id": "4917a54c",
   "metadata": {},
   "source": [
    "Правильный:\n",
    "\n",
    "Вот одно из решений:"
   ]
  },
  {
   "cell_type": "code",
   "execution_count": null,
   "id": "240d6a27",
   "metadata": {},
   "outputs": [],
   "source": [
    "def elementwise_greater_than(L, thresh):\n",
    "    res = []\n",
    "    for ele in L:\n",
    "        res.append(ele > thresh)\n",
    "    return res"
   ]
  },
  {
   "cell_type": "markdown",
   "id": "e53806de",
   "metadata": {},
   "source": [
    "И вот версия для ознакомления со списком:"
   ]
  },
  {
   "cell_type": "code",
   "execution_count": null,
   "id": "f227880e",
   "metadata": {},
   "outputs": [],
   "source": [
    "def elementwise_greater_than(L, thresh):\n",
    "    return [ele > thresh for ele in L]"
   ]
  },
  {
   "cell_type": "markdown",
   "id": "712799d8",
   "metadata": {},
   "source": [
    "# 3.\n",
    "\n",
    "Заполните текст приведенной ниже функции в соответствии с ее строкой документации."
   ]
  },
  {
   "cell_type": "code",
   "execution_count": 16,
   "id": "f9ff5b2f",
   "metadata": {},
   "outputs": [],
   "source": [
    "def menu_is_boring(meals):\n",
    "    \"\"\"При наличии списка блюд, подававшихся в течение определенного периода времени, верните значение True, если одно и то\n",
    "же блюдо подавалось два дня подряд, и значение False в противном случае.\n",
    "    \"\"\"\n",
    "    for i in range(len(meals)-1):\n",
    "        if meals[i] == meals[i + 1]:\n",
    "            return True\n",
    "    return False\n",
    "        "
   ]
  },
  {
   "cell_type": "code",
   "execution_count": 17,
   "id": "a1b7784d",
   "metadata": {},
   "outputs": [
    {
     "data": {
      "text/plain": [
       "True"
      ]
     },
     "execution_count": 17,
     "metadata": {},
     "output_type": "execute_result"
    }
   ],
   "source": [
    "meals = ['борщ', 'котлета', 'борщ', 'суп', 'котлета', 'котлета']\n",
    "menu_is_boring(meals)"
   ]
  },
  {
   "cell_type": "markdown",
   "id": "b46d1cfc",
   "metadata": {},
   "source": [
    "Правильный:"
   ]
  },
  {
   "cell_type": "code",
   "execution_count": 18,
   "id": "aa316757",
   "metadata": {},
   "outputs": [],
   "source": [
    "def menu_is_boring(meals):\n",
    "    # Iterate over all indices of the list, except the last one\n",
    "    for i in range(len(meals)-1):\n",
    "        if meals[i] == meals[i+1]:\n",
    "            return True\n",
    "    return False"
   ]
  },
  {
   "cell_type": "markdown",
   "id": "16e84f19",
   "metadata": {},
   "source": [
    "Ключом к нашему решению является вызов range. range(len(meals)) дал бы нам все индексы meals. Если бы мы использовали этот диапазон, на последней итерации цикла сравнивался бы последний элемент с элементом после него, который равен... IndexError! range(len(meals)-1) дает нам все индексы, кроме индекса последнего элемента.\n",
    "\n",
    "Но не нужно ли нам проверить, пуст ли параметр meals? Получается, что range(0) == range(-1) - они оба пустые. Таким образом, если meals имеет длину 0 или 1, мы просто не будем выполнять никаких итераций нашего цикла for."
   ]
  },
  {
   "cell_type": "markdown",
   "id": "85e6abff",
   "metadata": {},
   "source": [
    "# 4. 🌶️\n",
    "\n",
    "В казино Python Challenge рядом со столом для игры в блэкджек установлен игровой автомат. Вы можете узнать результат игры, вызвав функцию play_slot_machine(). Число, которое она возвращает, соответствует вашему выигрышу в долларах. Обычно она возвращает 0. Но иногда вам может повезти, и вы получите большой куш. Попробуйте запустить его ниже:"
   ]
  },
  {
   "cell_type": "code",
   "execution_count": null,
   "id": "604bffd9",
   "metadata": {},
   "outputs": [],
   "source": []
  },
  {
   "cell_type": "code",
   "execution_count": null,
   "id": "3edd0316",
   "metadata": {},
   "outputs": [],
   "source": [
    "play_slot_machine()"
   ]
  },
  {
   "cell_type": "markdown",
   "id": "fd1c5c92",
   "metadata": {},
   "source": [
    "Кстати, мы упоминали, что каждая игра стоит 1 доллар? Не волнуйтесь, мы вышлем вам счет позже.\n",
    "\n",
    "В среднем, сколько денег вы можете получить (или потерять) при каждой игре на автомате? Казино хранит это в секрете, но вы можете оценить среднее значение каждого выигрыша, используя метод, называемый методом Монте-Карло. Чтобы оценить средний результат, мы многократно моделируем сценарий и возвращаем средний результат.\n",
    "\n",
    "Выполните следующую функцию, чтобы рассчитать среднее значение за игру на игровом автомате."
   ]
  },
  {
   "cell_type": "code",
   "execution_count": null,
   "id": "64517acb",
   "metadata": {},
   "outputs": [],
   "source": [
    "def estimate_average_slot_payout(n_runs):\n",
    "    \"\"\"Запустите игровой автомат n раз и получите среднюю чистую прибыль за один запуск.\n",
    "    Примеры вызовов (обратите внимание, что возвращаемое значение не является детерминированным!):\n",
    "    >>> оценка_средства_слота(1)\n",
    "    -1\n",
    "    >>> оценка_средней_слотовой_платы(1)\n",
    "    0.5\n",
    "    \"\"\"\n",
    "    pass"
   ]
  },
  {
   "cell_type": "markdown",
   "id": "d90f4efb",
   "metadata": {},
   "source": [
    "Когда вы решите, что знаете ожидаемое значение для каждого вращения, введите приведенную ниже ячейку с кодом, чтобы просмотреть решение и получить оценку за ответ на вопрос."
   ]
  },
  {
   "cell_type": "markdown",
   "id": "b8288fad",
   "metadata": {},
   "source": [
    "Решение:\n",
    "\n",
    "Точная ожидаемая стоимость одного розыгрыша игрового автомата составляет 0,025, то есть чуть больше 2 центов. - видишь? Не каждая игра в казино Python Challenge направлена против игрока!\n",
    "\n",
    "Чтобы получить этот ответ, вам нужно будет реализовать функцию estimate_average_slot_payout(n_runs), чтобы имитировать запуск игрового автомата n_runs раз. Она должна возвращать выплату, усредненную за эти n_runs.\n",
    "\n",
    "Затем, как только функция определена, нам нужно только вызвать ее, чтобы оценить среднюю выплату по игровому автомату.\n",
    "\n",
    "Из-за высокой дисперсии результатов (есть очень редкие результаты с высокими выплатами, которые существенно влияют на среднее значение) вам может потребоваться запустить вашу функцию с очень высоким значением n_runs, чтобы получить стабильный ответ, близкий к истинному ожиданию. Например, вы могли бы использовать значение для n_runs, равное 1000000.\n",
    "\n",
    "Вот пример того, как могла бы выглядеть функция:"
   ]
  },
  {
   "cell_type": "code",
   "execution_count": null,
   "id": "94de05a3",
   "metadata": {},
   "outputs": [],
   "source": [
    "def estimate_average_slot_payout(n_runs):\n",
    "    # Сыграйте в игровой автомат n раз подряд, рассчитайте выплату по каждому из них.\n",
    "    payouts = [play_slot_machine()-1 for i in range(n_runs)]\n",
    "    # Вычислить среднее значение\n",
    "    avg_payout = sum(payouts) / n_runs\n",
    "    return avg_payout\n",
    "    \n",
    "estimate_average_slot_payout(10000000)"
   ]
  },
  {
   "cell_type": "markdown",
   "id": "a1dcdbb7",
   "metadata": {},
   "source": [
    "Это должно дать ответ, близкий к 0,025!"
   ]
  },
  {
   "cell_type": "markdown",
   "id": "c1dd7291",
   "metadata": {},
   "source": [
    "# продолжай\n",
    "\n",
    "Многие программисты сообщают, что словари - их любимая структура данных. Вы узнаете о них (а также о строках) в следующем уроке."
   ]
  }
 ],
 "metadata": {
  "kernelspec": {
   "display_name": "Python 3 (ipykernel)",
   "language": "python",
   "name": "python3"
  },
  "language_info": {
   "codemirror_mode": {
    "name": "ipython",
    "version": 3
   },
   "file_extension": ".py",
   "mimetype": "text/x-python",
   "name": "python",
   "nbconvert_exporter": "python",
   "pygments_lexer": "ipython3",
   "version": "3.9.12"
  }
 },
 "nbformat": 4,
 "nbformat_minor": 5
}
