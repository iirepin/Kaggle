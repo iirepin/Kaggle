{
 "cells": [
  {
   "cell_type": "markdown",
   "id": "780fcadc",
   "metadata": {},
   "source": [
    "# Булевы значения\n",
    "В Python есть тип переменной bool. У нее есть два возможных значения: True и False."
   ]
  },
  {
   "cell_type": "code",
   "execution_count": 1,
   "id": "da9f889a",
   "metadata": {},
   "outputs": [
    {
     "name": "stdout",
     "output_type": "stream",
     "text": [
      "True\n",
      "<class 'bool'>\n"
     ]
    }
   ],
   "source": [
    "x = True\n",
    "print(x)\n",
    "print(type(x))"
   ]
  },
  {
   "cell_type": "markdown",
   "id": "9e8a87f9",
   "metadata": {},
   "source": [
    "Вместо того, чтобы напрямую вставлять True или False в наш код, мы обычно получаем булевы значения из булевых операторов. Это операторы, которые отвечают на вопросы типа «да/нет». Ниже мы рассмотрим некоторые из этих операторов."
   ]
  },
  {
   "attachments": {
    "image.png": {
     "image/png": "[encoded data removed]"
    }
   },
   "cell_type": "markdown",
   "id": "b0d3e993",
   "metadata": {},
   "source": [
    "Comparison Operations\n",
    "![image.png](attachment:image.png)"
   ]
  },
  {
   "cell_type": "code",
   "execution_count": 5,
   "id": "0760c1e2",
   "metadata": {},
   "outputs": [
    {
     "name": "stdout",
     "output_type": "stream",
     "text": [
      "Can a 19-year-old run for president? False\n",
      "Can a 45-year-old run for president? True\n"
     ]
    }
   ],
   "source": [
    "def can_run_for_president(age):\n",
    "    \"\"\"Может ли человек указанного возраста баллотироваться на пост президента США?\"\"\"\n",
    "    # Конституция США гласит, что вам должно быть не менее 35 лет.\n",
    "    return age >= 35\n",
    "\n",
    "print(\"Can a 19-year-old run for president?\", can_run_for_president(19))\n",
    "print(\"Can a 45-year-old run for president?\", can_run_for_president(45))"
   ]
  },
  {
   "cell_type": "markdown",
   "id": "1a6ca8b4",
   "metadata": {},
   "source": [
    "Сравнения часто работают так, как вы надеетесь"
   ]
  },
  {
   "cell_type": "code",
   "execution_count": 3,
   "id": "e7a7a16c",
   "metadata": {},
   "outputs": [
    {
     "data": {
      "text/plain": [
       "True"
      ]
     },
     "execution_count": 3,
     "metadata": {},
     "output_type": "execute_result"
    }
   ],
   "source": [
    "3.0 == 3"
   ]
  },
  {
   "cell_type": "markdown",
   "id": "8e18fee4",
   "metadata": {},
   "source": [
    "Но иногда они могут быть сложными."
   ]
  },
  {
   "cell_type": "code",
   "execution_count": 4,
   "id": "f7a714da",
   "metadata": {},
   "outputs": [
    {
     "data": {
      "text/plain": [
       "False"
      ]
     },
     "execution_count": 4,
     "metadata": {},
     "output_type": "execute_result"
    }
   ],
   "source": [
    "'3' == 3"
   ]
  },
  {
   "cell_type": "markdown",
   "id": "25dbd1d0",
   "metadata": {},
   "source": [
    "Операторы сравнения можно комбинировать с арифметическими операторами, которые мы уже видели, чтобы выразить практически безграничный диапазон математических тестов. Например, мы можем проверить, является ли число нечетным, проверив, что модуль с 2 возвращает 1:"
   ]
  },
  {
   "cell_type": "code",
   "execution_count": 6,
   "id": "42b47e9a",
   "metadata": {},
   "outputs": [
    {
     "name": "stdout",
     "output_type": "stream",
     "text": [
      "Is 100 odd? False\n",
      "Is -1 odd? True\n"
     ]
    }
   ],
   "source": [
    "def is_odd(n):\n",
    "    return (n % 2) == 1\n",
    "\n",
    "print(\"Is 100 odd?\", is_odd(100))\n",
    "print(\"Is -1 odd?\", is_odd(-1))"
   ]
  },
  {
   "cell_type": "markdown",
   "id": "21bfc69f",
   "metadata": {},
   "source": [
    "Не забывайте использовать == вместо = при сравнении. Если вы пишете n == 2, вы спрашиваете о значении n. Когда вы пишете n = 2, вы меняете значение n.\n",
    "\n",
    "# Объединение булевых значений¶\n",
    "Вы можете объединять булевы значения, используя стандартные концепции «и», «или» и «не». Фактически, слова для этого: и, или и не.\n",
    "С их помощью мы можем сделать нашу функцию can_run_for_president более точной."
   ]
  },
  {
   "cell_type": "code",
   "execution_count": 7,
   "id": "f34facc1",
   "metadata": {},
   "outputs": [
    {
     "name": "stdout",
     "output_type": "stream",
     "text": [
      "False\n",
      "False\n",
      "True\n"
     ]
    }
   ],
   "source": [
    "def can_run_for_president(age, is_natural_born_citizen):\n",
    "    \"\"\"Может ли человек определенного возраста и гражданства баллотироваться на пост президента США?\"\"\"\n",
    "    # Конституция США гласит, что вы должны быть гражданином по рождению *и* быть не моложе 35 лет\n",
    "    return is_natural_born_citizen and (age >= 35)\n",
    "\n",
    "print(can_run_for_president(19, True))\n",
    "print(can_run_for_president(55, False))\n",
    "print(can_run_for_president(55, True))"
   ]
  },
  {
   "cell_type": "markdown",
   "id": "aa499d61",
   "metadata": {},
   "source": [
    "Можете ли вы быстро угадать значение этого выражения?"
   ]
  },
  {
   "cell_type": "code",
   "execution_count": 8,
   "id": "e7d62d9a",
   "metadata": {},
   "outputs": [
    {
     "data": {
      "text/plain": [
       "True"
      ]
     },
     "execution_count": 8,
     "metadata": {},
     "output_type": "execute_result"
    }
   ],
   "source": [
    "True or True and False"
   ]
  },
  {
   "cell_type": "markdown",
   "id": "03638efd",
   "metadata": {},
   "source": [
    "(Нажмите кнопку «вывод», чтобы увидеть ответ)\n",
    "\n",
    "Чтобы ответить на этот вопрос, вам нужно выяснить порядок операций.\n",
    "\n",
    "Например, and вычисляется перед or. Вот почему первое выражение выше — True. Если бы мы вычисляли его слева направо, мы бы сначала вычислили True или True (что равно True), а затем взяли бы and этого результата с False, получив в итоге значение False.\n",
    "\n",
    "Вы можете попытаться запомнить порядок приоритета, но более безопасным вариантом будет просто использовать либеральные скобки. Это не только помогает предотвратить ошибки, но и делает ваши намерения более понятными для любого, кто читает ваш код.\n",
    "\n",
    "Например, рассмотрим следующее выражение:"
   ]
  },
  {
   "cell_type": "code",
   "execution_count": 9,
   "id": "82265f91",
   "metadata": {},
   "outputs": [
    {
     "ename": "NameError",
     "evalue": "name 'have_umbrella' is not defined",
     "output_type": "error",
     "traceback": [
      "\u001b[0;31m---------------------------------------------------------------------------\u001b[0m",
      "\u001b[0;31mNameError\u001b[0m                                 Traceback (most recent call last)",
      "Input \u001b[0;32mIn [9]\u001b[0m, in \u001b[0;36m<cell line: 1>\u001b[0;34m()\u001b[0m\n\u001b[0;32m----> 1\u001b[0m prepared_for_weather \u001b[38;5;241m=\u001b[39m \u001b[43mhave_umbrella\u001b[49m \u001b[38;5;129;01mor\u001b[39;00m rain_level \u001b[38;5;241m<\u001b[39m \u001b[38;5;241m5\u001b[39m \u001b[38;5;129;01mand\u001b[39;00m have_hood \u001b[38;5;129;01mor\u001b[39;00m \u001b[38;5;129;01mnot\u001b[39;00m rain_level \u001b[38;5;241m>\u001b[39m \u001b[38;5;241m0\u001b[39m \u001b[38;5;129;01mand\u001b[39;00m is_workday\n",
      "\u001b[0;31mNameError\u001b[0m: name 'have_umbrella' is not defined"
     ]
    }
   ],
   "source": [
    "prepared_for_weather = have_umbrella or rain_level < 5 and have_hood or not rain_level > 0 and is_workday"
   ]
  },
  {
   "cell_type": "markdown",
   "id": "fd19d943",
   "metadata": {},
   "source": [
    "Я пытаюсь сказать, что я в безопасности от сегодняшней погоды...\n",
    "\n",
    "если у меня есть зонтик...\n",
    "или если дождь не слишком сильный и у меня есть капюшон...\n",
    "в противном случае я все еще в порядке, если только не идет дождь и это рабочий день\n",
    "Но мой код Python не только трудно читать, в нем есть ошибка. Мы можем решить обе проблемы, добавив несколько скобок:"
   ]
  },
  {
   "cell_type": "code",
   "execution_count": 10,
   "id": "04097100",
   "metadata": {},
   "outputs": [
    {
     "ename": "NameError",
     "evalue": "name 'have_umbrella' is not defined",
     "output_type": "error",
     "traceback": [
      "\u001b[0;31m---------------------------------------------------------------------------\u001b[0m",
      "\u001b[0;31mNameError\u001b[0m                                 Traceback (most recent call last)",
      "Input \u001b[0;32mIn [10]\u001b[0m, in \u001b[0;36m<cell line: 1>\u001b[0;34m()\u001b[0m\n\u001b[0;32m----> 1\u001b[0m prepared_for_weather \u001b[38;5;241m=\u001b[39m \u001b[43mhave_umbrella\u001b[49m \u001b[38;5;129;01mor\u001b[39;00m (rain_level \u001b[38;5;241m<\u001b[39m \u001b[38;5;241m5\u001b[39m \u001b[38;5;129;01mand\u001b[39;00m have_hood) \u001b[38;5;129;01mor\u001b[39;00m \u001b[38;5;129;01mnot\u001b[39;00m (rain_level \u001b[38;5;241m>\u001b[39m \u001b[38;5;241m0\u001b[39m \u001b[38;5;129;01mand\u001b[39;00m is_workday)\n",
      "\u001b[0;31mNameError\u001b[0m: name 'have_umbrella' is not defined"
     ]
    }
   ],
   "source": [
    "prepared_for_weather = have_umbrella or (rain_level < 5 and have_hood) or not (rain_level > 0 and is_workday)"
   ]
  },
  {
   "cell_type": "markdown",
   "id": "235132d8",
   "metadata": {},
   "source": [
    "Вы можете добавить еще больше скобок, если считаете, что это улучшит читабельность:"
   ]
  },
  {
   "cell_type": "code",
   "execution_count": 11,
   "id": "ed1b5793",
   "metadata": {},
   "outputs": [
    {
     "ename": "NameError",
     "evalue": "name 'have_umbrella' is not defined",
     "output_type": "error",
     "traceback": [
      "\u001b[0;31m---------------------------------------------------------------------------\u001b[0m",
      "\u001b[0;31mNameError\u001b[0m                                 Traceback (most recent call last)",
      "Input \u001b[0;32mIn [11]\u001b[0m, in \u001b[0;36m<cell line: 1>\u001b[0;34m()\u001b[0m\n\u001b[0;32m----> 1\u001b[0m prepared_for_weather \u001b[38;5;241m=\u001b[39m \u001b[43mhave_umbrella\u001b[49m \u001b[38;5;129;01mor\u001b[39;00m ((rain_level \u001b[38;5;241m<\u001b[39m \u001b[38;5;241m5\u001b[39m) \u001b[38;5;129;01mand\u001b[39;00m have_hood) \u001b[38;5;129;01mor\u001b[39;00m (\u001b[38;5;129;01mnot\u001b[39;00m (rain_level \u001b[38;5;241m>\u001b[39m \u001b[38;5;241m0\u001b[39m \u001b[38;5;129;01mand\u001b[39;00m is_workday))\n",
      "\u001b[0;31mNameError\u001b[0m: name 'have_umbrella' is not defined"
     ]
    }
   ],
   "source": [
    "prepared_for_weather = have_umbrella or ((rain_level < 5) and have_hood) or (not (rain_level > 0 and is_workday))"
   ]
  },
  {
   "cell_type": "markdown",
   "id": "d33ac555",
   "metadata": {},
   "source": [
    "Мы также можем разделить его на несколько строк, чтобы подчеркнуть трехчастную структуру, описанную выше:"
   ]
  },
  {
   "cell_type": "code",
   "execution_count": 12,
   "id": "cab7067f",
   "metadata": {},
   "outputs": [
    {
     "ename": "NameError",
     "evalue": "name 'have_umbrella' is not defined",
     "output_type": "error",
     "traceback": [
      "\u001b[0;31m---------------------------------------------------------------------------\u001b[0m",
      "\u001b[0;31mNameError\u001b[0m                                 Traceback (most recent call last)",
      "Input \u001b[0;32mIn [12]\u001b[0m, in \u001b[0;36m<cell line: 2>\u001b[0;34m()\u001b[0m\n\u001b[1;32m      1\u001b[0m prepared_for_weather \u001b[38;5;241m=\u001b[39m (\n\u001b[0;32m----> 2\u001b[0m     \u001b[43mhave_umbrella\u001b[49m \n\u001b[1;32m      3\u001b[0m     \u001b[38;5;129;01mor\u001b[39;00m ((rain_level \u001b[38;5;241m<\u001b[39m \u001b[38;5;241m5\u001b[39m) \u001b[38;5;129;01mand\u001b[39;00m have_hood) \n\u001b[1;32m      4\u001b[0m     \u001b[38;5;129;01mor\u001b[39;00m (\u001b[38;5;129;01mnot\u001b[39;00m (rain_level \u001b[38;5;241m>\u001b[39m \u001b[38;5;241m0\u001b[39m \u001b[38;5;129;01mand\u001b[39;00m is_workday))\n\u001b[1;32m      5\u001b[0m )\n",
      "\u001b[0;31mNameError\u001b[0m: name 'have_umbrella' is not defined"
     ]
    }
   ],
   "source": [
    "prepared_for_weather = (\n",
    "    have_umbrella \n",
    "    or ((rain_level < 5) and have_hood) \n",
    "    or (not (rain_level > 0 and is_workday))\n",
    ")"
   ]
  },
  {
   "cell_type": "markdown",
   "id": "694979fb",
   "metadata": {},
   "source": [
    "# Условные операторы\n",
    "Булевы операторы наиболее полезны в сочетании с условными операторами, используя ключевые слова if, elif и else.\n",
    "\n",
    "Условные операторы, часто называемые операторами if-then, позволяют вам контролировать, какие фрагменты кода выполняются на основе значения некоторого булевого условия. Вот пример:"
   ]
  },
  {
   "cell_type": "code",
   "execution_count": 13,
   "id": "99152dc3",
   "metadata": {},
   "outputs": [
    {
     "name": "stdout",
     "output_type": "stream",
     "text": [
      "0 is zero\n",
      "-15 is negative\n"
     ]
    }
   ],
   "source": [
    "def inspect(x):\n",
    "    if x == 0:\n",
    "        print(x, \"is zero\")\n",
    "    elif x > 0:\n",
    "        print(x, \"is positive\")\n",
    "    elif x < 0:\n",
    "        print(x, \"is negative\")\n",
    "    else:\n",
    "        print(x, \"is unlike anything I've ever seen...\")\n",
    "\n",
    "inspect(0)\n",
    "inspect(-15)"
   ]
  },
  {
   "cell_type": "markdown",
   "id": "50f0483b",
   "metadata": {},
   "source": [
    "Ключевые слова if и else часто используются в других языках; его более уникальное ключевое слово — elif, сокращение от «else if». В этих условных предложениях блоки elif и else являются необязательными; кроме того, вы можете включать столько операторов elif, сколько захотите.\n",
    "\n",
    "Обратите особое внимание на использование двоеточий (:) и пробелов для обозначения отдельных блоков кода. Это похоже на то, что происходит, когда мы определяем функцию — заголовок функции заканчивается на :, а следующая строка имеет отступ в 4 пробела. Все последующие строки с отступом относятся к телу функции, пока мы не встретим строку без отступа, завершающую определение функции."
   ]
  },
  {
   "cell_type": "code",
   "execution_count": 1,
   "id": "80596a66",
   "metadata": {},
   "outputs": [
    {
     "name": "stdout",
     "output_type": "stream",
     "text": [
      "Печатается только если x положительный; x = 1\n",
      "Также печатается только если x положительный; x = 1\n",
      "Всегда печатается, независимо от значения x; x = 1\n",
      "Всегда печатается, независимо от значения x; x = 0\n"
     ]
    }
   ],
   "source": [
    "def f(x):\n",
    "    if x > 0:\n",
    "        print(\"Печатается только если x положительный; x =\", x)\n",
    "        print(\"Также печатается только если x положительный; x =\", x)\n",
    "    print(\"Всегда печатается, независимо от значения x; x =\", x)\n",
    "\n",
    "f(1)\n",
    "f(0)"
   ]
  },
  {
   "cell_type": "markdown",
   "id": "93d77a9a",
   "metadata": {},
   "source": [
    "# Преобразование в булевы значения¶\n",
    "Мы видели int(), которая преобразует значения в целые числа, и float(), которая преобразует значения в числа с плавающей точкой, поэтому вы, возможно, не удивитесь, узнав, что в Python есть функция bool(), которая преобразует значения в логические значения."
   ]
  },
  {
   "cell_type": "code",
   "execution_count": 16,
   "id": "208f2520",
   "metadata": {},
   "outputs": [
    {
     "name": "stdout",
     "output_type": "stream",
     "text": [
      "True\n",
      "False\n",
      "True\n",
      "False\n"
     ]
    }
   ],
   "source": [
    "print(bool(1)) # все числа считаются истинными, за исключением 0\n",
    "print(bool(0))\n",
    "print(bool(\"asf\")) # все строки считаются истинными, за исключением пустой строки \"\"\n",
    "print(bool(\"\"))\n",
    "# В основном пустые последовательности (строки, списки и другие типы, которые мы еще не видели, такие как списки и кортежи)\n",
    "# являются \"ложными\", а остальные - \"истинными\""
   ]
  },
  {
   "cell_type": "markdown",
   "id": "6264b8ce",
   "metadata": {},
   "source": [
    "Мы можем использовать небулевые объекты в условиях if и других местах, где ожидается булево значение. Python будет неявно рассматривать их как соответствующее булево значение:"
   ]
  },
  {
   "cell_type": "code",
   "execution_count": 17,
   "id": "a3df820b",
   "metadata": {},
   "outputs": [
    {
     "name": "stdout",
     "output_type": "stream",
     "text": [
      "spam\n"
     ]
    }
   ],
   "source": [
    "if 0:\n",
    "    print(0)\n",
    "elif \"spam\":\n",
    "    print(\"spam\")"
   ]
  },
  {
   "cell_type": "markdown",
   "id": "0df1cb99",
   "metadata": {},
   "source": [
    "# Ваша очередь\n",
    "Вы, вероятно, не осознаете, как много вы уже узнали. Попробуйте решить практические задачи по кодированию, и вы будете приятно удивлены тем, как много вы можете сделать."
   ]
  }
 ],
 "metadata": {
  "kernelspec": {
   "display_name": "Python 3 (ipykernel)",
   "language": "python",
   "name": "python3"
  },
  "language_info": {
   "codemirror_mode": {
    "name": "ipython",
    "version": 3
   },
   "file_extension": ".py",
   "mimetype": "text/x-python",
   "name": "python",
   "nbconvert_exporter": "python",
   "pygments_lexer": "ipython3",
   "version": "3.9.12"
  }
 },
 "nbformat": 4,
 "nbformat_minor": 5
}
