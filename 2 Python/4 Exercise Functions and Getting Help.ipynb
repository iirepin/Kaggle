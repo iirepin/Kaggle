{
 "cells": [
  {
   "cell_type": "markdown",
   "id": "836d6c50",
   "metadata": {},
   "source": [
    "Функции — это мощно. Попробуйте написать их самостоятельно.\n",
    "\n",
    "Как и прежде, не забудьте запустить код настройки ниже, прежде чем перейти к вопросу 1."
   ]
  },
  {
   "cell_type": "markdown",
   "id": "42863fb1",
   "metadata": {},
   "source": [
    "# 1.\n",
    "\n",
    "Завершите тело следующей функции в соответствии с ее строкой документации.\n",
    "\n",
    "ПОДСКАЗКА: в Python есть встроенная функция round."
   ]
  },
  {
   "cell_type": "code",
   "execution_count": 1,
   "id": "a6f1bb92",
   "metadata": {},
   "outputs": [],
   "source": [
    "def round_to_two_places(num):\n",
    "    \"\"\"Вернуть заданное число, округленное до двух знаков после запятой.\n",
    "\n",
    ">>> round_to_two_places(3.14159)\n",
    "3.14\n",
    "    \"\"\"\n",
    "    # Замените это тело собственным кодом.\n",
    "    # (\"pass\" — это ключевое слово, которое буквально ничего не делает. Мы использовали его в качестве заполнителя\n",
    "    # потому что после того, как мы начинаем блок кода, Python требует как минимум одну строку кода)\n",
    "    pass\n",
    "    return round(num, 2)"
   ]
  },
  {
   "cell_type": "code",
   "execution_count": 2,
   "id": "7158f960",
   "metadata": {},
   "outputs": [
    {
     "data": {
      "text/plain": [
       "3.14"
      ]
     },
     "execution_count": 2,
     "metadata": {},
     "output_type": "execute_result"
    }
   ],
   "source": [
    "round_to_two_places(3.14159)"
   ]
  },
  {
   "cell_type": "markdown",
   "id": "9e3f207c",
   "metadata": {},
   "source": [
    "# 2.\n",
    "\n",
    "Справка по round говорит, что ndigits (второй аргумент) может быть отрицательным. Как вы думаете, что произойдет, если это так? Попробуйте привести несколько примеров в следующей ячейке."
   ]
  },
  {
   "cell_type": "code",
   "execution_count": 11,
   "id": "36c20b01",
   "metadata": {},
   "outputs": [
    {
     "name": "stdout",
     "output_type": "stream",
     "text": [
      "110.0\n",
      "0.0\n"
     ]
    }
   ],
   "source": [
    "print(round(106.345, -1))\n",
    "print(round(123.1234, -45))"
   ]
  },
  {
   "cell_type": "markdown",
   "id": "099c543d",
   "metadata": {},
   "source": [
    "Можете ли вы придумать случай, когда это было бы полезно? Когда будете готовы, запустите кодовую ячейку ниже, чтобы увидеть ответ и получить баллы за решение задачи."
   ]
  },
  {
   "cell_type": "markdown",
   "id": "1cb0f455",
   "metadata": {},
   "source": [
    "Решение: Как вы видели, ndigits=-1 округляет до ближайших 10, ndigits=-2 округляет до ближайших 100 и так далее. Где это может быть полезно? Предположим, мы имеем дело с большими числами:\n",
    "\n",
    "Площадь Финляндии составляет 338 424 км²\n",
    "Площадь Гренландии составляет 2 166 086 км²\n",
    "\n",
    "Нам, вероятно, все равно, действительно ли это 338 424, или 338 425, или 338 177. Все эти цифры точности просто отвлекают. Мы можем отсечь их, вызвав round() с ndigits=-3:\n",
    "\n",
    "Площадь Финляндии составляет 338 000 км²\n",
    "Площадь Гренландии составляет 2 166 000 км²\n",
    "\n",
    "(Мы поговорим о том, как получить запятые позже, когда будем говорить о форматировании строк :))"
   ]
  },
  {
   "cell_type": "markdown",
   "id": "5e61cd14",
   "metadata": {},
   "source": [
    "# 3.\n",
    "\n",
    "В предыдущем упражнении друзья, делящиеся конфетами, Алиса, Боб и Кэрол, пытались разделить конфеты поровну. Ради их дружбы все оставшиеся конфеты будут разбиты. Например, если они вместе принесут домой 91 конфету, они возьмут по 30 и разобьют 1.\n",
    "\n",
    "Ниже приведена простая функция, которая вычислит количество конфет, которые нужно разбить, для любого общего количества конфет.\n",
    "\n",
    "Измените ее так, чтобы она опционально принимала второй аргумент, представляющий количество друзей, между которыми делятся конфеты. Если второй аргумент не указан, она должна предполагать 3 друзей, как и раньше.\n",
    "\n",
    "Обновите строку документации, чтобы отразить это новое поведение."
   ]
  },
  {
   "cell_type": "code",
   "execution_count": 20,
   "id": "196b776c",
   "metadata": {},
   "outputs": [],
   "source": [
    "def to_smash(total_candies, num_people = 3):\n",
    "    \"\"\"Вернуть количество оставшихся конфет, которые необходимо разбить после распределения\n",
    "заданного количества конфет поровну между 3 друзьями.\n",
    "\n",
    ">>> to_smash(91)\n",
    "1\n",
    "    \"\"\"\n",
    "    return total_candies % num_people\n"
   ]
  },
  {
   "cell_type": "code",
   "execution_count": 24,
   "id": "e0cc6b6c",
   "metadata": {},
   "outputs": [
    {
     "data": {
      "text/plain": [
       "5"
      ]
     },
     "execution_count": 24,
     "metadata": {},
     "output_type": "execute_result"
    }
   ],
   "source": [
    "to_smash(35, 6)"
   ]
  },
  {
   "cell_type": "markdown",
   "id": "482ab0b7",
   "metadata": {},
   "source": [
    "# 4. (Необязательно)\n",
    "\n",
    "Это может быть не весело, но чтение и понимание сообщений об ошибках станет важной частью вашей карьеры Python.\n",
    "\n",
    "Каждая ячейка кода ниже содержит некоторый закомментированный ошибочный код. Для каждой ячейки...\n",
    "\n",
    "Прочитайте код и предскажите, что, по вашему мнению, произойдет при его запуске.\n",
    "Затем раскомментируйте код и запустите его, чтобы посмотреть, что произойдет. (Совет: в редакторе ядра вы можете выделить несколько строк и нажать ctrl+/, чтобы переключить комментирование.)\n",
    "Исправьте код (чтобы он выполнял свое предназначение, не выдавая исключения)"
   ]
  },
  {
   "cell_type": "code",
   "execution_count": 26,
   "id": "63acb68f",
   "metadata": {},
   "outputs": [
    {
     "ename": "NameError",
     "evalue": "name 'ruound_to_two_places' is not defined",
     "output_type": "error",
     "traceback": [
      "\u001b[0;31m---------------------------------------------------------------------------\u001b[0m",
      "\u001b[0;31mNameError\u001b[0m                                 Traceback (most recent call last)",
      "Input \u001b[0;32mIn [26]\u001b[0m, in \u001b[0;36m<cell line: 1>\u001b[0;34m()\u001b[0m\n\u001b[0;32m----> 1\u001b[0m \u001b[43mruound_to_two_places\u001b[49m(\u001b[38;5;241m9.9999\u001b[39m)\n",
      "\u001b[0;31mNameError\u001b[0m: name 'ruound_to_two_places' is not defined"
     ]
    }
   ],
   "source": [
    "ruound_to_two_places(9.9999)"
   ]
  },
  {
   "cell_type": "code",
   "execution_count": 27,
   "id": "388930ab",
   "metadata": {},
   "outputs": [
    {
     "data": {
      "text/plain": [
       "10.0"
      ]
     },
     "execution_count": 27,
     "metadata": {},
     "output_type": "execute_result"
    }
   ],
   "source": [
    "round_to_two_places(9.9999)"
   ]
  },
  {
   "cell_type": "code",
   "execution_count": 28,
   "id": "46b4c601",
   "metadata": {},
   "outputs": [
    {
     "ename": "TypeError",
     "evalue": "abs() takes exactly one argument (2 given)",
     "output_type": "error",
     "traceback": [
      "\u001b[0;31m---------------------------------------------------------------------------\u001b[0m",
      "\u001b[0;31mTypeError\u001b[0m                                 Traceback (most recent call last)",
      "Input \u001b[0;32mIn [28]\u001b[0m, in \u001b[0;36m<cell line: 4>\u001b[0;34m()\u001b[0m\n\u001b[1;32m      2\u001b[0m y \u001b[38;5;241m=\u001b[39m \u001b[38;5;241m5\u001b[39m\n\u001b[1;32m      3\u001b[0m \u001b[38;5;66;03m# Какая из двух приведенных выше переменных имеет наименьшее абсолютное значение?\u001b[39;00m\n\u001b[0;32m----> 4\u001b[0m smallest_abs \u001b[38;5;241m=\u001b[39m \u001b[38;5;28mmin\u001b[39m(\u001b[38;5;28;43mabs\u001b[39;49m\u001b[43m(\u001b[49m\u001b[43mx\u001b[49m\u001b[43m,\u001b[49m\u001b[43m \u001b[49m\u001b[43my\u001b[49m\u001b[43m)\u001b[49m)\n",
      "\u001b[0;31mTypeError\u001b[0m: abs() takes exactly one argument (2 given)"
     ]
    }
   ],
   "source": [
    "x = -10\n",
    "y = 5\n",
    "# Какая из двух приведенных выше переменных имеет наименьшее абсолютное значение?\n",
    "smallest_abs = min(abs(x, y))"
   ]
  },
  {
   "cell_type": "code",
   "execution_count": 30,
   "id": "2b3fdde8",
   "metadata": {},
   "outputs": [
    {
     "name": "stdout",
     "output_type": "stream",
     "text": [
      "5\n"
     ]
    }
   ],
   "source": [
    "x = -10\n",
    "y = 5\n",
    "# Какая из двух приведенных выше переменных имеет наименьшее абсолютное значение?\n",
    "smallest_abs = min(abs(x),  abs(y))\n",
    "print(smallest_abs)"
   ]
  },
  {
   "cell_type": "code",
   "execution_count": 32,
   "id": "b4836f2a",
   "metadata": {},
   "outputs": [
    {
     "ename": "IndentationError",
     "evalue": "unindent does not match any outer indentation level (<tokenize>, line 3)",
     "output_type": "error",
     "traceback": [
      "\u001b[0;36m  File \u001b[0;32m<tokenize>:3\u001b[0;36m\u001b[0m\n\u001b[0;31m    return y\u001b[0m\n\u001b[0m    ^\u001b[0m\n\u001b[0;31mIndentationError\u001b[0m\u001b[0;31m:\u001b[0m unindent does not match any outer indentation level\n"
     ]
    }
   ],
   "source": [
    "def f(x):\n",
    "     y = abs(x)\n",
    " return y\n",
    "\n",
    "print(f(5))"
   ]
  },
  {
   "cell_type": "code",
   "execution_count": 33,
   "id": "de6e8bb9",
   "metadata": {},
   "outputs": [
    {
     "name": "stdout",
     "output_type": "stream",
     "text": [
      "5\n"
     ]
    }
   ],
   "source": [
    "def f(x):\n",
    "    y = abs(x)\n",
    "    return y\n",
    "\n",
    "print(f(5))"
   ]
  },
  {
   "cell_type": "markdown",
   "id": "6601158b",
   "metadata": {},
   "source": [
    "# Продолжайте\n",
    "\n",
    "Хорошая работа с кодом. Далее вы узнаете об условных операторах, которые вам понадобятся для написания интересных программ."
   ]
  }
 ],
 "metadata": {
  "kernelspec": {
   "display_name": "Python 3 (ipykernel)",
   "language": "python",
   "name": "python3"
  },
  "language_info": {
   "codemirror_mode": {
    "name": "ipython",
    "version": 3
   },
   "file_extension": ".py",
   "mimetype": "text/x-python",
   "name": "python",
   "nbconvert_exporter": "python",
   "pygments_lexer": "ipython3",
   "version": "3.9.12"
  }
 },
 "nbformat": 4,
 "nbformat_minor": 5
}
