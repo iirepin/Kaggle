{
 "cells": [
  {
   "cell_type": "markdown",
   "id": "a3268638",
   "metadata": {},
   "source": [
    "Циклы For и while, а также столь любимая функция Python: понимание списков"
   ]
  },
  {
   "cell_type": "markdown",
   "id": "2577822b",
   "metadata": {},
   "source": [
    "# Петли¶\n",
    "Циклы - это способ многократного выполнения некоторого кода. Вот пример:"
   ]
  },
  {
   "cell_type": "code",
   "execution_count": 1,
   "id": "02ace347",
   "metadata": {},
   "outputs": [
    {
     "name": "stdout",
     "output_type": "stream",
     "text": [
      "Mercury Venus Earth Mars Jupiter Saturn Uranus Neptune "
     ]
    }
   ],
   "source": [
    "planets = ['Mercury', 'Venus', 'Earth', 'Mars', 'Jupiter', 'Saturn', 'Uranus', 'Neptune']\n",
    "for planet in planets:\n",
    "    print(planet, end=' ') # напечатать все в одной строке"
   ]
  },
  {
   "cell_type": "markdown",
   "id": "36da67b3",
   "metadata": {},
   "source": [
    "Цикл for определяет\n",
    "\n",
    "имя используемой переменной (в данном случае planet)\n",
    "и набор значений, по которым выполняется цикл (в данном случае planets)\n",
    "Вы используете слово \"in\", чтобы связать их вместе.\n",
    "\n",
    "Объектом справа от \"in\" может быть любой объект, поддерживающий итерацию. В принципе, если его можно рассматривать как группу объектов, вы, вероятно, можете выполнить цикл по нему. В дополнение к спискам, мы можем выполнить итерацию по элементам кортежа:"
   ]
  },
  {
   "cell_type": "code",
   "execution_count": 2,
   "id": "dfa32166",
   "metadata": {},
   "outputs": [
    {
     "data": {
      "text/plain": [
       "360"
      ]
     },
     "execution_count": 2,
     "metadata": {},
     "output_type": "execute_result"
    }
   ],
   "source": [
    "multiplicands = (2, 2, 2, 3, 3, 5)\n",
    "product = 1\n",
    "for mult in multiplicands:\n",
    "    product = product * mult\n",
    "product"
   ]
  },
  {
   "cell_type": "markdown",
   "id": "8b69d38d",
   "metadata": {},
   "source": [
    "Вы даже можете перебирать каждый символ в строке:"
   ]
  },
  {
   "cell_type": "code",
   "execution_count": 3,
   "id": "9a528cd4",
   "metadata": {},
   "outputs": [
    {
     "name": "stdout",
     "output_type": "stream",
     "text": [
      "HELLO"
     ]
    }
   ],
   "source": [
    "s = 'steganograpHy is the practicE of conceaLing a file, message, image, or video within another fiLe, message, image, Or video.'\n",
    "msg = ''\n",
    "# выведите все заглавные буквы s по одной за раз.\n",
    "for char in s:\n",
    "    if char.isupper():\n",
    "        print(char, end='')"
   ]
  },
  {
   "cell_type": "markdown",
   "id": "a52205f4",
   "metadata": {},
   "source": [
    "range()¶\n",
    "\n",
    "range() - это функция, которая возвращает последовательность чисел. Она оказывается очень полезной для написания циклов.\n",
    "\n",
    "Например, если мы хотим повторить какое-то действие 5 раз:"
   ]
  },
  {
   "cell_type": "code",
   "execution_count": 4,
   "id": "1f3ac65e",
   "metadata": {},
   "outputs": [
    {
     "name": "stdout",
     "output_type": "stream",
     "text": [
      "Doing important work. i = 0\n",
      "Doing important work. i = 1\n",
      "Doing important work. i = 2\n",
      "Doing important work. i = 3\n",
      "Doing important work. i = 4\n"
     ]
    }
   ],
   "source": [
    "for i in range(5):\n",
    "    print(\"Doing important work. i =\", i)"
   ]
  },
  {
   "cell_type": "markdown",
   "id": "ff4db453",
   "metadata": {},
   "source": [
    "циклы while\n",
    "Другой тип цикла в Python - это цикл while, который повторяется до тех пор, пока не будет выполнено какое-либо условие:"
   ]
  },
  {
   "cell_type": "code",
   "execution_count": 5,
   "id": "52a661db",
   "metadata": {},
   "outputs": [
    {
     "name": "stdout",
     "output_type": "stream",
     "text": [
      "0 1 2 3 4 5 6 7 8 9 "
     ]
    }
   ],
   "source": [
    "i = 0\n",
    "while i < 10:\n",
    "    print(i, end=' ')\n",
    "    i += 1 # увеличьте значение i на 1"
   ]
  },
  {
   "cell_type": "markdown",
   "id": "b3fdcc15",
   "metadata": {},
   "source": [
    "Аргумент цикла while вычисляется как логический оператор, и цикл выполняется до тех пор, пока оператор не примет значение False."
   ]
  },
  {
   "cell_type": "markdown",
   "id": "eeae843d",
   "metadata": {},
   "source": [
    "# Использование списков¶\n",
    "Использование списков - одна из самых любимых и уникальных функций Python. Самый простой способ разобраться в них - это, вероятно, просто взглянуть на несколько примеров:"
   ]
  },
  {
   "cell_type": "code",
   "execution_count": 6,
   "id": "0ede17bf",
   "metadata": {},
   "outputs": [
    {
     "data": {
      "text/plain": [
       "[0, 1, 4, 9, 16, 25, 36, 49, 64, 81]"
      ]
     },
     "execution_count": 6,
     "metadata": {},
     "output_type": "execute_result"
    }
   ],
   "source": [
    "squares = [n**2 for n in range(10)]\n",
    "squares"
   ]
  },
  {
   "cell_type": "markdown",
   "id": "f0a65832",
   "metadata": {},
   "source": [
    "Вот как мы могли бы сделать то же самое без понимания списка:"
   ]
  },
  {
   "cell_type": "code",
   "execution_count": 7,
   "id": "312c4985",
   "metadata": {},
   "outputs": [
    {
     "data": {
      "text/plain": [
       "[0, 1, 4, 9, 16, 25, 36, 49, 64, 81]"
      ]
     },
     "execution_count": 7,
     "metadata": {},
     "output_type": "execute_result"
    }
   ],
   "source": [
    "squares = []\n",
    "for n in range(10):\n",
    "    squares.append(n**2)\n",
    "squares"
   ]
  },
  {
   "cell_type": "markdown",
   "id": "ee7c5f96",
   "metadata": {},
   "source": [
    "Мы также можем добавить условие if:"
   ]
  },
  {
   "cell_type": "code",
   "execution_count": 8,
   "id": "472c4222",
   "metadata": {},
   "outputs": [
    {
     "data": {
      "text/plain": [
       "['Venus', 'Earth', 'Mars']"
      ]
     },
     "execution_count": 8,
     "metadata": {},
     "output_type": "execute_result"
    }
   ],
   "source": [
    "short_planets = [planet for planet in planets if len(planet) < 6]\n",
    "short_planets"
   ]
  },
  {
   "cell_type": "markdown",
   "id": "59be7d9a",
   "metadata": {},
   "source": [
    "(Если вы знакомы с SQL, вы можете подумать, что это что-то вроде предложения \"WHERE\")\n",
    "\n",
    "Вот пример фильтрации с условием if и применения некоторого преобразования к переменной цикла:"
   ]
  },
  {
   "cell_type": "code",
   "execution_count": 9,
   "id": "b78df0b6",
   "metadata": {},
   "outputs": [
    {
     "data": {
      "text/plain": [
       "['VENUS!', 'EARTH!', 'MARS!']"
      ]
     },
     "execution_count": 9,
     "metadata": {},
     "output_type": "execute_result"
    }
   ],
   "source": [
    "# str.upper() возвращает строку, содержащую все заглавные буквы\n",
    "loud_short_planets = [planet.upper() + '!' for planet in planets if len(planet) < 6]\n",
    "loud_short_planets"
   ]
  },
  {
   "cell_type": "markdown",
   "id": "1e0487f5",
   "metadata": {},
   "source": [
    "Обычно люди пишут это в одной строке, но, возможно, структура будет более понятной, если разбить ее на 3 строки:"
   ]
  },
  {
   "cell_type": "code",
   "execution_count": 10,
   "id": "46780824",
   "metadata": {},
   "outputs": [
    {
     "data": {
      "text/plain": [
       "['VENUS!', 'EARTH!', 'MARS!']"
      ]
     },
     "execution_count": 10,
     "metadata": {},
     "output_type": "execute_result"
    }
   ],
   "source": [
    "[\n",
    "    planet.upper() + '!' \n",
    "    for planet in planets \n",
    "    if len(planet) < 6\n",
    "]"
   ]
  },
  {
   "cell_type": "markdown",
   "id": "909a3d32",
   "metadata": {},
   "source": [
    "(Продолжая аналогию с SQL, вы могли бы представить эти три строки как SELECT, FROM и WHERE)\n",
    "\n",
    "Выражение слева технически не обязательно должно включать переменную цикла (хотя было бы довольно необычно, если бы этого не было). Как вы думаете, к чему приведет приведенное ниже выражение? Нажмите кнопку \"Вывод\" для проверки."
   ]
  },
  {
   "cell_type": "code",
   "execution_count": 11,
   "id": "c0afba79",
   "metadata": {},
   "outputs": [
    {
     "data": {
      "text/plain": [
       "[32, 32, 32, 32, 32, 32, 32, 32]"
      ]
     },
     "execution_count": 11,
     "metadata": {},
     "output_type": "execute_result"
    }
   ],
   "source": [
    "[32 for planet in planets]"
   ]
  },
  {
   "cell_type": "markdown",
   "id": "26e519bc",
   "metadata": {},
   "source": [
    "Использование списков в сочетании с такими функциями, как min, max и sum, может привести к впечатляющим однострочным решениям задач, для решения которых в противном случае потребовалось бы несколько строк кода.\n",
    "\n",
    "Например, сравните следующие две ячейки кода, которые выполняют одно и то же действие."
   ]
  },
  {
   "cell_type": "code",
   "execution_count": null,
   "id": "ca1a4813",
   "metadata": {},
   "outputs": [],
   "source": [
    "def count_negatives(nums):\n",
    "    \"\"\"Возвращает количество отрицательных чисел в заданном списке.\n",
    "    \n",
    "    >>> count_negatives([5, -1, -2, 0, 3])\n",
    "    2\n",
    "    \"\"\"\n",
    "    n_negative = 0\n",
    "    for num in nums:\n",
    "        if num < 0:\n",
    "            n_negative = n_negative + 1\n",
    "    return n_negative"
   ]
  },
  {
   "cell_type": "markdown",
   "id": "260c0311",
   "metadata": {},
   "source": [
    "Вот решение, использующее понимание списка:"
   ]
  },
  {
   "cell_type": "code",
   "execution_count": 12,
   "id": "f1d0cc7f",
   "metadata": {},
   "outputs": [],
   "source": [
    "def count_negatives(nums):\n",
    "    return len([num for num in nums if num < 0])"
   ]
  },
  {
   "cell_type": "markdown",
   "id": "a9cea7e2",
   "metadata": {},
   "source": [
    "Намного лучше, не так ли?\n",
    "\n",
    "Что ж, если все, о чем мы заботимся, - это минимизация длины нашего кода, то это третье решение еще лучше!"
   ]
  },
  {
   "cell_type": "code",
   "execution_count": null,
   "id": "09962dc2",
   "metadata": {},
   "outputs": [],
   "source": [
    "def count_negatives(nums):\n",
    "    # Напоминаю: в упражнениях \"Логические значения и условные выражения\" мы узнали об одной особенности \n",
    "    # Python, когда он вычисляет что-то вроде True + Истина + Ложь + Истина, равное 3.\n",
    "    return sum([num < 0 for num in nums])"
   ]
  },
  {
   "cell_type": "markdown",
   "id": "d068a7e5",
   "metadata": {},
   "source": [
    "То, какое из этих решений является \"лучшим\", полностью субъективно. Решение проблемы с меньшим количеством кода всегда приятно, но стоит помнить о следующих строках из \"Дзен Питона\":\n",
    "\n",
    "Важна читабельность.\n",
    "Явное решение лучше неявного.\n",
    "Итак, используйте эти инструменты для создания компактных читаемых программ. Но когда вам придется выбирать, отдавайте предпочтение тому коду, который легко понять другим."
   ]
  },
  {
   "cell_type": "markdown",
   "id": "a45ea8e1",
   "metadata": {},
   "source": [
    "# ваш ход\n",
    "Вы знаете, что будет дальше - у нас есть для вас несколько увлекательных заданий по программированию! Следующий набор заданий по программированию короче, так что попробуйте прямо сейчас."
   ]
  }
 ],
 "metadata": {
  "kernelspec": {
   "display_name": "Python 3 (ipykernel)",
   "language": "python",
   "name": "python3"
  },
  "language_info": {
   "codemirror_mode": {
    "name": "ipython",
    "version": 3
   },
   "file_extension": ".py",
   "mimetype": "text/x-python",
   "name": "python",
   "nbconvert_exporter": "python",
   "pygments_lexer": "ipython3",
   "version": "3.9.12"
  }
 },
 "nbformat": 4,
 "nbformat_minor": 5
}
