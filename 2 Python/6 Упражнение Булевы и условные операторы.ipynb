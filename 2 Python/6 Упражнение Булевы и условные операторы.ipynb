{
 "cells": [
  {
   "cell_type": "markdown",
   "id": "9fd84412",
   "metadata": {},
   "source": [
    "В этом упражнении вы примените на практике то, что вы узнали о логических значениях и условных операторах.\n",
    "\n",
    "Для начала запустите код настройки ниже, прежде чем писать свой собственный код (и если вы покинете этот блокнот и вернетесь позже, не забудьте снова запустить код настройки)."
   ]
  },
  {
   "cell_type": "markdown",
   "id": "21133234",
   "metadata": {},
   "source": [
    "# 1.\n",
    "\n",
    "Во многих языках программирования sign доступен как встроенная функция. В Python его нет, но мы можем определить свой собственный!\n",
    "\n",
    "В ячейке ниже определите функцию sign, которая принимает числовой аргумент и возвращает -1, если он отрицательный, 1, если он положительный, и 0, если он равен 0."
   ]
  },
  {
   "cell_type": "code",
   "execution_count": 7,
   "id": "fdb45723",
   "metadata": {},
   "outputs": [],
   "source": [
    "# Ваш код здесь. Определите функцию с именем 'sign'\n",
    "def sign(num):\n",
    "    if num > 0:\n",
    "        return 1\n",
    "    elif num == 0:\n",
    "        return 0\n",
    "    else:\n",
    "        return -1"
   ]
  },
  {
   "cell_type": "code",
   "execution_count": 6,
   "id": "f3d6b743",
   "metadata": {},
   "outputs": [
    {
     "name": "stdout",
     "output_type": "stream",
     "text": [
      "0\n"
     ]
    }
   ],
   "source": [
    "sign(0)"
   ]
  },
  {
   "cell_type": "markdown",
   "id": "f7490690",
   "metadata": {},
   "source": [
    "# 2.\n",
    "\n",
    "Мы решили добавить «логирование» в нашу функцию to_smash из предыдущего упражнения."
   ]
  },
  {
   "cell_type": "code",
   "execution_count": 12,
   "id": "f6c6c28f",
   "metadata": {},
   "outputs": [
    {
     "name": "stdout",
     "output_type": "stream",
     "text": [
      "Splitting 91 candies\n"
     ]
    },
    {
     "data": {
      "text/plain": [
       "1"
      ]
     },
     "execution_count": 12,
     "metadata": {},
     "output_type": "execute_result"
    }
   ],
   "source": [
    "def to_smash(total_candies):\n",
    "    \"\"\"Верните количество оставшихся конфет, которые необходимо разбить после распределения заданного количества \n",
    "    конфет поровну между 3 друзьями.\n",
    "    \n",
    "    >>> to_smash(91)\n",
    "    1\n",
    "    \"\"\"\n",
    "    print(\"Splitting\", total_candies, \"candies\")\n",
    "    return total_candies % 3\n",
    "\n",
    "to_smash(91)"
   ]
  },
  {
   "cell_type": "code",
   "execution_count": 13,
   "id": "b16d9d4a",
   "metadata": {},
   "outputs": [
    {
     "name": "stdout",
     "output_type": "stream",
     "text": [
      "Splitting 1 candies\n"
     ]
    },
    {
     "data": {
      "text/plain": [
       "1"
      ]
     },
     "execution_count": 13,
     "metadata": {},
     "output_type": "execute_result"
    }
   ],
   "source": [
    "to_smash(1)"
   ]
  },
  {
   "cell_type": "markdown",
   "id": "2b272e8d",
   "metadata": {},
   "source": [
    "Что произойдет, если мы вызовем его с total_candies = 1?"
   ]
  },
  {
   "cell_type": "markdown",
   "id": "614d0a74",
   "metadata": {},
   "source": [
    "Это не очень хорошая грамматика!\n",
    "\n",
    "Измените определение в ячейке ниже, чтобы исправить грамматику нашего оператора печати. ​​(Если есть только одна конфета, мы должны использовать единственное число «конфета» вместо множественного числа «конфеты»)"
   ]
  },
  {
   "cell_type": "code",
   "execution_count": 15,
   "id": "57cfdabc",
   "metadata": {},
   "outputs": [
    {
     "name": "stdout",
     "output_type": "stream",
     "text": [
      "Splitting 91 candies\n",
      "Splitting 1 candy\n"
     ]
    },
    {
     "data": {
      "text/plain": [
       "1"
      ]
     },
     "execution_count": 15,
     "metadata": {},
     "output_type": "execute_result"
    }
   ],
   "source": [
    "def to_smash(total_candies):\n",
    "    \"\"\"Верните количество оставшихся конфет, которые необходимо разбить после распределения заданного количества \n",
    "    конфет поровну между 3 друзьями.\n",
    "    \n",
    "    >>> to_smash(91)\n",
    "    1\n",
    "    \"\"\"\n",
    "    if total_candies == 1:\n",
    "        print(\"Splitting\", total_candies, \"candy\")\n",
    "    else:\n",
    "        print(\"Splitting\", total_candies, \"candies\")\n",
    "    return total_candies % 3\n",
    "\n",
    "to_smash(91)\n",
    "to_smash(1)"
   ]
  },
  {
   "cell_type": "markdown",
   "id": "35afb028",
   "metadata": {},
   "source": [
    "Чтобы получить баллы за решение этой задачи и увидеть официальный ответ, запустите кодовую ячейку ниже."
   ]
  },
  {
   "cell_type": "markdown",
   "id": "a1832f5a",
   "metadata": {},
   "source": [
    "Решение: Простое (и совершенно нормальное) решение — заменить исходный вызов print на:"
   ]
  },
  {
   "cell_type": "code",
   "execution_count": 16,
   "id": "782a0e43",
   "metadata": {},
   "outputs": [
    {
     "ename": "NameError",
     "evalue": "name 'total_candies' is not defined",
     "output_type": "error",
     "traceback": [
      "\u001b[0;31m---------------------------------------------------------------------------\u001b[0m",
      "\u001b[0;31mNameError\u001b[0m                                 Traceback (most recent call last)",
      "Input \u001b[0;32mIn [16]\u001b[0m, in \u001b[0;36m<cell line: 1>\u001b[0;34m()\u001b[0m\n\u001b[0;32m----> 1\u001b[0m \u001b[38;5;28;01mif\u001b[39;00m \u001b[43mtotal_candies\u001b[49m \u001b[38;5;241m==\u001b[39m \u001b[38;5;241m1\u001b[39m:\n\u001b[1;32m      2\u001b[0m     \u001b[38;5;28mprint\u001b[39m(\u001b[38;5;124m\"\u001b[39m\u001b[38;5;124mSplitting 1 candy\u001b[39m\u001b[38;5;124m\"\u001b[39m)\n\u001b[1;32m      3\u001b[0m \u001b[38;5;28;01melse\u001b[39;00m:\n",
      "\u001b[0;31mNameError\u001b[0m: name 'total_candies' is not defined"
     ]
    }
   ],
   "source": [
    "if total_candies == 1:\n",
    "    print(\"Splitting 1 candy\")\n",
    "else:\n",
    "    print(\"Splitting\", total_candies, \"candies\")"
   ]
  },
  {
   "cell_type": "markdown",
   "id": "c1c42a6d",
   "metadata": {},
   "source": [
    "Вот немного более лаконичное решение с использованием условного выражения:\n",
    "\n",
    "print(\"Разделение\", total_candies, \"конфета\" if total_candies == 1 else \"конфеты\")"
   ]
  },
  {
   "cell_type": "markdown",
   "id": "14807274",
   "metadata": {},
   "source": [
    "# 3. 🌶️\n",
    "\n",
    "В уроке мы говорили о том, как решить, готовы ли мы к погоде. Я сказал, что я в безопасности от сегодняшней погоды, если...\n",
    "\n",
    "У меня есть зонтик...\n",
    "или если дождь не слишком сильный и у меня есть капюшон...\n",
    "в противном случае я все еще в порядке, если только не идет дождь и это рабочий день\n",
    "Функция ниже использует нашу первую попытку превратить эту логику в выражение Python. Я утверждал, что в этом коде была ошибка. Сможете ли вы ее найти?\n",
    "\n",
    "Чтобы доказать, что preparation_for_weather содержит ошибку, придумайте набор входных данных, где либо:\n",
    "\n",
    "функция возвращает False (но должна была вернуть True), либо\n",
    "функция возвращает True (но должна была вернуть False).\n",
    "Чтобы получить баллы за выполнение этого вопроса, ваш код должен возвращать правильный результат."
   ]
  },
  {
   "cell_type": "code",
   "execution_count": 40,
   "id": "033b30bb",
   "metadata": {},
   "outputs": [
    {
     "name": "stdout",
     "output_type": "stream",
     "text": [
      "False\n"
     ]
    }
   ],
   "source": [
    "def prepared_for_weather(have_umbrella, rain_level, have_hood, is_workday):\n",
    "    # Не меняйте этот код. Наша цель — просто найти ошибку, а не исправить ее!\n",
    "    return have_umbrella or rain_level < 5 and have_hood or not rain_level > 0 and is_workday\n",
    "\n",
    "# Измените значения этих входных данных так, чтобы они представляли случай, когда Prepared_for_Weather\n",
    "# возвращает неправильный ответ.\n",
    "have_umbrella = False\n",
    "rain_level = 0.0\n",
    "have_hood = False\n",
    "is_workday = True\n",
    "\n",
    "# Проверьте, что возвращает функция, учитывая текущие значения переменных выше\n",
    "actual = prepared_for_weather(have_umbrella, rain_level, have_hood, is_workday)\n",
    "print(actual)\n"
   ]
  },
  {
   "cell_type": "markdown",
   "id": "efc7f52b",
   "metadata": {},
   "source": [
    "Правильный:\n",
    "\n",
    "Одним из примеров неудачного теста является:"
   ]
  },
  {
   "cell_type": "code",
   "execution_count": null,
   "id": "ef2dbab7",
   "metadata": {},
   "outputs": [],
   "source": [
    "have_umbrella = False\n",
    "rain_level = 0.0\n",
    "have_hood = False\n",
    "is_workday = False"
   ]
  },
  {
   "cell_type": "markdown",
   "id": "3a85c88f",
   "metadata": {},
   "source": [
    "Очевидно, что в этом случае мы готовы к погодным условиям. Дождя нет. Более того, сегодня не рабочий день, поэтому нам даже не нужно выходить из дома! Но наша функция вернет значение False на этих входных данных.\n",
    "\n",
    "Ключевая проблема заключается в том, что Python неявно заключил последнюю часть в круглые скобки следующим образом:"
   ]
  },
  {
   "cell_type": "code",
   "execution_count": null,
   "id": "3b38d2fb",
   "metadata": {},
   "outputs": [],
   "source": [
    "(not (rain_level > 0)) and is_workday"
   ]
  },
  {
   "cell_type": "markdown",
   "id": "f397323d",
   "metadata": {},
   "source": [
    "В то время как то, что мы пытались выразить, больше походило бы на:"
   ]
  },
  {
   "cell_type": "code",
   "execution_count": null,
   "id": "f629a967",
   "metadata": {},
   "outputs": [],
   "source": [
    "not (rain_level > 0 and is_workday)"
   ]
  },
  {
   "cell_type": "markdown",
   "id": "43c6efaa",
   "metadata": {},
   "source": [
    "# 4.\n",
    "\n",
    "Функция is_negative ниже реализована правильно — она возвращает True, если заданное число отрицательное, и False в противном случае.\n",
    "\n",
    "Однако она более многословна, чем нужно. На самом деле мы можем сократить количество строк кода в этой функции на 75%, сохранив при этом то же поведение.\n",
    "\n",
    "Попробуйте придумать эквивалентное тело, которое использует всего одну строку кода, и поместить его в функцию concise_is_negative. (ПОДСКАЗКА: вам даже не нужен тернарный синтаксис Python)"
   ]
  },
  {
   "cell_type": "code",
   "execution_count": 21,
   "id": "3c6c9ac6",
   "metadata": {},
   "outputs": [
    {
     "data": {
      "text/plain": [
       "False"
      ]
     },
     "execution_count": 21,
     "metadata": {},
     "output_type": "execute_result"
    }
   ],
   "source": [
    "def is_negative(number):\n",
    "    if number < 0:\n",
    "        return True\n",
    "    else:\n",
    "        return False\n",
    "\n",
    "def concise_is_negative(number):\n",
    "    pass # Ваш код будет здесь (постарайтесь уместить его в одну строку!)\n",
    "    return number < 0\n",
    "concise_is_negative(1)"
   ]
  },
  {
   "cell_type": "markdown",
   "id": "4f2243f1",
   "metadata": {},
   "source": [
    "# 5a.\n",
    "\n",
    "Булевы переменные кетчуп, горчица и лук представляют, хочет ли клиент определенную начинку для своего хот-дога. Мы хотим реализовать ряд булевых функций, которые соответствуют некоторым вопросам «да» или «нет» о заказе клиента. Например:"
   ]
  },
  {
   "cell_type": "code",
   "execution_count": null,
   "id": "af1c921e",
   "metadata": {},
   "outputs": [],
   "source": [
    "def onionless(ketchup, mustard, onion):\n",
    "    \"\"\"Верните, если клиент не хочет лук.\n",
    "    \"\"\"\n",
    "    return not onion"
   ]
  },
  {
   "cell_type": "code",
   "execution_count": 29,
   "id": "17a482bd",
   "metadata": {},
   "outputs": [
    {
     "data": {
      "text/plain": [
       "True"
      ]
     },
     "execution_count": 29,
     "metadata": {},
     "output_type": "execute_result"
    }
   ],
   "source": [
    "def wants_all_toppings(ketchup, mustard, onion):\n",
    "    \"\"\"Верните, хочет ли клиент «все три начинки»\n",
    "    \"\"\"\n",
    "    return ketchup == True and mustard == True and onion == True \n",
    "    pass\n",
    "wants_all_toppings(True, True, True)"
   ]
  },
  {
   "cell_type": "markdown",
   "id": "ea175b36",
   "metadata": {},
   "source": [
    "# 5b.\n",
    "\n",
    "Для следующей функции заполните тело так, чтобы оно соответствовало описанию на английском языке в строке документации."
   ]
  },
  {
   "cell_type": "code",
   "execution_count": 31,
   "id": "4f6bc328",
   "metadata": {},
   "outputs": [],
   "source": [
    "def wants_plain_hotdog(ketchup, mustard, onion):\n",
    "    \"\"\"Укажите, хочет ли клиент простой хот-дог без начинки.\n",
    "    \"\"\"\n",
    "    pass\n",
    "    return ketchup == False and mustard == False and onion == False\n"
   ]
  },
  {
   "cell_type": "markdown",
   "id": "61ca2073",
   "metadata": {},
   "source": [
    "Одно из решений выглядит так:"
   ]
  },
  {
   "cell_type": "code",
   "execution_count": 32,
   "id": "4581cfda",
   "metadata": {},
   "outputs": [
    {
     "ename": "SyntaxError",
     "evalue": "'return' outside function (796559411.py, line 1)",
     "output_type": "error",
     "traceback": [
      "\u001b[0;36m  Input \u001b[0;32mIn [32]\u001b[0;36m\u001b[0m\n\u001b[0;31m    return not ketchup and not mustard and not onion\u001b[0m\n\u001b[0m    ^\u001b[0m\n\u001b[0;31mSyntaxError\u001b[0m\u001b[0;31m:\u001b[0m 'return' outside function\n"
     ]
    }
   ],
   "source": [
    "return not ketchup and not mustard and not onion"
   ]
  },
  {
   "cell_type": "markdown",
   "id": "9408d1f2",
   "metadata": {},
   "source": [
    "Мы также можем «вынести за скобки» не, чтобы получить:"
   ]
  },
  {
   "cell_type": "code",
   "execution_count": null,
   "id": "1e7d754c",
   "metadata": {},
   "outputs": [],
   "source": [
    "return not (ketchup or mustard or onion)"
   ]
  },
  {
   "cell_type": "markdown",
   "id": "3c9199c1",
   "metadata": {},
   "source": [
    "# 5c.\n",
    "\n",
    "Вы знаете, что делать: для следующей функции заполните тело так, чтобы оно соответствовало описанию на английском языке в строке документации."
   ]
  },
  {
   "cell_type": "code",
   "execution_count": 35,
   "id": "0303347b",
   "metadata": {},
   "outputs": [
    {
     "data": {
      "text/plain": [
       "False"
      ]
     },
     "execution_count": 35,
     "metadata": {},
     "output_type": "execute_result"
    }
   ],
   "source": [
    "def exactly_one_sauce(ketchup, mustard, onion):\n",
    "    \"\"\"Верните, хочет ли клиент кетчуп или горчицу, но не оба.\n",
    "(Вы можете быть знакомы с этой операцией под названием «исключительное или»)\n",
    "    \"\"\"\n",
    "    pass\n",
    "    return ketchup == True and mustard == False or mustard == True and ketchup == False\n",
    "exactly_one_sauce(True, True, True)"
   ]
  },
  {
   "cell_type": "markdown",
   "id": "fc8716db",
   "metadata": {},
   "source": [
    "# 6. 🌶️\n",
    "\n",
    "Мы увидели, что вызов bool() для целого числа возвращает False, если оно равно 0, и True в противном случае. Что произойдет, если мы вызовем int() для bool? Попробуйте сделать это в ячейке блокнота ниже.\n",
    "\n",
    "Можете ли вы воспользоваться этим, чтобы написать лаконичную функцию, которая соответствует английскому предложению «does the customer want exact one topping?»?"
   ]
  },
  {
   "cell_type": "code",
   "execution_count": 37,
   "id": "2814bddf",
   "metadata": {},
   "outputs": [
    {
     "data": {
      "text/plain": [
       "0"
      ]
     },
     "execution_count": 37,
     "metadata": {},
     "output_type": "execute_result"
    }
   ],
   "source": [
    "def exactly_one_topping(ketchup, mustard, onion):\n",
    "    \"\"\"Верните, хочет ли клиент только одну из трех доступных начинок для своего хот-дога.\n",
    "    \"\"\"\n",
    "    pass\n",
    "    return int(ketchup == True and mustard == False and onion == False or ketchup == False and mustard == True and onion == False or ketchup == False and mustard == False and onion == True)\n",
    "exactly_one_topping(False, False, False)"
   ]
  },
  {
   "cell_type": "markdown",
   "id": "486856ca",
   "metadata": {},
   "source": [
    "Это условие было бы довольно сложно выразить, используя только and, or и not, но использование преобразования логического значения в целое число дает нам следующее короткое решение:"
   ]
  },
  {
   "cell_type": "code",
   "execution_count": 38,
   "id": "ed0ce961",
   "metadata": {},
   "outputs": [
    {
     "ename": "SyntaxError",
     "evalue": "'return' outside function (2710485463.py, line 1)",
     "output_type": "error",
     "traceback": [
      "\u001b[0;36m  Input \u001b[0;32mIn [38]\u001b[0;36m\u001b[0m\n\u001b[0;31m    return (int(ketchup) + int(mustard) + int(onion)) == 1\u001b[0m\n\u001b[0m    ^\u001b[0m\n\u001b[0;31mSyntaxError\u001b[0m\u001b[0;31m:\u001b[0m 'return' outside function\n"
     ]
    }
   ],
   "source": [
    "return (int(ketchup) + int(mustard) + int(onion)) == 1"
   ]
  },
  {
   "cell_type": "markdown",
   "id": "7415a9ca",
   "metadata": {},
   "source": [
    "Интересный факт: технически нам не нужно вызывать int для аргументов. Просто выполняя сложение с булевыми значениями, Python неявно выполняет целочисленное преобразование. Так что мы могли бы также написать..."
   ]
  },
  {
   "cell_type": "code",
   "execution_count": null,
   "id": "4e41f899",
   "metadata": {},
   "outputs": [],
   "source": [
    "return (ketchup + mustard + onion) == 1"
   ]
  },
  {
   "cell_type": "markdown",
   "id": "42653c3d",
   "metadata": {},
   "source": [
    "7. 🌶️ (Необязательно)\n",
    "\n",
    "В этой задаче мы будем работать с упрощенной версией блэкджека (также известной как «двадцать одно»). В этой версии есть один игрок (которым вы будете управлять) и дилер. Игра проходит следующим образом:\n",
    "\n",
    "Игроку раздаются две открытые карты. Дилеру раздается одна открытая карта.\n",
    "Игрок может попросить раздать ему еще одну карту («взять») столько раз, сколько пожелает. Если сумма его карт превышает 21, он немедленно проигрывает раунд.\n",
    "Затем дилер раздает себе дополнительные карты, пока:\n",
    "сумма карт дилера не превысит 21, в этом случае игрок выигрывает раунд\n",
    "сумма карт дилера не станет больше или равна 17. Если общая сумма игрока больше, чем у дилера, игрок выигрывает. В противном случае выигрывает дилер (даже в случае ничьей).\n",
    "При подсчете суммы карт валет, дама и король считаются за 10. Тузы могут считаться за 1 или 11 (когда выше упоминается «общая сумма» игрока, мы имеем в виду наибольшую возможную сумму, не превышающую 21. Например, A+8 = 19, A+8+8 = 17)\n",
    "\n",
    "Для этой задачи вы напишете функцию, представляющую стратегию принятия решений игроком в этой игре. Ниже мы привели очень неразумную реализацию:"
   ]
  },
  {
   "cell_type": "code",
   "execution_count": 11,
   "id": "fbea2ad2",
   "metadata": {},
   "outputs": [],
   "source": [
    "def should_hit(dealer_total, player_total, player_low_aces, player_high_aces):\n",
    "    \"\"\"Верните True, если игрок должен прикупить (запросить еще одну карту) с учетом текущего состояния игры, или False, если игрок должен остаться.\n",
    "При расчете общей стоимости руки мы считаем тузы «высокими» (со стоимостью 11), если это не приводит к общей сумме выше 21, в противном случае мы считаем их низкими (со стоимостью 1).\n",
    "Например, если рука игрока {A, A, A, 7}, мы посчитаем ее как 11 + 1 + 1 + 7,\n",
    "и поэтому установим player_total=20, player_low_aces=2, player_high_aces=1.\n",
    "    \"\"\"\n",
    "    if \n",
    "    return False"
   ]
  },
  {
   "cell_type": "markdown",
   "id": "c5b1db14",
   "metadata": {},
   "source": [
    "Этот очень консервативный агент всегда придерживается руки из двух карт, которые ему розданы.\n",
    "\n",
    "Мы будем моделировать игры между вашим агентом игрока и нашим собственным агентом дилера, вызывая вашу функцию.\n",
    "\n",
    "Попробуйте запустить функцию ниже, чтобы увидеть пример моделируемой игры:"
   ]
  },
  {
   "cell_type": "code",
   "execution_count": null,
   "id": "b76f86e2",
   "metadata": {},
   "outputs": [],
   "source": [
    "q7.simulate_one_game()"
   ]
  },
  {
   "cell_type": "markdown",
   "id": "429cbfcd",
   "metadata": {},
   "source": [
    "Игрок начинает с 10 и 4 (всего = 14)\n",
    "Дилер начинает с 10\n",
    "__ Ход игрока __\n",
    "Игрок остается\n",
    "_ Ход дилера __\n",
    "Дилер берет и получает 9. (всего = 19)\n",
    "Дилер останавливается.\n",
    "Дилер выигрывает. 19 >= 14"
   ]
  },
  {
   "cell_type": "markdown",
   "id": "3f9232ee",
   "metadata": {},
   "source": [
    "Настоящим испытанием храбрости вашего агента является его средний процент выигрышей за многие игры. Попробуйте вызвать функцию ниже, чтобы смоделировать 50000 игр в блэкджек (это может занять пару секунд):"
   ]
  },
  {
   "cell_type": "code",
   "execution_count": null,
   "id": "c1c85f12",
   "metadata": {},
   "outputs": [],
   "source": [
    "q7.simulate(n_games=50000)"
   ]
  },
  {
   "cell_type": "markdown",
   "id": "85a00d04",
   "metadata": {},
   "source": [
    "Игрок выиграл 19023 из 50000 игр (процент побед = 38,0%)"
   ]
  },
  {
   "cell_type": "markdown",
   "id": "492e9b99",
   "metadata": {},
   "source": [
    "Наш тупой агент, который полностью игнорирует состояние игры, все равно умудряется побеждать поразительно часто!\n",
    "\n",
    "Попробуйте добавить немного больше интеллекта в функцию should_hit и посмотрите, как это повлияет на результаты."
   ]
  },
  {
   "cell_type": "code",
   "execution_count": null,
   "id": "2017099d",
   "metadata": {},
   "outputs": [],
   "source": [
    "def should_hit(dealer_total, player_total, player_low_aces, player_high_aces):\n",
    "    \"\"\"Верните True, если игрок должен прикупить (запросить еще \n",
    "    одну карту) с учетом текущего состояния игры, или \n",
    "    False, если игрок должен остаться.\n",
    "При расчете общей стоимости руки мы считаем тузы «высокими» (со \n",
    "стоимостью 11), если это не приводит к общей сумме \n",
    "выше 21, в противном случае мы считаем их низкими (со стоимостью \n",
    "1).\n",
    "Например, если рука игрока {A, A, A, 7}, мы посчитаем ее как 11 \n",
    "+ 1 + 1 + 7,\n",
    "и поэтому установим player_total=20, player_low_aces=2, \n",
    "player_high_aces=1.\n",
    "    \"\"\"\n",
    "    \"\"\"Верните True, если игрок должен прикупить (запросить еще \n",
    "    одну карту) с учетом текущего состояния игры, или False, \n",
    "    если игрок должен остаться.\n",
    "При расчете общей стоимости руки мы считаем тузы «высокими» (со \n",
    "стоимостью 11), если это не приводит к общей сумме выше 21, в \n",
    "противном случае мы считаем их низкими (со стоимостью 1).\n",
    "Например, если рука игрока {A, A, A, 7}, мы посчитаем ее как 11 \n",
    "+ 1 + 1 + 7,\n",
    "и поэтому установим player_total=20, player_low_aces=2, \n",
    "player_high_aces=1.\n",
    "    \"\"\"\n",
    "    return False\n",
    "\n",
    "q7.simulate(n_games=50000)"
   ]
  },
  {
   "cell_type": "markdown",
   "id": "34d02197",
   "metadata": {},
   "source": [
    "# Продолжайте\n",
    "\n",
    "Узнайте о списках и кортежах для систематической обработки нескольких элементов данных."
   ]
  }
 ],
 "metadata": {
  "kernelspec": {
   "display_name": "Python 3 (ipykernel)",
   "language": "python",
   "name": "python3"
  },
  "language_info": {
   "codemirror_mode": {
    "name": "ipython",
    "version": 3
   },
   "file_extension": ".py",
   "mimetype": "text/x-python",
   "name": "python",
   "nbconvert_exporter": "python",
   "pygments_lexer": "ipython3",
   "version": "3.9.12"
  }
 },
 "nbformat": 4,
 "nbformat_minor": 5
}
