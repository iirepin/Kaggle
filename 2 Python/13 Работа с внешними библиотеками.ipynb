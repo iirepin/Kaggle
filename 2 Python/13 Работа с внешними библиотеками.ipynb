{
 "cells": [
  {
   "cell_type": "markdown",
   "id": "ac50e50f",
   "metadata": {},
   "source": [
    "# Работа с внешними библиотеками\n",
    "Импорт, перегрузка оператора и советы по выживанию в мире внешних библиотек"
   ]
  },
  {
   "cell_type": "markdown",
   "id": "7939dd51",
   "metadata": {},
   "source": [
    "В этом руководстве вы узнаете об импорте в Python, получите несколько советов по работе с незнакомыми библиотеками (и объектами, которые они возвращают), а также разберетесь с перегрузкой операторов."
   ]
  },
  {
   "cell_type": "markdown",
   "id": "44484ccb",
   "metadata": {},
   "source": [
    "# Импорт\n",
    "До сих пор мы говорили о типах и функциях, встроенных в язык.\n",
    "\n",
    "Но одна из лучших особенностей Python (особенно если вы специалист по обработке данных) - это огромное количество высококачественных пользовательских библиотек, которые были написаны для него.\n",
    "\n",
    "Некоторые из этих библиотек находятся в \"стандартной библиотеке\", что означает, что вы можете найти их везде, где используете Python. Другие библиотеки можно легко добавить, даже если они не всегда поставляются вместе с Python.\n",
    "\n",
    "В любом случае, мы получим доступ к этому коду с помощью импорта.\n",
    "\n",
    "Мы начнем наш пример с импорта математических данных из стандартной библиотеки."
   ]
  },
  {
   "cell_type": "code",
   "execution_count": 1,
   "id": "cf8311e9",
   "metadata": {},
   "outputs": [
    {
     "name": "stdout",
     "output_type": "stream",
     "text": [
      "It's math! It has type <class 'module'>\n"
     ]
    }
   ],
   "source": [
    "import math\n",
    "\n",
    "print(\"It's math! It has type {}\".format(type(math)))"
   ]
  },
  {
   "cell_type": "markdown",
   "id": "da4b7bb0",
   "metadata": {},
   "source": [
    "математика - это модуль. Модуль - это просто набор переменных (пространство имен, если хотите), определенных кем-то другим. Мы можем просмотреть все имена в математике, используя встроенную функцию dir()."
   ]
  },
  {
   "cell_type": "code",
   "execution_count": 2,
   "id": "c83ffe96",
   "metadata": {},
   "outputs": [
    {
     "name": "stdout",
     "output_type": "stream",
     "text": [
      "['__doc__', '__file__', '__loader__', '__name__', '__package__', '__spec__', 'acos', 'acosh', 'asin', 'asinh', 'atan', 'atan2', 'atanh', 'ceil', 'comb', 'copysign', 'cos', 'cosh', 'degrees', 'dist', 'e', 'erf', 'erfc', 'exp', 'expm1', 'fabs', 'factorial', 'floor', 'fmod', 'frexp', 'fsum', 'gamma', 'gcd', 'hypot', 'inf', 'isclose', 'isfinite', 'isinf', 'isnan', 'isqrt', 'lcm', 'ldexp', 'lgamma', 'log', 'log10', 'log1p', 'log2', 'modf', 'nan', 'nextafter', 'perm', 'pi', 'pow', 'prod', 'radians', 'remainder', 'sin', 'sinh', 'sqrt', 'tan', 'tanh', 'tau', 'trunc', 'ulp']\n"
     ]
    }
   ],
   "source": [
    "print(dir(math))"
   ]
  },
  {
   "cell_type": "markdown",
   "id": "39076120",
   "metadata": {},
   "source": [
    "Мы можем получить доступ к этим переменным, используя точечный синтаксис. Некоторые из них относятся к простым значениям, например, math.pi:"
   ]
  },
  {
   "cell_type": "code",
   "execution_count": 3,
   "id": "0e2e3983",
   "metadata": {},
   "outputs": [
    {
     "name": "stdout",
     "output_type": "stream",
     "text": [
      "pi to 4 significant digits = 3.142\n"
     ]
    }
   ],
   "source": [
    "print(\"pi to 4 significant digits = {:.4}\".format(math.pi))"
   ]
  },
  {
   "cell_type": "markdown",
   "id": "e7f29823",
   "metadata": {},
   "source": [
    "Но большая часть того, что мы найдем в модуле, - это функции, такие как math.log:"
   ]
  },
  {
   "cell_type": "code",
   "execution_count": 5,
   "id": "2f4782d4",
   "metadata": {},
   "outputs": [
    {
     "data": {
      "text/plain": [
       "5.0"
      ]
     },
     "execution_count": 5,
     "metadata": {},
     "output_type": "execute_result"
    }
   ],
   "source": [
    "math.log(32, 2)"
   ]
  },
  {
   "cell_type": "markdown",
   "id": "bacbef4c",
   "metadata": {},
   "source": [
    "Конечно, если мы не знаем, что делает math.log, мы можем вызвать help() для этого:"
   ]
  },
  {
   "cell_type": "code",
   "execution_count": 6,
   "id": "f6a9b3e0",
   "metadata": {},
   "outputs": [
    {
     "name": "stdout",
     "output_type": "stream",
     "text": [
      "Help on built-in function log in module math:\n",
      "\n",
      "log(...)\n",
      "    log(x, [base=math.e])\n",
      "    Return the logarithm of x to the given base.\n",
      "    \n",
      "    If the base not specified, returns the natural logarithm (base e) of x.\n",
      "\n"
     ]
    }
   ],
   "source": [
    "help(math.log)"
   ]
  },
  {
   "cell_type": "markdown",
   "id": "bd195403",
   "metadata": {},
   "source": [
    "Мы также можем вызвать функцию help() в самом модуле. Это даст нам сводную документацию по всем функциям и значениям в модуле (а также подробное описание модуля). Нажмите кнопку \"Вывод\", чтобы просмотреть всю страницу справки по математике."
   ]
  },
  {
   "cell_type": "code",
   "execution_count": 7,
   "id": "0416b30c",
   "metadata": {},
   "outputs": [
    {
     "name": "stdout",
     "output_type": "stream",
     "text": [
      "Help on module math:\n",
      "\n",
      "NAME\n",
      "    math\n",
      "\n",
      "MODULE REFERENCE\n",
      "    https://docs.python.org/3.9/library/math\n",
      "    \n",
      "    The following documentation is automatically generated from the Python\n",
      "    source files.  It may be incomplete, incorrect or include features that\n",
      "    are considered implementation detail and may vary between Python\n",
      "    implementations.  When in doubt, consult the module reference at the\n",
      "    location listed above.\n",
      "\n",
      "DESCRIPTION\n",
      "    This module provides access to the mathematical functions\n",
      "    defined by the C standard.\n",
      "\n",
      "FUNCTIONS\n",
      "    acos(x, /)\n",
      "        Return the arc cosine (measured in radians) of x.\n",
      "        \n",
      "        The result is between 0 and pi.\n",
      "    \n",
      "    acosh(x, /)\n",
      "        Return the inverse hyperbolic cosine of x.\n",
      "    \n",
      "    asin(x, /)\n",
      "        Return the arc sine (measured in radians) of x.\n",
      "        \n",
      "        The result is between -pi/2 and pi/2.\n",
      "    \n",
      "    asinh(x, /)\n",
      "        Return the inverse hyperbolic sine of x.\n",
      "    \n",
      "    atan(x, /)\n",
      "        Return the arc tangent (measured in radians) of x.\n",
      "        \n",
      "        The result is between -pi/2 and pi/2.\n",
      "    \n",
      "    atan2(y, x, /)\n",
      "        Return the arc tangent (measured in radians) of y/x.\n",
      "        \n",
      "        Unlike atan(y/x), the signs of both x and y are considered.\n",
      "    \n",
      "    atanh(x, /)\n",
      "        Return the inverse hyperbolic tangent of x.\n",
      "    \n",
      "    ceil(x, /)\n",
      "        Return the ceiling of x as an Integral.\n",
      "        \n",
      "        This is the smallest integer >= x.\n",
      "    \n",
      "    comb(n, k, /)\n",
      "        Number of ways to choose k items from n items without repetition and without order.\n",
      "        \n",
      "        Evaluates to n! / (k! * (n - k)!) when k <= n and evaluates\n",
      "        to zero when k > n.\n",
      "        \n",
      "        Also called the binomial coefficient because it is equivalent\n",
      "        to the coefficient of k-th term in polynomial expansion of the\n",
      "        expression (1 + x)**n.\n",
      "        \n",
      "        Raises TypeError if either of the arguments are not integers.\n",
      "        Raises ValueError if either of the arguments are negative.\n",
      "    \n",
      "    copysign(x, y, /)\n",
      "        Return a float with the magnitude (absolute value) of x but the sign of y.\n",
      "        \n",
      "        On platforms that support signed zeros, copysign(1.0, -0.0)\n",
      "        returns -1.0.\n",
      "    \n",
      "    cos(x, /)\n",
      "        Return the cosine of x (measured in radians).\n",
      "    \n",
      "    cosh(x, /)\n",
      "        Return the hyperbolic cosine of x.\n",
      "    \n",
      "    degrees(x, /)\n",
      "        Convert angle x from radians to degrees.\n",
      "    \n",
      "    dist(p, q, /)\n",
      "        Return the Euclidean distance between two points p and q.\n",
      "        \n",
      "        The points should be specified as sequences (or iterables) of\n",
      "        coordinates.  Both inputs must have the same dimension.\n",
      "        \n",
      "        Roughly equivalent to:\n",
      "            sqrt(sum((px - qx) ** 2.0 for px, qx in zip(p, q)))\n",
      "    \n",
      "    erf(x, /)\n",
      "        Error function at x.\n",
      "    \n",
      "    erfc(x, /)\n",
      "        Complementary error function at x.\n",
      "    \n",
      "    exp(x, /)\n",
      "        Return e raised to the power of x.\n",
      "    \n",
      "    expm1(x, /)\n",
      "        Return exp(x)-1.\n",
      "        \n",
      "        This function avoids the loss of precision involved in the direct evaluation of exp(x)-1 for small x.\n",
      "    \n",
      "    fabs(x, /)\n",
      "        Return the absolute value of the float x.\n",
      "    \n",
      "    factorial(x, /)\n",
      "        Find x!.\n",
      "        \n",
      "        Raise a ValueError if x is negative or non-integral.\n",
      "    \n",
      "    floor(x, /)\n",
      "        Return the floor of x as an Integral.\n",
      "        \n",
      "        This is the largest integer <= x.\n",
      "    \n",
      "    fmod(x, y, /)\n",
      "        Return fmod(x, y), according to platform C.\n",
      "        \n",
      "        x % y may differ.\n",
      "    \n",
      "    frexp(x, /)\n",
      "        Return the mantissa and exponent of x, as pair (m, e).\n",
      "        \n",
      "        m is a float and e is an int, such that x = m * 2.**e.\n",
      "        If x is 0, m and e are both 0.  Else 0.5 <= abs(m) < 1.0.\n",
      "    \n",
      "    fsum(seq, /)\n",
      "        Return an accurate floating point sum of values in the iterable seq.\n",
      "        \n",
      "        Assumes IEEE-754 floating point arithmetic.\n",
      "    \n",
      "    gamma(x, /)\n",
      "        Gamma function at x.\n",
      "    \n",
      "    gcd(*integers)\n",
      "        Greatest Common Divisor.\n",
      "    \n",
      "    hypot(...)\n",
      "        hypot(*coordinates) -> value\n",
      "        \n",
      "        Multidimensional Euclidean distance from the origin to a point.\n",
      "        \n",
      "        Roughly equivalent to:\n",
      "            sqrt(sum(x**2 for x in coordinates))\n",
      "        \n",
      "        For a two dimensional point (x, y), gives the hypotenuse\n",
      "        using the Pythagorean theorem:  sqrt(x*x + y*y).\n",
      "        \n",
      "        For example, the hypotenuse of a 3/4/5 right triangle is:\n",
      "        \n",
      "            >>> hypot(3.0, 4.0)\n",
      "            5.0\n",
      "    \n",
      "    isclose(a, b, *, rel_tol=1e-09, abs_tol=0.0)\n",
      "        Determine whether two floating point numbers are close in value.\n",
      "        \n",
      "          rel_tol\n",
      "            maximum difference for being considered \"close\", relative to the\n",
      "            magnitude of the input values\n",
      "          abs_tol\n",
      "            maximum difference for being considered \"close\", regardless of the\n",
      "            magnitude of the input values\n",
      "        \n",
      "        Return True if a is close in value to b, and False otherwise.\n",
      "        \n",
      "        For the values to be considered close, the difference between them\n",
      "        must be smaller than at least one of the tolerances.\n",
      "        \n",
      "        -inf, inf and NaN behave similarly to the IEEE 754 Standard.  That\n",
      "        is, NaN is not close to anything, even itself.  inf and -inf are\n",
      "        only close to themselves.\n",
      "    \n",
      "    isfinite(x, /)\n",
      "        Return True if x is neither an infinity nor a NaN, and False otherwise.\n",
      "    \n",
      "    isinf(x, /)\n",
      "        Return True if x is a positive or negative infinity, and False otherwise.\n",
      "    \n",
      "    isnan(x, /)\n",
      "        Return True if x is a NaN (not a number), and False otherwise.\n",
      "    \n",
      "    isqrt(n, /)\n",
      "        Return the integer part of the square root of the input.\n",
      "    \n",
      "    lcm(*integers)\n",
      "        Least Common Multiple.\n",
      "    \n",
      "    ldexp(x, i, /)\n",
      "        Return x * (2**i).\n",
      "        \n",
      "        This is essentially the inverse of frexp().\n",
      "    \n",
      "    lgamma(x, /)\n",
      "        Natural logarithm of absolute value of Gamma function at x.\n",
      "    \n",
      "    log(...)\n",
      "        log(x, [base=math.e])\n",
      "        Return the logarithm of x to the given base.\n",
      "        \n",
      "        If the base not specified, returns the natural logarithm (base e) of x.\n",
      "    \n",
      "    log10(x, /)\n",
      "        Return the base 10 logarithm of x.\n",
      "    \n",
      "    log1p(x, /)\n",
      "        Return the natural logarithm of 1+x (base e).\n",
      "        \n",
      "        The result is computed in a way which is accurate for x near zero.\n",
      "    \n",
      "    log2(x, /)\n",
      "        Return the base 2 logarithm of x.\n",
      "    \n",
      "    modf(x, /)\n",
      "        Return the fractional and integer parts of x.\n",
      "        \n",
      "        Both results carry the sign of x and are floats.\n",
      "    \n",
      "    nextafter(x, y, /)\n",
      "        Return the next floating-point value after x towards y.\n",
      "    \n",
      "    perm(n, k=None, /)\n",
      "        Number of ways to choose k items from n items without repetition and with order.\n",
      "        \n",
      "        Evaluates to n! / (n - k)! when k <= n and evaluates\n",
      "        to zero when k > n.\n",
      "        \n",
      "        If k is not specified or is None, then k defaults to n\n",
      "        and the function returns n!.\n",
      "        \n",
      "        Raises TypeError if either of the arguments are not integers.\n",
      "        Raises ValueError if either of the arguments are negative.\n",
      "    \n",
      "    pow(x, y, /)\n",
      "        Return x**y (x to the power of y).\n",
      "    \n",
      "    prod(iterable, /, *, start=1)\n",
      "        Calculate the product of all the elements in the input iterable.\n",
      "        \n",
      "        The default start value for the product is 1.\n",
      "        \n",
      "        When the iterable is empty, return the start value.  This function is\n",
      "        intended specifically for use with numeric values and may reject\n",
      "        non-numeric types.\n",
      "    \n",
      "    radians(x, /)\n",
      "        Convert angle x from degrees to radians.\n",
      "    \n",
      "    remainder(x, y, /)\n",
      "        Difference between x and the closest integer multiple of y.\n",
      "        \n",
      "        Return x - n*y where n*y is the closest integer multiple of y.\n",
      "        In the case where x is exactly halfway between two multiples of\n",
      "        y, the nearest even value of n is used. The result is always exact.\n",
      "    \n",
      "    sin(x, /)\n",
      "        Return the sine of x (measured in radians).\n",
      "    \n",
      "    sinh(x, /)\n",
      "        Return the hyperbolic sine of x.\n",
      "    \n",
      "    sqrt(x, /)\n",
      "        Return the square root of x.\n",
      "    \n",
      "    tan(x, /)\n",
      "        Return the tangent of x (measured in radians).\n",
      "    \n",
      "    tanh(x, /)\n",
      "        Return the hyperbolic tangent of x.\n",
      "    \n",
      "    trunc(x, /)\n",
      "        Truncates the Real x to the nearest Integral toward 0.\n",
      "        \n",
      "        Uses the __trunc__ magic method.\n",
      "    \n",
      "    ulp(x, /)\n",
      "        Return the value of the least significant bit of the float x.\n",
      "\n",
      "DATA\n",
      "    e = 2.718281828459045\n",
      "    inf = inf\n",
      "    nan = nan\n",
      "    pi = 3.141592653589793\n",
      "    tau = 6.283185307179586\n",
      "\n",
      "FILE\n",
      "    /Users/ivan/opt/anaconda3/lib/python3.9/lib-dynload/math.cpython-39-darwin.so\n",
      "\n",
      "\n"
     ]
    }
   ],
   "source": [
    "help(math)"
   ]
  },
  {
   "cell_type": "markdown",
   "id": "e123007b",
   "metadata": {},
   "source": [
    "# Другой синтаксис импорта\n",
    "\n",
    "Если мы знаем, что будем часто использовать математические функции, мы можем импортировать их под более коротким псевдонимом, чтобы сэкономить время на ввод текста (хотя в этом случае \"математика\" и так довольно короткая)."
   ]
  },
  {
   "cell_type": "code",
   "execution_count": 8,
   "id": "c4081ed2",
   "metadata": {},
   "outputs": [
    {
     "data": {
      "text/plain": [
       "3.141592653589793"
      ]
     },
     "execution_count": 8,
     "metadata": {},
     "output_type": "execute_result"
    }
   ],
   "source": [
    "import math as mt\n",
    "mt.pi"
   ]
  },
  {
   "cell_type": "markdown",
   "id": "e12ac865",
   "metadata": {},
   "source": [
    "Возможно, вы видели код, который делает это с помощью некоторых популярных библиотек, таких как Pandas, Numpy, Tensorflow или Matplotlib. Например, принято импортировать numpy как np, а pandas - как pd."
   ]
  },
  {
   "cell_type": "markdown",
   "id": "59798dcb",
   "metadata": {},
   "source": [
    "as просто переименовывает импортированный модуль. Это эквивалентно выполнению чего-то вроде:"
   ]
  },
  {
   "cell_type": "code",
   "execution_count": 9,
   "id": "17f28d4b",
   "metadata": {},
   "outputs": [],
   "source": [
    "import math\n",
    "mt = math"
   ]
  },
  {
   "cell_type": "markdown",
   "id": "b1072a45",
   "metadata": {},
   "source": [
    "Разве не было бы здорово, если бы мы могли ссылаться на все переменные в математическом модуле отдельно? т.е. если бы мы могли просто ссылаться на pi вместо math.pi или mt.pi? Хорошая новость: мы можем это сделать."
   ]
  },
  {
   "cell_type": "code",
   "execution_count": 10,
   "id": "5cbce4bc",
   "metadata": {},
   "outputs": [
    {
     "name": "stdout",
     "output_type": "stream",
     "text": [
      "3.141592653589793 5.0\n"
     ]
    }
   ],
   "source": [
    "from math import *\n",
    "print(pi, log(32, 2))"
   ]
  },
  {
   "cell_type": "markdown",
   "id": "715262b0",
   "metadata": {},
   "source": [
    "импорт * делает все переменные модуля доступными для вас напрямую (без каких-либо префиксов, обозначенных пунктиром).\n",
    "\n",
    "Плохие новости: некоторые пуристы могут ворчать на вас за это.\n",
    "\n",
    "Хуже того: в их словах есть смысл."
   ]
  },
  {
   "cell_type": "code",
   "execution_count": 11,
   "id": "ec88d3d3",
   "metadata": {},
   "outputs": [
    {
     "ename": "TypeError",
     "evalue": "return arrays must be of ArrayType",
     "output_type": "error",
     "traceback": [
      "\u001b[0;31m---------------------------------------------------------------------------\u001b[0m",
      "\u001b[0;31mTypeError\u001b[0m                                 Traceback (most recent call last)",
      "Input \u001b[0;32mIn [11]\u001b[0m, in \u001b[0;36m<cell line: 3>\u001b[0;34m()\u001b[0m\n\u001b[1;32m      1\u001b[0m \u001b[38;5;28;01mfrom\u001b[39;00m \u001b[38;5;21;01mmath\u001b[39;00m \u001b[38;5;28;01mimport\u001b[39;00m \u001b[38;5;241m*\u001b[39m\n\u001b[1;32m      2\u001b[0m \u001b[38;5;28;01mfrom\u001b[39;00m \u001b[38;5;21;01mnumpy\u001b[39;00m \u001b[38;5;28;01mimport\u001b[39;00m \u001b[38;5;241m*\u001b[39m\n\u001b[0;32m----> 3\u001b[0m \u001b[38;5;28mprint\u001b[39m(pi, \u001b[43mlog\u001b[49m\u001b[43m(\u001b[49m\u001b[38;5;241;43m32\u001b[39;49m\u001b[43m,\u001b[49m\u001b[43m \u001b[49m\u001b[38;5;241;43m2\u001b[39;49m\u001b[43m)\u001b[49m)\n",
      "\u001b[0;31mTypeError\u001b[0m: return arrays must be of ArrayType"
     ]
    }
   ],
   "source": [
    "from math import *\n",
    "from numpy import *\n",
    "print(pi, log(32, 2))"
   ]
  },
  {
   "cell_type": "markdown",
   "id": "fa097020",
   "metadata": {},
   "source": [
    "Что произошло? Раньше это работало!\n",
    "\n",
    "Такого рода \"звездный импорт\" иногда может приводить к странным, трудным для отладки ситуациям.\n",
    "\n",
    "Проблема в данном случае заключается в том, что в модулях math и numpy есть функции, называемые log, но у них разная семантика. Поскольку мы импортируем из numpy second, его журнал перезаписывает (или \"затеняет\") переменную журнала, которую мы импортировали из math.\n",
    "\n",
    "Хорошим компромиссом является импорт только тех конкретных элементов, которые нам понадобятся из каждого модуля:"
   ]
  },
  {
   "cell_type": "code",
   "execution_count": 12,
   "id": "e916b1d6",
   "metadata": {},
   "outputs": [],
   "source": [
    "from math import log, pi\n",
    "from numpy import asarray"
   ]
  },
  {
   "cell_type": "markdown",
   "id": "c3772e82",
   "metadata": {},
   "source": [
    "# Подмодули\n",
    "\n",
    "Мы видели, что модули содержат переменные, которые могут ссылаться на функции или значения. Следует иметь в виду, что они также могут содержать переменные, ссылающиеся на другие модули."
   ]
  },
  {
   "cell_type": "code",
   "execution_count": 13,
   "id": "9af47f36",
   "metadata": {},
   "outputs": [
    {
     "name": "stdout",
     "output_type": "stream",
     "text": [
      "numpy.random is a <class 'module'>\n",
      "it contains names such as... ['seed', 'set_state', 'shuffle', 'standard_cauchy', 'standard_exponential', 'standard_gamma', 'standard_normal', 'standard_t', 'test', 'triangular', 'uniform', 'vonmises', 'wald', 'weibull', 'zipf']\n"
     ]
    }
   ],
   "source": [
    "import numpy\n",
    "print(\"numpy.random is a\", type(numpy.random))\n",
    "print(\"it contains names such as...\",\n",
    "      dir(numpy.random)[-15:]\n",
    "     )"
   ]
  },
  {
   "cell_type": "markdown",
   "id": "58a8b81a",
   "metadata": {},
   "source": [
    "Итак, если мы импортируем numpy, как указано выше, то для вызова функции в случайном \"подмодуле\" потребуются две точки."
   ]
  },
  {
   "cell_type": "code",
   "execution_count": 14,
   "id": "80494ae5",
   "metadata": {},
   "outputs": [
    {
     "data": {
      "text/plain": [
       "array([5, 2, 4, 4, 5, 4, 1, 1, 1, 2])"
      ]
     },
     "execution_count": 14,
     "metadata": {},
     "output_type": "execute_result"
    }
   ],
   "source": [
    "# Бросьте 10 кубиков\n",
    "rolls = numpy.random.randint(low=1, high=6, size=10)\n",
    "rolls"
   ]
  },
  {
   "cell_type": "markdown",
   "id": "153e9af8",
   "metadata": {},
   "source": [
    "# О, какие места вы увидите, какие объекты увидите...\n",
    "Итак, после 6 уроков вы станете профессионалом в работе с целыми числами, числами с плавающей запятой, логическими значениями, списками, строками и диктантами (верно?).\n",
    "\n",
    "Даже если бы это было правдой, на этом все не заканчивается. Работая с различными библиотеками для решения специализированных задач, вы обнаружите, что они определяют свои собственные типы, с которыми вам придется научиться работать. Например, если вы работаете с графической библиотекой matplotlib, вы будете сталкиваться с объектами, которые она определяет, которые представляют вспомогательные графики, рисунки, метки и аннотации. функции pandas предоставят вам фреймы данных и ряды.\n",
    "\n",
    "В этом разделе я хочу поделиться с вами кратким руководством по выживанию при работе со странными типами."
   ]
  },
  {
   "cell_type": "markdown",
   "id": "22985d52",
   "metadata": {},
   "source": [
    "# Три инструмента для понимания странных объектов\n",
    "В приведенной выше ячейке мы увидели, что вызов функции numpy дает нам \"массив\". Мы никогда раньше не видели ничего подобного (во всяком случае, в этом курсе). Но не паникуйте: у нас есть три знакомые встроенные функции, которые помогут нам в этом.\n",
    "\n",
    "1: type() (что это за штука?)"
   ]
  },
  {
   "cell_type": "code",
   "execution_count": 15,
   "id": "390165d8",
   "metadata": {},
   "outputs": [
    {
     "data": {
      "text/plain": [
       "numpy.ndarray"
      ]
     },
     "execution_count": 15,
     "metadata": {},
     "output_type": "execute_result"
    }
   ],
   "source": [
    "type(rolls)"
   ]
  },
  {
   "cell_type": "markdown",
   "id": "9c707053",
   "metadata": {},
   "source": [
    "2: dir() (что я могу с этим сделать?)"
   ]
  },
  {
   "cell_type": "code",
   "execution_count": 17,
   "id": "01582e3d",
   "metadata": {},
   "outputs": [
    {
     "name": "stdout",
     "output_type": "stream",
     "text": [
      "['T', '__abs__', '__add__', '__and__', '__array__', '__array_finalize__', '__array_function__', '__array_interface__', '__array_prepare__', '__array_priority__', '__array_struct__', '__array_ufunc__', '__array_wrap__', '__bool__', '__class__', '__complex__', '__contains__', '__copy__', '__deepcopy__', '__delattr__', '__delitem__', '__dir__', '__divmod__', '__doc__', '__eq__', '__float__', '__floordiv__', '__format__', '__ge__', '__getattribute__', '__getitem__', '__gt__', '__hash__', '__iadd__', '__iand__', '__ifloordiv__', '__ilshift__', '__imatmul__', '__imod__', '__imul__', '__index__', '__init__', '__init_subclass__', '__int__', '__invert__', '__ior__', '__ipow__', '__irshift__', '__isub__', '__iter__', '__itruediv__', '__ixor__', '__le__', '__len__', '__lshift__', '__lt__', '__matmul__', '__mod__', '__mul__', '__ne__', '__neg__', '__new__', '__or__', '__pos__', '__pow__', '__radd__', '__rand__', '__rdivmod__', '__reduce__', '__reduce_ex__', '__repr__', '__rfloordiv__', '__rlshift__', '__rmatmul__', '__rmod__', '__rmul__', '__ror__', '__rpow__', '__rrshift__', '__rshift__', '__rsub__', '__rtruediv__', '__rxor__', '__setattr__', '__setitem__', '__setstate__', '__sizeof__', '__str__', '__sub__', '__subclasshook__', '__truediv__', '__xor__', 'all', 'any', 'argmax', 'argmin', 'argpartition', 'argsort', 'astype', 'base', 'byteswap', 'choose', 'clip', 'compress', 'conj', 'conjugate', 'copy', 'ctypes', 'cumprod', 'cumsum', 'data', 'diagonal', 'dot', 'dtype', 'dump', 'dumps', 'fill', 'flags', 'flat', 'flatten', 'getfield', 'imag', 'item', 'itemset', 'itemsize', 'max', 'mean', 'min', 'nbytes', 'ndim', 'newbyteorder', 'nonzero', 'partition', 'prod', 'ptp', 'put', 'ravel', 'real', 'repeat', 'reshape', 'resize', 'round', 'searchsorted', 'setfield', 'setflags', 'shape', 'size', 'sort', 'squeeze', 'std', 'strides', 'sum', 'swapaxes', 'take', 'tobytes', 'tofile', 'tolist', 'tostring', 'trace', 'transpose', 'var', 'view']\n"
     ]
    }
   ],
   "source": [
    "print(dir(rolls))"
   ]
  },
  {
   "cell_type": "code",
   "execution_count": 18,
   "id": "6f2edae5",
   "metadata": {},
   "outputs": [
    {
     "data": {
      "text/plain": [
       "2.9"
      ]
     },
     "execution_count": 18,
     "metadata": {},
     "output_type": "execute_result"
    }
   ],
   "source": [
    "# Если я хочу получить средний бросок, то метод \"mean\" выглядит многообещающим...\n",
    "rolls.mean()"
   ]
  },
  {
   "cell_type": "code",
   "execution_count": 19,
   "id": "d5cebaa6",
   "metadata": {},
   "outputs": [
    {
     "ename": "NameError",
     "evalue": "name 'роллы' is not defined",
     "output_type": "error",
     "traceback": [
      "\u001b[0;31m---------------------------------------------------------------------------\u001b[0m",
      "\u001b[0;31mNameError\u001b[0m                                 Traceback (most recent call last)",
      "Input \u001b[0;32mIn [19]\u001b[0m, in \u001b[0;36m<cell line: 2>\u001b[0;34m()\u001b[0m\n\u001b[1;32m      1\u001b[0m \u001b[38;5;66;03m# Или, может быть, я просто хочу превратить массив в список, и в этом случае я могу использовать \"перечислить\".\u001b[39;00m\n\u001b[0;32m----> 2\u001b[0m \u001b[43mроллы\u001b[49m\u001b[38;5;241m.\u001b[39mtolist()\n\u001b[1;32m      3\u001b[0m rolls\u001b[38;5;241m.\u001b[39mtolist()\n",
      "\u001b[0;31mNameError\u001b[0m: name 'роллы' is not defined"
     ]
    }
   ],
   "source": [
    "# Или, может быть, я просто хочу превратить массив в список, и в этом случае я могу использовать \"перечислить\".\n",
    "роллы.tolist()\n",
    "rolls.tolist()"
   ]
  },
  {
   "cell_type": "markdown",
   "id": "be4e5307",
   "metadata": {},
   "source": [
    "3: помогите() (расскажите мне больше)"
   ]
  },
  {
   "cell_type": "code",
   "execution_count": null,
   "id": "28b8e43b",
   "metadata": {},
   "outputs": [],
   "source": [
    "# Этот атрибут Равеля звучит интересно. Я большой поклонник классической музыки.\n",
    "help(rolls.ravel)"
   ]
  },
  {
   "cell_type": "code",
   "execution_count": null,
   "id": "03ec4e6c",
   "metadata": {},
   "outputs": [],
   "source": [
    "# Хорошо, просто расскажите мне все, что вам нужно знать о numpy.ndarray\n",
    "# (Нажмите кнопку \"Вывод\", чтобы увидеть вывод новой версии).\n",
    "help(rolls)"
   ]
  },
  {
   "cell_type": "markdown",
   "id": "f9380738",
   "metadata": {},
   "source": [
    "(Конечно, вы также можете ознакомиться с онлайн-документами.)"
   ]
  },
  {
   "cell_type": "markdown",
   "id": "81cd9c38",
   "metadata": {},
   "source": [
    "Перегрузка оператора\n",
    "\n",
    "Каково значение приведенного ниже выражения?"
   ]
  },
  {
   "cell_type": "code",
   "execution_count": 20,
   "id": "3ceb2cfd",
   "metadata": {},
   "outputs": [
    {
     "ename": "TypeError",
     "evalue": "can only concatenate list (not \"int\") to list",
     "output_type": "error",
     "traceback": [
      "\u001b[0;31m---------------------------------------------------------------------------\u001b[0m",
      "\u001b[0;31mTypeError\u001b[0m                                 Traceback (most recent call last)",
      "Input \u001b[0;32mIn [20]\u001b[0m, in \u001b[0;36m<cell line: 1>\u001b[0;34m()\u001b[0m\n\u001b[0;32m----> 1\u001b[0m \u001b[43m[\u001b[49m\u001b[38;5;241;43m3\u001b[39;49m\u001b[43m,\u001b[49m\u001b[43m \u001b[49m\u001b[38;5;241;43m4\u001b[39;49m\u001b[43m,\u001b[49m\u001b[43m \u001b[49m\u001b[38;5;241;43m1\u001b[39;49m\u001b[43m,\u001b[49m\u001b[43m \u001b[49m\u001b[38;5;241;43m2\u001b[39;49m\u001b[43m,\u001b[49m\u001b[43m \u001b[49m\u001b[38;5;241;43m2\u001b[39;49m\u001b[43m,\u001b[49m\u001b[43m \u001b[49m\u001b[38;5;241;43m1\u001b[39;49m\u001b[43m]\u001b[49m\u001b[43m \u001b[49m\u001b[38;5;241;43m+\u001b[39;49m\u001b[43m \u001b[49m\u001b[38;5;241;43m10\u001b[39;49m\n",
      "\u001b[0;31mTypeError\u001b[0m: can only concatenate list (not \"int\") to list"
     ]
    }
   ],
   "source": [
    "[3, 4, 1, 2, 2, 1] + 10"
   ]
  },
  {
   "cell_type": "markdown",
   "id": "966d67e0",
   "metadata": {},
   "source": [
    "Что за глупый вопрос. Конечно, это ошибка.\n",
    "\n",
    "Но как насчет..."
   ]
  },
  {
   "cell_type": "code",
   "execution_count": 21,
   "id": "06ff0f6b",
   "metadata": {},
   "outputs": [
    {
     "data": {
      "text/plain": [
       "array([15, 12, 14, 14, 15, 14, 11, 11, 11, 12])"
      ]
     },
     "execution_count": 21,
     "metadata": {},
     "output_type": "execute_result"
    }
   ],
   "source": [
    "rolls + 10"
   ]
  },
  {
   "cell_type": "markdown",
   "id": "31df8b16",
   "metadata": {},
   "source": [
    "Мы могли бы подумать, что Python строго следит за тем, как ведут себя элементы его основного синтаксиса, такие как +, <, in, == или квадратные скобки для индексации и разбивки на части. Но на самом деле, это требует очень осторожного подхода. Когда вы определяете новый тип, вы можете выбрать, как для него работает сложение, или что означает, что объект этого типа равен чему-то другому.\n",
    "\n",
    "Разработчики списков решили, что добавление их к числам запрещено. Разработчики массивов numpy пошли другим путем (добавив номер к каждому элементу массива).\n",
    "\n",
    "Вот еще несколько примеров того, как массивы numpy неожиданно взаимодействуют с операторами Python (или, по крайней мере, отличаются от списков)."
   ]
  },
  {
   "cell_type": "code",
   "execution_count": 22,
   "id": "2808740b",
   "metadata": {},
   "outputs": [
    {
     "data": {
      "text/plain": [
       "array([False,  True, False, False, False, False,  True,  True,  True,\n",
       "        True])"
      ]
     },
     "execution_count": 22,
     "metadata": {},
     "output_type": "execute_result"
    }
   ],
   "source": [
    "# При каких показателях количество выпавших кубиков меньше или равно 3?\n",
    "rolls <= 3"
   ]
  },
  {
   "cell_type": "code",
   "execution_count": 23,
   "id": "a5b9549d",
   "metadata": {},
   "outputs": [
    {
     "name": "stdout",
     "output_type": "stream",
     "text": [
      "xlist = [[1, 2, 3], [2, 4, 6]]\n",
      "x =\n",
      "[[1 2 3]\n",
      " [2 4 6]]\n"
     ]
    }
   ],
   "source": [
    "xlist = [[1,2,3],[2,4,6],]\n",
    "# Создайте двумерный массив\n",
    "x = numpy.asarray(xlist)\n",
    "print(\"xlist = {}\\nx =\\n{}\".format(xlist, x))"
   ]
  },
  {
   "cell_type": "code",
   "execution_count": 24,
   "id": "0edcc2df",
   "metadata": {},
   "outputs": [
    {
     "data": {
      "text/plain": [
       "6"
      ]
     },
     "execution_count": 24,
     "metadata": {},
     "output_type": "execute_result"
    }
   ],
   "source": [
    "# Получаем последний элемент второй строки нашего массива numpy\n",
    "x[1,-1]"
   ]
  },
  {
   "cell_type": "code",
   "execution_count": 25,
   "id": "720a95d7",
   "metadata": {},
   "outputs": [
    {
     "ename": "TypeError",
     "evalue": "list indices must be integers or slices, not tuple",
     "output_type": "error",
     "traceback": [
      "\u001b[0;31m---------------------------------------------------------------------------\u001b[0m",
      "\u001b[0;31mTypeError\u001b[0m                                 Traceback (most recent call last)",
      "Input \u001b[0;32mIn [25]\u001b[0m, in \u001b[0;36m<cell line: 2>\u001b[0;34m()\u001b[0m\n\u001b[1;32m      1\u001b[0m \u001b[38;5;66;03m# Получаем последний элемент второго подсписка нашего вложенного списка?\u001b[39;00m\n\u001b[0;32m----> 2\u001b[0m \u001b[43mxlist\u001b[49m\u001b[43m[\u001b[49m\u001b[38;5;241;43m1\u001b[39;49m\u001b[43m,\u001b[49m\u001b[38;5;241;43m-\u001b[39;49m\u001b[38;5;241;43m1\u001b[39;49m\u001b[43m]\u001b[49m\n",
      "\u001b[0;31mTypeError\u001b[0m: list indices must be integers or slices, not tuple"
     ]
    }
   ],
   "source": [
    "# Получаем последний элемент второго подсписка нашего вложенного списка?\n",
    "xlist[1,-1]"
   ]
  },
  {
   "cell_type": "markdown",
   "id": "1127e9a1",
   "metadata": {},
   "source": [
    "тип ndarray в numpy предназначен для работы с многомерными данными, поэтому он определяет свою собственную логику индексации, позволяя нам индексировать с помощью кортежа, чтобы указать индекс в каждом измерении.\n",
    "\n",
    "Когда 1 + 1 не равно 2?\n",
    "\n",
    "Ситуация может стать еще более странной. Возможно, вы слышали (или даже использовали) о tensorflow, библиотеке Python, широко используемой для глубокого обучения. В ней широко используется перегрузка операторов."
   ]
  },
  {
   "cell_type": "code",
   "execution_count": 26,
   "id": "fb276d55",
   "metadata": {},
   "outputs": [
    {
     "ename": "ModuleNotFoundError",
     "evalue": "No module named 'tensorflow'",
     "output_type": "error",
     "traceback": [
      "\u001b[0;31m---------------------------------------------------------------------------\u001b[0m",
      "\u001b[0;31mModuleNotFoundError\u001b[0m                       Traceback (most recent call last)",
      "Input \u001b[0;32mIn [26]\u001b[0m, in \u001b[0;36m<cell line: 1>\u001b[0;34m()\u001b[0m\n\u001b[0;32m----> 1\u001b[0m \u001b[38;5;28;01mimport\u001b[39;00m \u001b[38;5;21;01mtensorflow\u001b[39;00m \u001b[38;5;28;01mas\u001b[39;00m \u001b[38;5;21;01mtf\u001b[39;00m\n\u001b[1;32m      2\u001b[0m \u001b[38;5;66;03m# Создайте две константы, каждая со значением 1\u001b[39;00m\n\u001b[1;32m      3\u001b[0m a \u001b[38;5;241m=\u001b[39m tf\u001b[38;5;241m.\u001b[39mconstant(\u001b[38;5;241m1\u001b[39m)\n",
      "\u001b[0;31mModuleNotFoundError\u001b[0m: No module named 'tensorflow'"
     ]
    }
   ],
   "source": [
    "import tensorflow as tf\n",
    "# Создайте две константы, каждая со значением 1\n",
    "a = tf.constant(1)\n",
    "b = tf.constant(1)\n",
    "# Сложите их вместе, чтобы получилось...\n",
    "a + b"
   ]
  },
  {
   "cell_type": "markdown",
   "id": "f486a1c0",
   "metadata": {},
   "source": [
    "a + b - это не 2, а (если цитировать документацию tensorflow)...\n",
    "\n",
    "символический дескриптор одного из выходных данных операции. Он не содержит значений выходных данных этой операции, но вместо этого предоставляет средство вычисления этих значений в TensorFlow tf.Session.\n",
    "Важно просто осознавать тот факт, что такого рода вещи возможны и что библиотеки часто используют перегрузку операторов неочевидными или кажущимися волшебными способами.\n",
    "\n",
    "Понимание того, как работают операторы Python при применении к целым числам, строкам и спискам, не гарантирует, что вы сможете сразу понять, что они делают при применении к тензору tensorflow, numpy ndarray или фреймворку данных pandas.\n",
    "\n",
    "Например, как только вы немного познакомитесь с фреймами данных, выражение, подобное приведенному ниже, начнет выглядеть привлекательно интуитивно понятным:"
   ]
  },
  {
   "cell_type": "code",
   "execution_count": 27,
   "id": "ba5ed4bf",
   "metadata": {},
   "outputs": [
    {
     "ename": "NameError",
     "evalue": "name 'df' is not defined",
     "output_type": "error",
     "traceback": [
      "\u001b[0;31m---------------------------------------------------------------------------\u001b[0m",
      "\u001b[0;31mNameError\u001b[0m                                 Traceback (most recent call last)",
      "Input \u001b[0;32mIn [27]\u001b[0m, in \u001b[0;36m<cell line: 2>\u001b[0;34m()\u001b[0m\n\u001b[1;32m      1\u001b[0m \u001b[38;5;66;03m# Найдите ряды с населением более 1 миллиона человек в Южной Америке.\u001b[39;00m\n\u001b[0;32m----> 2\u001b[0m \u001b[43mdf\u001b[49m[(df[\u001b[38;5;124m'\u001b[39m\u001b[38;5;124mpopulation\u001b[39m\u001b[38;5;124m'\u001b[39m] \u001b[38;5;241m>\u001b[39m \u001b[38;5;241m10\u001b[39m\u001b[38;5;241m*\u001b[39m\u001b[38;5;241m*\u001b[39m\u001b[38;5;241m6\u001b[39m) \u001b[38;5;241m&\u001b[39m (df[\u001b[38;5;124m'\u001b[39m\u001b[38;5;124mcontinent\u001b[39m\u001b[38;5;124m'\u001b[39m] \u001b[38;5;241m==\u001b[39m \u001b[38;5;124m'\u001b[39m\u001b[38;5;124mSouth America\u001b[39m\u001b[38;5;124m'\u001b[39m)]\n",
      "\u001b[0;31mNameError\u001b[0m: name 'df' is not defined"
     ]
    }
   ],
   "source": [
    "# Найдите ряды с населением более 1 миллиона человек в Южной Америке.\n",
    "df[(df['population'] > 10**6) & (df['continent'] == 'South America')]\n"
   ]
  },
  {
   "cell_type": "markdown",
   "id": "c3379483",
   "metadata": {},
   "source": [
    "Но почему это работает? В приведенном выше примере представлено примерно 5 различных перегруженных операторов. Что делает каждая из этих операций? Это может помочь узнать ответ, когда что-то начинает идти не так.\n",
    "\n",
    "Любопытно, как все это работает?\n",
    "\n",
    "Вы когда-нибудь вызывали help() или dirt() для объекта и задавались вопросом, что это за имена с двойным подчеркиванием?"
   ]
  },
  {
   "cell_type": "code",
   "execution_count": 28,
   "id": "9ffbf04a",
   "metadata": {},
   "outputs": [
    {
     "name": "stdout",
     "output_type": "stream",
     "text": [
      "['__add__', '__class__', '__class_getitem__', '__contains__', '__delattr__', '__delitem__', '__dir__', '__doc__', '__eq__', '__format__', '__ge__', '__getattribute__', '__getitem__', '__gt__', '__hash__', '__iadd__', '__imul__', '__init__', '__init_subclass__', '__iter__', '__le__', '__len__', '__lt__', '__mul__', '__ne__', '__new__', '__reduce__', '__reduce_ex__', '__repr__', '__reversed__', '__rmul__', '__setattr__', '__setitem__', '__sizeof__', '__str__', '__subclasshook__', 'append', 'clear', 'copy', 'count', 'extend', 'index', 'insert', 'pop', 'remove', 'reverse', 'sort']\n"
     ]
    }
   ],
   "source": [
    "print(dir(list))"
   ]
  },
  {
   "cell_type": "markdown",
   "id": "784d4d69",
   "metadata": {},
   "source": [
    "Оказывается, это напрямую связано с перегрузкой оператора.\n",
    "\n",
    "Когда программисты на Python хотят определить, как операторы ведут себя в своих типах, они делают это, реализуя методы со специальными именами, начинающимися и заканчивающимися двумя символами подчеркивания, такими как __lt__, __setattr__ или __contains__. Как правило, имена, которые следуют этому формату с двойным подчеркиванием, имеют особое значение для Python.\n",
    "\n",
    "Так, например, выражение x в [1, 2, 3] на самом деле вызывает метод списка __contains__ за кадром. Это эквивалентно (гораздо более уродливому) [1, 2, 3].__содержит__(x).\n",
    "\n",
    "Если вам интересно узнать больше, вы можете ознакомиться с официальной документацией Python, в которой описано еще много-много таких специальных методов \"подчеркивания\".\n",
    "\n",
    "На этих уроках мы не будем определять свои собственные типы (если бы только было время!), но я надеюсь, что позже вы испытаете радость от определения своих собственных замечательных, странных типов."
   ]
  },
  {
   "cell_type": "markdown",
   "id": "4ab698b4",
   "metadata": {},
   "source": [
    "# Ваша очередь!\n",
    "Переходите к заключительному упражнению по кодированию, где вас ждет еще один раунд вопросов по кодированию, связанных с импортом, работой с незнакомыми объектами и, конечно же, с азартными играми."
   ]
  }
 ],
 "metadata": {
  "kernelspec": {
   "display_name": "Python 3 (ipykernel)",
   "language": "python",
   "name": "python3"
  },
  "language_info": {
   "codemirror_mode": {
    "name": "ipython",
    "version": 3
   },
   "file_extension": ".py",
   "mimetype": "text/x-python",
   "name": "python",
   "nbconvert_exporter": "python",
   "pygments_lexer": "ipython3",
   "version": "3.9.12"
  }
 },
 "nbformat": 4,
 "nbformat_minor": 5
}
