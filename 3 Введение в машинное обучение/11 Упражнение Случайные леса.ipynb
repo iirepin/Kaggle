{
 "cells": [
  {
   "cell_type": "markdown",
   "id": "08fb0341",
   "metadata": {},
   "source": [
    "Эта тетрадь представляет собой упражнение из курса \"Введение в машинное обучение\". Вы можете ознакомиться с учебным пособием по этой ссылке."
   ]
  },
  {
   "cell_type": "markdown",
   "id": "6418a26a",
   "metadata": {},
   "source": [
    "# Резюмировать\n",
    "\n",
    "Вот код, который вы написали до сих пор."
   ]
  },
  {
   "cell_type": "code",
   "execution_count": null,
   "id": "fd892692",
   "metadata": {},
   "outputs": [],
   "source": [
    "# Код, который вы ранее использовали для загрузки данных\n",
    "import pandas as pd\n",
    "from sklearn.metrics import mean_absolute_error\n",
    "from sklearn.model_selection import train_test_split\n",
    "from sklearn.tree import DecisionTreeRegressor\n",
    "\n",
    "\n",
    "# Путь к файлу для чтения\n",
    "iowa_file_path = '../input/home-data-for-ml-course/train.csv'\n",
    "\n",
    "home_data = pd.read_csv(iowa_file_path)\n",
    "# Создайте целевой объект и назовите его y\n",
    "y = home_data.SalePrice\n",
    "# Создать X\n",
    "features = ['LotArea', 'YearBuilt', '1stFlrSF', '2ndFlrSF', 'FullBath', 'BedroomAbvGr', 'TotRmsAbvGrd']\n",
    "X = home_data[features]\n",
    "\n",
    "# Разделить на данные для проверки и обучения\n",
    "train_X, val_X, train_y, val_y = train_test_split(X, y, random_state=1)\n",
    "\n",
    "# Укажите модель\n",
    "iowa_model = DecisionTreeRegressor(random_state=1)\n",
    "# Подходящая модель\n",
    "iowa_model.fit(train_X, train_y)\n",
    "\n",
    "# Сделайте проверочные прогнозы и рассчитайте среднюю абсолютную погрешность\n",
    "val_predictions = iowa_model.predict(val_X)\n",
    "val_mae = mean_absolute_error(val_predictions, val_y)\n",
    "print(\"Validation MAE when not specifying max_leaf_nodes: {:,.0f}\".format(val_mae))\n",
    "\n",
    "# Использование наилучшего значения для max_leaf_nodes\n",
    "iowa_model = DecisionTreeRegressor(max_leaf_nodes=100, random_state=1)\n",
    "iowa_model.fit(train_X, train_y)\n",
    "val_predictions = iowa_model.predict(val_X)\n",
    "val_mae = mean_absolute_error(val_predictions, val_y)\n",
    "print(\"Validation MAE for best value of max_leaf_nodes: {:,.0f}\".format(val_mae))\n",
    "\n",
    "\n",
    "# Настройка проверки кода\n",
    "from learntools.core import binder\n",
    "binder.bind(globals())\n",
    "from learntools.machine_learning.ex6 import *\n",
    "print(\"\\nSetup complete\")"
   ]
  },
  {
   "cell_type": "markdown",
   "id": "a30a3818",
   "metadata": {},
   "source": [
    "# Упражнения\n",
    "\n",
    "С обработкой данных не всегда все так просто. Но заменить дерево решений случайным лесом будет несложно."
   ]
  },
  {
   "cell_type": "markdown",
   "id": "891235c6",
   "metadata": {},
   "source": [
    "# Шаг 1: Используйте случайный лес¶"
   ]
  },
  {
   "cell_type": "code",
   "execution_count": null,
   "id": "2fb1f6d3",
   "metadata": {},
   "outputs": [],
   "source": [
    "from sklearn.ensemble import RandomForestRegressor\n",
    "\n",
    "# Определите модель. Установите значение random_state равным 1\n",
    "rf_model = ____\n",
    "\n",
    "# подходит для вашей модели\n",
    "____\n",
    "\n",
    "# Вычислите среднюю абсолютную погрешность вашей модели случайного леса на основе данных проверки\n",
    "rf_val_mae = ____\n",
    "\n",
    "print(\"Validation MAE for Random Forest Model: {}\".format(rf_val_mae))\n",
    "\n",
    "# Проверьте свой ответ\n",
    "step_1.check()"
   ]
  },
  {
   "cell_type": "markdown",
   "id": "8143fd5d",
   "metadata": {},
   "source": [
    "До сих пор вы следовали конкретным инструкциям на каждом этапе вашего проекта. Это помогло усвоить ключевые идеи и создать вашу первую модель, но теперь вы знаете достаточно, чтобы попробовать все самостоятельно.\n",
    "\n",
    "Соревнования по машинному обучению - отличный способ опробовать свои собственные идеи и узнать больше, самостоятельно управляя проектом машинного обучения.\n",
    "\n",
    "# продолжай\n",
    "\n",
    "Вы готовы к соревнованиям по машинному обучению."
   ]
  }
 ],
 "metadata": {
  "kernelspec": {
   "display_name": "Python 3 (ipykernel)",
   "language": "python",
   "name": "python3"
  },
  "language_info": {
   "codemirror_mode": {
    "name": "ipython",
    "version": 3
   },
   "file_extension": ".py",
   "mimetype": "text/x-python",
   "name": "python",
   "nbconvert_exporter": "python",
   "pygments_lexer": "ipython3",
   "version": "3.9.12"
  }
 },
 "nbformat": 4,
 "nbformat_minor": 5
}
