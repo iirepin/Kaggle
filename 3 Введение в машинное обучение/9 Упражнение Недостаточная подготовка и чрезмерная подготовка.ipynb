{
 "cells": [
  {
   "cell_type": "markdown",
   "id": "78795c75",
   "metadata": {},
   "source": [
    "# Резюмировать\n",
    "\n",
    "Вы построили свою первую модель, и теперь пришло время оптимизировать размер дерева для получения более точных прогнозов. Запустите эту ячейку, чтобы настроить среду программирования с того места, на котором был остановлен предыдущий шаг."
   ]
  },
  {
   "cell_type": "code",
   "execution_count": null,
   "id": "c7fad427",
   "metadata": {},
   "outputs": [],
   "source": [
    "# Code you have previously used to load data\n",
    "import pandas as pd\n",
    "from sklearn.metrics import mean_absolute_error\n",
    "from sklearn.model_selection import train_test_split\n",
    "from sklearn.tree import DecisionTreeRegressor\n",
    "\n",
    "\n",
    "# Path of the file to read\n",
    "iowa_file_path = '../input/home-data-for-ml-course/train.csv'\n",
    "\n",
    "home_data = pd.read_csv(iowa_file_path)\n",
    "# Create target object and call it y\n",
    "y = home_data.SalePrice\n",
    "# Create X\n",
    "features = ['LotArea', 'YearBuilt', '1stFlrSF', '2ndFlrSF', 'FullBath', 'BedroomAbvGr', 'TotRmsAbvGrd']\n",
    "X = home_data[features]\n",
    "\n",
    "# Split into validation and training data\n",
    "train_X, val_X, train_y, val_y = train_test_split(X, y, random_state=1)\n",
    "\n",
    "# Specify Model\n",
    "iowa_model = DecisionTreeRegressor(random_state=1)\n",
    "# Fit Model\n",
    "iowa_model.fit(train_X, train_y)\n",
    "\n",
    "# Make validation predictions and calculate mean absolute error\n",
    "val_predictions = iowa_model.predict(val_X)\n",
    "val_mae = mean_absolute_error(val_predictions, val_y)\n",
    "print(\"Validation MAE: {:,.0f}\".format(val_mae))\n",
    "\n",
    "# Set up code checking\n",
    "from learntools.core import binder\n",
    "binder.bind(globals())\n",
    "from learntools.machine_learning.ex5 import *\n",
    "print(\"\\nSetup complete\")"
   ]
  },
  {
   "cell_type": "markdown",
   "id": "271bca50",
   "metadata": {},
   "source": [
    "# Упражнения\n",
    "\n",
    "Вы могли бы написать функцию get_make самостоятельно. На данный момент мы предоставим ее. Это та же функция, о которой вы читали в предыдущем уроке. Просто запустите ячейку ниже."
   ]
  },
  {
   "cell_type": "code",
   "execution_count": null,
   "id": "119387fb",
   "metadata": {},
   "outputs": [],
   "source": [
    "def get_mae(max_leaf_nodes, train_X, val_X, train_y, val_y):\n",
    "    model = DecisionTreeRegressor(max_leaf_nodes=max_leaf_nodes, random_state=0)\n",
    "    model.fit(train_X, train_y)\n",
    "    preds_val = model.predict(val_X)\n",
    "    mae = mean_absolute_error(val_y, preds_val)\n",
    "    return(mae)"
   ]
  },
  {
   "cell_type": "markdown",
   "id": "f063504c",
   "metadata": {},
   "source": [
    "# Шаг 1: Сравните разные размеры дерева\n",
    "\n",
    "Напишите цикл, который проверяет следующие значения для max_leaf_nodes из набора возможных значений.\n",
    "\n",
    "Вызовите функцию get_may для каждого значения max_leaf_nodes. Сохраните выходные данные таким образом, чтобы вы могли выбрать значение max_leaf_nodes, которое дает наиболее точную модель для ваших данных."
   ]
  },
  {
   "cell_type": "code",
   "execution_count": null,
   "id": "3e1b3659",
   "metadata": {},
   "outputs": [],
   "source": [
    "candidate_max_leaf_nodes = [5, 25, 50, 100, 250, 500]\n",
    "# Write loop to find the ideal tree size from candidate_max_leaf_nodes\n",
    "_\n",
    "\n",
    "# Store the best value of max_leaf_nodes (it will be either 5, 25, 50, 100, 250 or 500)\n",
    "best_tree_size = ____"
   ]
  },
  {
   "cell_type": "markdown",
   "id": "5c65d180",
   "metadata": {},
   "source": [
    "# Шаг 2: Подгонка модели с использованием всех данных\n",
    "\n",
    "Вы знаете оптимальный размер дерева. Если бы вы собирались применять эту модель на практике, вы бы сделали ее еще более точной, используя все данные и сохраняя этот размер дерева. То есть теперь, когда вы приняли все свои решения по моделированию, вам не нужно хранить данные проверки."
   ]
  },
  {
   "cell_type": "code",
   "execution_count": null,
   "id": "b181522f",
   "metadata": {},
   "outputs": [],
   "source": [
    "# Fill in argument to make optimal size and uncomment\n",
    "# final_model = DecisionTreeRegressor(____)\n",
    "\n",
    "# fit the final model and uncomment the next two lines\n",
    "# final_model.fit(____, ____)"
   ]
  },
  {
   "cell_type": "markdown",
   "id": "89384a21",
   "metadata": {},
   "source": [
    "Вы изменили эту модель и улучшили свои результаты. Но мы по-прежнему используем модели дерева принятия решений, которые не очень сложны по современным стандартам машинного обучения. На следующем этапе вы научитесь использовать случайные леса для еще большего улучшения ваших моделей.\n",
    "\n",
    "# продолжай\n",
    "\n",
    "Вы готовы к случайным лесам."
   ]
  }
 ],
 "metadata": {
  "kernelspec": {
   "display_name": "Python 3 (ipykernel)",
   "language": "python",
   "name": "python3"
  },
  "language_info": {
   "codemirror_mode": {
    "name": "ipython",
    "version": 3
   },
   "file_extension": ".py",
   "mimetype": "text/x-python",
   "name": "python",
   "nbconvert_exporter": "python",
   "pygments_lexer": "ipython3",
   "version": "3.9.12"
  }
 },
 "nbformat": 4,
 "nbformat_minor": 5
}
